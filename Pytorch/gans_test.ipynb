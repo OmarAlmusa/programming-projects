{
 "cells": [
  {
   "cell_type": "code",
   "execution_count": 1,
   "metadata": {},
   "outputs": [],
   "source": [
    "import torch\n",
    "import torch.nn as nn\n",
    "import numpy as np\n",
    "import torchvision\n",
    "from torchvision import datasets, transforms"
   ]
  },
  {
   "cell_type": "code",
   "execution_count": 2,
   "metadata": {},
   "outputs": [],
   "source": [
    "import os"
   ]
  },
  {
   "cell_type": "code",
   "execution_count": 9,
   "metadata": {},
   "outputs": [],
   "source": [
    "data_path = os.getcwd()"
   ]
  },
  {
   "cell_type": "code",
   "execution_count": 10,
   "metadata": {},
   "outputs": [
    {
     "data": {
      "text/plain": [
       "'C:\\\\Users\\\\An_asus\\\\Desktop\\\\Programming\\\\JupyterNotebook\\\\pytorch\\\\data'"
      ]
     },
     "execution_count": 10,
     "metadata": {},
     "output_type": "execute_result"
    }
   ],
   "source": [
    "data_path"
   ]
  },
  {
   "cell_type": "code",
   "execution_count": 17,
   "metadata": {},
   "outputs": [
    {
     "name": "stdout",
     "output_type": "stream",
     "text": [
      "Files already downloaded and verified\n",
      "Files already downloaded and verified\n"
     ]
    }
   ],
   "source": [
    "train_data = datasets.CIFAR10(root = data_path, download=True, train=True, transform=transforms.Compose(\n",
    "                                                                                        [transforms.ToTensor(),\n",
    "                                                                                        ]\n",
    "))\n",
    "test_data = datasets.CIFAR10(root = data_path, download =True, train=False, transform=transforms.Compose(\n",
    "                                                                                        [transforms.ToTensor(),\n",
    "                                                                                        ]))"
   ]
  },
  {
   "cell_type": "code",
   "execution_count": 12,
   "metadata": {},
   "outputs": [],
   "source": [
    "from torch.utils.data import DataLoader"
   ]
  },
  {
   "cell_type": "code",
   "execution_count": 87,
   "metadata": {},
   "outputs": [],
   "source": [
    "train_loader = DataLoader(train_data, batch_size=16, shuffle=True)\n",
    "test_loader = DataLoader(test_data, batch_size=16, shuffle=True)"
   ]
  },
  {
   "cell_type": "code",
   "execution_count": 67,
   "metadata": {},
   "outputs": [],
   "source": [
    "class NoiseGen(nn.Module):\n",
    "    def __init__(self, noise_channel, conv_channel):\n",
    "        super(NoiseGen, self).__init__()\n",
    "        self.Gen = nn.Sequential(self._block(noise_channel, conv_channel, 3, 2, 0),\n",
    "                                 self._block(conv_channel, int(conv_channel/2), 3, 2, 0),\n",
    "                                 self._block(int(conv_channel/2), int(conv_channel/4), 3, 2, 0),\n",
    "                                 self._block(int(conv_channel/4), 3, 4, 2, 0))\n",
    "    \n",
    "    def _block(self, in_channels, out_channels, kernel_size, stride, padding):\n",
    "        return nn.Sequential(nn.ConvTranspose2d(in_channels, out_channels, int(kernel_size), stride, padding),\n",
    "                             nn.BatchNorm2d(out_channels),\n",
    "                             nn.ReLU())\n",
    "    def forward(self, t):\n",
    "        return self.Gen(t)"
   ]
  },
  {
   "cell_type": "code",
   "execution_count": 88,
   "metadata": {},
   "outputs": [
    {
     "data": {
      "text/plain": [
       "torch.Size([16, 3, 32, 32])"
      ]
     },
     "execution_count": 88,
     "metadata": {},
     "output_type": "execute_result"
    }
   ],
   "source": [
    "_, _2 = next(iter(train_loader))\n",
    "_.shape"
   ]
  },
  {
   "cell_type": "code",
   "execution_count": 69,
   "metadata": {},
   "outputs": [],
   "source": [
    "Gen_test = NoiseGen(128, 32).to('cuda')"
   ]
  },
  {
   "cell_type": "code",
   "execution_count": 90,
   "metadata": {},
   "outputs": [],
   "source": [
    "criterion = nn.MSELoss()\n",
    "\n",
    "optimizer = torch.optim.Adam(Gen_test.parameters(), lr=1e-5)"
   ]
  },
  {
   "cell_type": "code",
   "execution_count": 91,
   "metadata": {},
   "outputs": [],
   "source": [
    "for epoch in range(5):\n",
    "    for imgs, labels in train_loader:\n",
    "        imgs = imgs.to('cuda')\n",
    "        noise = torch.randn(16, 128, 1, 1).to('cuda')\n",
    "        \n",
    "        scores = Gen_test(noise)\n",
    "        \n",
    "        loss = criterion(scores, imgs)\n",
    "        \n",
    "        optimizer.zero_grad()\n",
    "        \n",
    "        loss.backward()\n",
    "        \n",
    "        optimizer.step()"
   ]
  },
  {
   "cell_type": "code",
   "execution_count": 92,
   "metadata": {},
   "outputs": [],
   "source": [
    "import matplotlib.pyplot as plt"
   ]
  },
  {
   "cell_type": "code",
   "execution_count": 99,
   "metadata": {},
   "outputs": [
    {
     "data": {
      "text/plain": [
       "NoiseGen(\n",
       "  (Gen): Sequential(\n",
       "    (0): Sequential(\n",
       "      (0): ConvTranspose2d(128, 32, kernel_size=(3, 3), stride=(2, 2))\n",
       "      (1): BatchNorm2d(32, eps=1e-05, momentum=0.1, affine=True, track_running_stats=True)\n",
       "      (2): ReLU()\n",
       "    )\n",
       "    (1): Sequential(\n",
       "      (0): ConvTranspose2d(32, 16, kernel_size=(3, 3), stride=(2, 2))\n",
       "      (1): BatchNorm2d(16, eps=1e-05, momentum=0.1, affine=True, track_running_stats=True)\n",
       "      (2): ReLU()\n",
       "    )\n",
       "    (2): Sequential(\n",
       "      (0): ConvTranspose2d(16, 8, kernel_size=(3, 3), stride=(2, 2))\n",
       "      (1): BatchNorm2d(8, eps=1e-05, momentum=0.1, affine=True, track_running_stats=True)\n",
       "      (2): ReLU()\n",
       "    )\n",
       "    (3): Sequential(\n",
       "      (0): ConvTranspose2d(8, 3, kernel_size=(4, 4), stride=(2, 2))\n",
       "      (1): BatchNorm2d(3, eps=1e-05, momentum=0.1, affine=True, track_running_stats=True)\n",
       "      (2): ReLU()\n",
       "    )\n",
       "  )\n",
       ")"
      ]
     },
     "execution_count": 99,
     "metadata": {},
     "output_type": "execute_result"
    }
   ],
   "source": [
    "Gen_test.to('cpu')"
   ]
  },
  {
   "cell_type": "code",
   "execution_count": 110,
   "metadata": {},
   "outputs": [
    {
     "name": "stdout",
     "output_type": "stream",
     "text": [
      "tensor([[0.8324]])\n"
     ]
    },
    {
     "data": {
      "text/plain": [
       "<matplotlib.image.AxesImage at 0x1a951181c08>"
      ]
     },
     "execution_count": 110,
     "metadata": {},
     "output_type": "execute_result"
    },
    {
     "data": {
      "image/png": "[encoded data removed]",
      "text/plain": [
       "<Figure size 432x288 with 1 Axes>"
      ]
     },
     "metadata": {
      "needs_background": "light"
     },
     "output_type": "display_data"
    }
   ],
   "source": [
    "noise = torch.randn(16, 128, 1, 1)\n",
    "print(noise[0][0])\n",
    "img_test = Gen_test(noise)[0].mean(0)\n",
    "plt.imshow(img_test.detach().numpy(), cmap='gray')"
   ]
  },
  {
   "cell_type": "code",
   "execution_count": 138,
   "metadata": {},
   "outputs": [
    {
     "name": "stderr",
     "output_type": "stream",
     "text": [
      "C:\\Users\\An_asus\\Anaconda3\\lib\\site-packages\\ipykernel_launcher.py:1: UserWarning: To copy construct from a tensor, it is recommended to use sourceTensor.clone().detach() or sourceTensor.clone().detach().requires_grad_(True), rather than torch.tensor(sourceTensor).\n",
      "  \"\"\"Entry point for launching an IPython kernel.\n"
     ]
    },
    {
     "data": {
      "text/plain": [
       "tensor([[[[-0.0602,  0.0431,  0.0597],\n",
       "          [ 0.0520, -0.0513,  0.0223],\n",
       "          [-0.0654, -0.0221, -0.0329]],\n",
       "\n",
       "         [[-0.0013, -0.0056, -0.0010],\n",
       "          [ 0.0469,  0.0654,  0.0467],\n",
       "          [-0.0052,  0.0481,  0.0397]],\n",
       "\n",
       "         [[ 0.0506, -0.0502,  0.0407],\n",
       "          [ 0.0074, -0.0368,  0.0255],\n",
       "          [-0.0359, -0.0341, -0.0450]],\n",
       "\n",
       "         ...,\n",
       "\n",
       "         [[-0.0390, -0.0365, -0.0008],\n",
       "          [ 0.0133,  0.0088, -0.0047],\n",
       "          [-0.0107, -0.0058, -0.0498]],\n",
       "\n",
       "         [[-0.0363,  0.0251,  0.0466],\n",
       "          [ 0.0410,  0.0322, -0.0465],\n",
       "          [ 0.0290, -0.0341, -0.0074]],\n",
       "\n",
       "         [[-0.0017, -0.0456, -0.0422],\n",
       "          [ 0.0365, -0.0475, -0.0287],\n",
       "          [-0.0143,  0.0491, -0.0493]]],\n",
       "\n",
       "\n",
       "        [[[ 0.0075,  0.0222,  0.0095],\n",
       "          [ 0.0632,  0.0223,  0.0343],\n",
       "          [-0.0503,  0.0328,  0.0228]],\n",
       "\n",
       "         [[ 0.0453,  0.0176,  0.0052],\n",
       "          [ 0.0328,  0.0442, -0.0492],\n",
       "          [-0.0449,  0.0329, -0.0064]],\n",
       "\n",
       "         [[-0.0324, -0.0368, -0.0059],\n",
       "          [-0.0027, -0.0040, -0.0419],\n",
       "          [-0.0187,  0.0683,  0.0328]],\n",
       "\n",
       "         ...,\n",
       "\n",
       "         [[-0.0203,  0.0350, -0.0426],\n",
       "          [-0.0603, -0.0441, -0.0565],\n",
       "          [-0.0448,  0.0525, -0.0290]],\n",
       "\n",
       "         [[ 0.0070,  0.0438,  0.0537],\n",
       "          [ 0.0152,  0.0257,  0.0527],\n",
       "          [ 0.0142, -0.0147, -0.0398]],\n",
       "\n",
       "         [[ 0.0396, -0.0086,  0.0402],\n",
       "          [-0.0379, -0.0440, -0.0133],\n",
       "          [ 0.0047, -0.0249, -0.0597]]],\n",
       "\n",
       "\n",
       "        [[[-0.0458,  0.0209, -0.0443],\n",
       "          [ 0.0207,  0.0328,  0.0485],\n",
       "          [ 0.0103,  0.0417, -0.0083]],\n",
       "\n",
       "         [[-0.0164,  0.0407, -0.0270],\n",
       "          [-0.0459,  0.0144,  0.0032],\n",
       "          [ 0.0041,  0.0085, -0.0393]],\n",
       "\n",
       "         [[ 0.0450,  0.0609, -0.0026],\n",
       "          [ 0.0368,  0.0100, -0.0403],\n",
       "          [ 0.0401, -0.0386, -0.0016]],\n",
       "\n",
       "         ...,\n",
       "\n",
       "         [[ 0.0150, -0.0505, -0.0190],\n",
       "          [ 0.0546, -0.0558,  0.0380],\n",
       "          [ 0.0229, -0.0370,  0.0349]],\n",
       "\n",
       "         [[ 0.0099,  0.0291, -0.0251],\n",
       "          [ 0.0111,  0.0316, -0.0320],\n",
       "          [ 0.0151, -0.0234, -0.0134]],\n",
       "\n",
       "         [[ 0.0160,  0.0162, -0.0153],\n",
       "          [ 0.0060, -0.0333,  0.0339],\n",
       "          [-0.0014, -0.0339, -0.0595]]],\n",
       "\n",
       "\n",
       "        ...,\n",
       "\n",
       "\n",
       "        [[[ 0.0297,  0.0373,  0.0020],\n",
       "          [-0.0487,  0.0070,  0.0328],\n",
       "          [-0.0170,  0.0550,  0.0435]],\n",
       "\n",
       "         [[-0.0123,  0.0235,  0.0286],\n",
       "          [-0.0399,  0.0422, -0.0332],\n",
       "          [ 0.0546, -0.0516,  0.0522]],\n",
       "\n",
       "         [[ 0.0223,  0.0026, -0.0326],\n",
       "          [-0.0158, -0.0279, -0.0226],\n",
       "          [-0.0250,  0.0238, -0.0515]],\n",
       "\n",
       "         ...,\n",
       "\n",
       "         [[-0.0117, -0.0423,  0.0334],\n",
       "          [ 0.0033, -0.0544,  0.0374],\n",
       "          [-0.0489, -0.0150, -0.0053]],\n",
       "\n",
       "         [[-0.0029,  0.0041,  0.0026],\n",
       "          [-0.0426, -0.0278,  0.0406],\n",
       "          [ 0.0006, -0.0481,  0.0236]],\n",
       "\n",
       "         [[-0.0478, -0.0621, -0.0235],\n",
       "          [-0.0149,  0.0019, -0.0011],\n",
       "          [ 0.0258,  0.0527, -0.0264]]],\n",
       "\n",
       "\n",
       "        [[[ 0.0514,  0.0258,  0.0009],\n",
       "          [-0.0391, -0.0256, -0.0087],\n",
       "          [ 0.0032,  0.0539,  0.0083]],\n",
       "\n",
       "         [[ 0.0314, -0.0090,  0.0309],\n",
       "          [-0.0422,  0.0439, -0.0129],\n",
       "          [-0.0461, -0.0003,  0.0059]],\n",
       "\n",
       "         [[ 0.0080, -0.0214, -0.0414],\n",
       "          [-0.0513,  0.0161,  0.0308],\n",
       "          [ 0.0224,  0.0116,  0.0193]],\n",
       "\n",
       "         ...,\n",
       "\n",
       "         [[ 0.0110, -0.0491, -0.0521],\n",
       "          [ 0.0378,  0.0067, -0.0307],\n",
       "          [-0.0146,  0.0021,  0.0340]],\n",
       "\n",
       "         [[ 0.0394,  0.0422,  0.0278],\n",
       "          [ 0.0075, -0.0177,  0.0009],\n",
       "          [ 0.0354, -0.0551, -0.0493]],\n",
       "\n",
       "         [[ 0.0013,  0.0122, -0.0061],\n",
       "          [ 0.0076,  0.0379,  0.0546],\n",
       "          [-0.0356,  0.0112, -0.0425]]],\n",
       "\n",
       "\n",
       "        [[[-0.0512,  0.0120,  0.0401],\n",
       "          [-0.0255, -0.0322, -0.0213],\n",
       "          [ 0.0405, -0.0442, -0.0290]],\n",
       "\n",
       "         [[ 0.0352, -0.0186, -0.0286],\n",
       "          [-0.0277,  0.0200,  0.0201],\n",
       "          [ 0.0189,  0.0250, -0.0495]],\n",
       "\n",
       "         [[ 0.0450, -0.0434,  0.0112],\n",
       "          [ 0.0456, -0.0483, -0.0037],\n",
       "          [ 0.0242,  0.0553,  0.0129]],\n",
       "\n",
       "         ...,\n",
       "\n",
       "         [[ 0.0180, -0.0028,  0.0207],\n",
       "          [-0.0006,  0.0538, -0.0034],\n",
       "          [-0.0576,  0.0443,  0.0110]],\n",
       "\n",
       "         [[ 0.0480,  0.0460,  0.0496],\n",
       "          [-0.0439, -0.0005,  0.0416],\n",
       "          [ 0.0452, -0.0529,  0.0050]],\n",
       "\n",
       "         [[-0.0448,  0.0485,  0.0568],\n",
       "          [-0.0063,  0.0027, -0.0119],\n",
       "          [ 0.0043,  0.0400,  0.0108]]]])"
      ]
     },
     "execution_count": 138,
     "metadata": {},
     "output_type": "execute_result"
    }
   ],
   "source": [
    "torch.tensor(Gen_test.Gen[0][0].weight.detach())"
   ]
  },
  {
   "cell_type": "code",
   "execution_count": null,
   "metadata": {},
   "outputs": [],
   "source": []
  }
 ],
 "metadata": {
  "kernelspec": {
   "display_name": "Python 3",
   "language": "python",
   "name": "python3"
  },
  "language_info": {
   "codemirror_mode": {
    "name": "ipython",
    "version": 3
   },
   "file_extension": ".py",
   "mimetype": "text/x-python",
   "name": "python",
   "nbconvert_exporter": "python",
   "pygments_lexer": "ipython3",
   "version": "3.7.4"
  }
 },
 "nbformat": 4,
 "nbformat_minor": 2
}
