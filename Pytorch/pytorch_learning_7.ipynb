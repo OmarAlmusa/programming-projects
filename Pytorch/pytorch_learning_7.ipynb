{
 "cells": [
  {
   "cell_type": "code",
   "execution_count": 1,
   "metadata": {},
   "outputs": [],
   "source": [
    "import torch\n",
    "import torch.nn as nn\n",
    "import torch.optim as optim\n",
    "from torchvision import datasets"
   ]
  },
  {
   "cell_type": "code",
   "execution_count": 2,
   "metadata": {},
   "outputs": [],
   "source": [
    "import os"
   ]
  },
  {
   "cell_type": "code",
   "execution_count": 5,
   "metadata": {},
   "outputs": [],
   "source": [
    "os.chdir('data')"
   ]
  },
  {
   "cell_type": "code",
   "execution_count": 8,
   "metadata": {},
   "outputs": [],
   "source": [
    "data_path = os.getcwd()"
   ]
  },
  {
   "cell_type": "code",
   "execution_count": 9,
   "metadata": {},
   "outputs": [
    {
     "data": {
      "text/plain": [
       "'C:\\\\Users\\\\An_asus\\\\Desktop\\\\Programming\\\\JupyterNotebook\\\\pytorch\\\\data'"
      ]
     },
     "execution_count": 9,
     "metadata": {},
     "output_type": "execute_result"
    }
   ],
   "source": [
    "data_path"
   ]
  },
  {
   "cell_type": "code",
   "execution_count": 10,
   "metadata": {},
   "outputs": [
    {
     "name": "stdout",
     "output_type": "stream",
     "text": [
      "Downloading https://www.cs.toronto.edu/~kriz/cifar-10-python.tar.gz to C:\\Users\\An_asus\\Desktop\\Programming\\JupyterNotebook\\pytorch\\data\\cifar-10-python.tar.gz\n"
     ]
    },
    {
     "data": {
      "application/vnd.jupyter.widget-view+json": {
       "model_id": "687f216d644342fca8819373b40c5fda",
       "version_major": 2,
       "version_minor": 0
      },
      "text/plain": [
       "HBox(children=(IntProgress(value=0, max=170498071), HTML(value='')))"
      ]
     },
     "metadata": {},
     "output_type": "display_data"
    },
    {
     "name": "stdout",
     "output_type": "stream",
     "text": [
      "\n",
      "Extracting C:\\Users\\An_asus\\Desktop\\Programming\\JupyterNotebook\\pytorch\\data\\cifar-10-python.tar.gz to C:\\Users\\An_asus\\Desktop\\Programming\\JupyterNotebook\\pytorch\\data\n",
      "Files already downloaded and verified\n"
     ]
    }
   ],
   "source": [
    "cifar10 = datasets.CIFAR10(data_path, train=True, download=True)\n",
    "cifar10_val = datasets.CIFAR10(data_path, train=False, download=True)"
   ]
  },
  {
   "cell_type": "code",
   "execution_count": 11,
   "metadata": {},
   "outputs": [
    {
     "data": {
      "text/plain": [
       "50000"
      ]
     },
     "execution_count": 11,
     "metadata": {},
     "output_type": "execute_result"
    }
   ],
   "source": [
    "len(cifar10)"
   ]
  },
  {
   "cell_type": "code",
   "execution_count": 12,
   "metadata": {},
   "outputs": [
    {
     "data": {
      "text/plain": [
       "10000"
      ]
     },
     "execution_count": 12,
     "metadata": {},
     "output_type": "execute_result"
    }
   ],
   "source": [
    "len(cifar10_val)"
   ]
  },
  {
   "cell_type": "code",
   "execution_count": 17,
   "metadata": {},
   "outputs": [],
   "source": [
    "class_names = ['airplane', 'automobile', 'bird', 'cat', 'deer', 'dog', 'frog', 'horse', 'ship', 'truck']"
   ]
  },
  {
   "cell_type": "code",
   "execution_count": 19,
   "metadata": {},
   "outputs": [],
   "source": [
    "img, label = cifar10[99]"
   ]
  },
  {
   "cell_type": "code",
   "execution_count": 20,
   "metadata": {},
   "outputs": [
    {
     "data": {
      "text/plain": [
       "(<PIL.Image.Image image mode=RGB size=32x32 at 0x17013F51708>, 1, 'automobile')"
      ]
     },
     "execution_count": 20,
     "metadata": {},
     "output_type": "execute_result"
    }
   ],
   "source": [
    "img, label, class_names[label]"
   ]
  },
  {
   "cell_type": "code",
   "execution_count": 21,
   "metadata": {},
   "outputs": [],
   "source": [
    "import matplotlib.pyplot as plt"
   ]
  },
  {
   "cell_type": "code",
   "execution_count": 23,
   "metadata": {},
   "outputs": [
    {
     "data": {
      "image/png": "[encoded data removed]",
      "text/plain": [
       "<Figure size 432x288 with 1 Axes>"
      ]
     },
     "metadata": {
      "needs_background": "light"
     },
     "output_type": "display_data"
    }
   ],
   "source": [
    "plt.imshow(img)\n",
    "plt.show()"
   ]
  },
  {
   "cell_type": "code",
   "execution_count": 24,
   "metadata": {},
   "outputs": [],
   "source": [
    "from torchvision import transforms"
   ]
  },
  {
   "cell_type": "code",
   "execution_count": 29,
   "metadata": {},
   "outputs": [],
   "source": [
    "to_tensor = transforms.ToTensor()"
   ]
  },
  {
   "cell_type": "code",
   "execution_count": 30,
   "metadata": {},
   "outputs": [],
   "source": [
    "img_t = to_tensor(img)"
   ]
  },
  {
   "cell_type": "code",
   "execution_count": 32,
   "metadata": {},
   "outputs": [
    {
     "data": {
      "text/plain": [
       "torch.Size([3, 32, 32])"
      ]
     },
     "execution_count": 32,
     "metadata": {},
     "output_type": "execute_result"
    }
   ],
   "source": [
    "img_t.shape"
   ]
  },
  {
   "cell_type": "code",
   "execution_count": 33,
   "metadata": {},
   "outputs": [],
   "source": [
    "tensor_cifar10 = datasets.CIFAR10(data_path, train=True, download=False,\n",
    "                                 transform=transforms.ToTensor())"
   ]
  },
  {
   "cell_type": "code",
   "execution_count": 35,
   "metadata": {},
   "outputs": [],
   "source": [
    "img_t, _ = tensor_cifar10[99]"
   ]
  },
  {
   "cell_type": "code",
   "execution_count": 38,
   "metadata": {},
   "outputs": [
    {
     "data": {
      "text/plain": [
       "torch.Size([3, 32, 32])"
      ]
     },
     "execution_count": 38,
     "metadata": {},
     "output_type": "execute_result"
    }
   ],
   "source": [
    "img_t.shape"
   ]
  },
  {
   "cell_type": "code",
   "execution_count": 39,
   "metadata": {},
   "outputs": [
    {
     "data": {
      "text/plain": [
       "(tensor(0.), tensor(1.))"
      ]
     },
     "execution_count": 39,
     "metadata": {},
     "output_type": "execute_result"
    }
   ],
   "source": [
    "img_t.min(), img_t.max()"
   ]
  },
  {
   "cell_type": "code",
   "execution_count": 41,
   "metadata": {},
   "outputs": [
    {
     "data": {
      "image/png": "[encoded data removed]",
      "text/plain": [
       "<Figure size 432x288 with 1 Axes>"
      ]
     },
     "metadata": {
      "needs_background": "light"
     },
     "output_type": "display_data"
    }
   ],
   "source": [
    "plt.imshow(img_t.permute(1, 2, 0))\n",
    "plt.show()"
   ]
  },
  {
   "cell_type": "code",
   "execution_count": 46,
   "metadata": {},
   "outputs": [
    {
     "data": {
      "text/plain": [
       "torch.Size([3, 32, 32, 50000])"
      ]
     },
     "execution_count": 46,
     "metadata": {},
     "output_type": "execute_result"
    }
   ],
   "source": [
    "imgs = torch.stack([img_t for img_t, _ in tensor_cifar10], dim=3)\n",
    "imgs.shape"
   ]
  },
  {
   "cell_type": "code",
   "execution_count": 55,
   "metadata": {},
   "outputs": [
    {
     "data": {
      "text/plain": [
       "tensor([0.4914, 0.4822, 0.4465])"
      ]
     },
     "execution_count": 55,
     "metadata": {},
     "output_type": "execute_result"
    }
   ],
   "source": [
    "imgs.view(3, -1).mean(dim=1)"
   ]
  },
  {
   "cell_type": "code",
   "execution_count": 56,
   "metadata": {},
   "outputs": [
    {
     "data": {
      "text/plain": [
       "tensor([0.2470, 0.2435, 0.2616])"
      ]
     },
     "execution_count": 56,
     "metadata": {},
     "output_type": "execute_result"
    }
   ],
   "source": [
    "imgs.view(3, -1).std(dim=1)"
   ]
  },
  {
   "cell_type": "code",
   "execution_count": 57,
   "metadata": {},
   "outputs": [
    {
     "data": {
      "text/plain": [
       "Normalize(mean=(0.4914, 0.4822, 0.4465), std=(0.247, 0.2435, 0.2616))"
      ]
     },
     "execution_count": 57,
     "metadata": {},
     "output_type": "execute_result"
    }
   ],
   "source": [
    "transforms.Normalize((0.4914, 0.4822, 0.4465), (0.2470, 0.2435, 0.2616))"
   ]
  },
  {
   "cell_type": "code",
   "execution_count": 58,
   "metadata": {},
   "outputs": [],
   "source": [
    "transformed_cifar10 = datasets.CIFAR10(data_path, train=True, download=False,\n",
    "                            transform = transforms.Compose([\n",
    "                                transforms.ToTensor(),\n",
    "                                transforms.Normalize((0.4914, 0.4822, 0.4465),\n",
    "                                                     (0.2470, 0.2435, 0.2616))\n",
    "                            ])\n",
    "                        )"
   ]
  },
  {
   "cell_type": "code",
   "execution_count": 87,
   "metadata": {},
   "outputs": [],
   "source": [
    "transformed_cifar10_val = datasets.CIFAR10(data_path, train=False, download=False,\n",
    "                            transform = transforms.Compose([\n",
    "                                transforms.ToTensor(),\n",
    "                                transforms.Normalize((0.4914, 0.4822, 0.4465),\n",
    "                                                     (0.2470, 0.2435, 0.2616))\n",
    "                            ])\n",
    "                        )"
   ]
  },
  {
   "cell_type": "code",
   "execution_count": 60,
   "metadata": {},
   "outputs": [
    {
     "name": "stderr",
     "output_type": "stream",
     "text": [
      "Clipping input data to the valid range for imshow with RGB data ([0..1] for floats or [0..255] for integers).\n"
     ]
    },
    {
     "data": {
      "image/png": "[encoded data removed]",
      "text/plain": [
       "<Figure size 432x288 with 1 Axes>"
      ]
     },
     "metadata": {
      "needs_background": "light"
     },
     "output_type": "display_data"
    }
   ],
   "source": [
    "img_t, _ = transformed_cifar10[99]\n",
    "\n",
    "plt.imshow(img_t.permute(1, 2, 0))\n",
    "plt.show()"
   ]
  },
  {
   "cell_type": "code",
   "execution_count": 61,
   "metadata": {},
   "outputs": [
    {
     "data": {
      "text/plain": [
       "['airplane',\n",
       " 'automobile',\n",
       " 'bird',\n",
       " 'cat',\n",
       " 'deer',\n",
       " 'dog',\n",
       " 'frog',\n",
       " 'horse',\n",
       " 'ship',\n",
       " 'truck']"
      ]
     },
     "execution_count": 61,
     "metadata": {},
     "output_type": "execute_result"
    }
   ],
   "source": [
    "class_names"
   ]
  },
  {
   "cell_type": "code",
   "execution_count": 88,
   "metadata": {},
   "outputs": [],
   "source": [
    "label_map = {0: 0, 2 : 1}\n",
    "class_names_cifar2 = ['airplane', 'bird']\n",
    "\n",
    "cifar2 = [(img, label_map[label]) for img, label in transformed_cifar10 if label in [0, 2]]\n",
    "\n",
    "cifar2_val = [(img, label_map[label]) for img, label in transformed_cifar10_val if label in [0, 2]]"
   ]
  },
  {
   "cell_type": "code",
   "execution_count": 66,
   "metadata": {},
   "outputs": [],
   "source": [
    "def softmax(x):\n",
    "    return torch.exp(x) / torch.exp(x).sum()"
   ]
  },
  {
   "cell_type": "code",
   "execution_count": 72,
   "metadata": {},
   "outputs": [
    {
     "data": {
      "text/plain": [
       "tensor([[2.4712e-03, 9.9642e-01, 1.1090e-03],\n",
       "        [1.0000e+00, 1.3950e-08, 3.8057e-06]])"
      ]
     },
     "execution_count": 72,
     "metadata": {},
     "output_type": "execute_result"
    }
   ],
   "source": [
    "x = torch.tensor([[0.123533, 6.123, -.6777],\n",
    "                  [19, 0.9122, 6.521]])\n",
    "\n",
    "softmax(x)"
   ]
  },
  {
   "cell_type": "code",
   "execution_count": 76,
   "metadata": {},
   "outputs": [],
   "source": [
    "softmax = nn.Softmax(dim=1)"
   ]
  },
  {
   "cell_type": "code",
   "execution_count": 77,
   "metadata": {},
   "outputs": [
    {
     "data": {
      "text/plain": [
       "tensor([[2.4712e-03, 9.9642e-01, 1.1090e-03],\n",
       "        [1.0000e+00, 1.3950e-08, 3.8057e-06]])"
      ]
     },
     "execution_count": 77,
     "metadata": {},
     "output_type": "execute_result"
    }
   ],
   "source": [
    "softmax(x)"
   ]
  },
  {
   "cell_type": "code",
   "execution_count": 89,
   "metadata": {},
   "outputs": [
    {
     "name": "stderr",
     "output_type": "stream",
     "text": [
      "Clipping input data to the valid range for imshow with RGB data ([0..1] for floats or [0..255] for integers).\n"
     ]
    },
    {
     "data": {
      "image/png": "[encoded data removed]",
      "text/plain": [
       "<Figure size 432x288 with 1 Axes>"
      ]
     },
     "metadata": {
      "needs_background": "light"
     },
     "output_type": "display_data"
    }
   ],
   "source": [
    "img, _ = cifar2[0]\n",
    "\n",
    "plt.imshow(img.permute(1,2,0))\n",
    "\n",
    "plt.show()"
   ]
  },
  {
   "cell_type": "code",
   "execution_count": 94,
   "metadata": {},
   "outputs": [],
   "source": [
    "img_batch = img.view(-1).unsqueeze(0)"
   ]
  },
  {
   "cell_type": "code",
   "execution_count": 95,
   "metadata": {},
   "outputs": [
    {
     "data": {
      "text/plain": [
       "tensor([[0.4393, 0.5607]], grad_fn=<SoftmaxBackward>)"
      ]
     },
     "execution_count": 95,
     "metadata": {},
     "output_type": "execute_result"
    }
   ],
   "source": [
    "out = seq_model(img_batch)\n",
    "out"
   ]
  },
  {
   "cell_type": "code",
   "execution_count": 99,
   "metadata": {},
   "outputs": [
    {
     "data": {
      "text/plain": [
       "tensor([1])"
      ]
     },
     "execution_count": 99,
     "metadata": {},
     "output_type": "execute_result"
    }
   ],
   "source": [
    "index = torch.argmax(out, dim=1)\n",
    "\n",
    "index"
   ]
  },
  {
   "cell_type": "code",
   "execution_count": 101,
   "metadata": {},
   "outputs": [],
   "source": [
    "criterion = nn.NLLLoss()"
   ]
  },
  {
   "cell_type": "code",
   "execution_count": 102,
   "metadata": {},
   "outputs": [
    {
     "data": {
      "text/plain": [
       "tensor(0.7089, grad_fn=<NllLossBackward>)"
      ]
     },
     "execution_count": 102,
     "metadata": {},
     "output_type": "execute_result"
    }
   ],
   "source": [
    "img, label = cifar2[0]\n",
    "\n",
    "out = seq_model(img.view(-1).unsqueeze(0))\n",
    "\n",
    "criterion(out, torch.tensor([label]))"
   ]
  },
  {
   "cell_type": "code",
   "execution_count": 153,
   "metadata": {},
   "outputs": [],
   "source": [
    "learning_rate = 1e-3\n",
    "\n",
    "optimizer = optim.SGD(seq_model.parameters(), lr=learning_rate)"
   ]
  },
  {
   "cell_type": "code",
   "execution_count": 148,
   "metadata": {},
   "outputs": [],
   "source": [
    "n_epochs = 10"
   ]
  },
  {
   "cell_type": "code",
   "execution_count": 154,
   "metadata": {},
   "outputs": [],
   "source": [
    "seq_model = nn.Sequential(\n",
    "            nn.Linear(32*32*3, 512),\n",
    "            nn.Tanh(),\n",
    "            nn.Linear(512, 2),\n",
    "            nn.LogSoftmax(dim=1)\n",
    ").to('cuda')"
   ]
  },
  {
   "cell_type": "code",
   "execution_count": 155,
   "metadata": {},
   "outputs": [
    {
     "name": "stdout",
     "output_type": "stream",
     "text": [
      "Epoch: 0, Loss: 1.299348\n",
      "Epoch: 1, Loss: 1.299348\n",
      "Epoch: 2, Loss: 1.299348\n",
      "Epoch: 3, Loss: 1.299348\n",
      "Epoch: 4, Loss: 1.299348\n",
      "Epoch: 5, Loss: 1.299348\n",
      "Epoch: 6, Loss: 1.299348\n",
      "Epoch: 7, Loss: 1.299348\n",
      "Epoch: 8, Loss: 1.299348\n",
      "Epoch: 9, Loss: 1.299348\n"
     ]
    }
   ],
   "source": [
    "for epoch in range(n_epochs):\n",
    "    for img, label in cifar2:\n",
    "        img = img.to('cuda')\n",
    "        label = torch.tensor([label]).to('cuda')\n",
    "        \n",
    "        out = seq_model(img.view(-1).unsqueeze(0))\n",
    "        \n",
    "        loss = criterion(out, label)\n",
    "        \n",
    "        optimizer.zero_grad()\n",
    "        \n",
    "        loss.backward()\n",
    "        \n",
    "        optimizer.step()\n",
    "    \n",
    "    print(\"Epoch: %d, Loss: %f\" % (epoch, float(loss)))"
   ]
  },
  {
   "cell_type": "code",
   "execution_count": 156,
   "metadata": {},
   "outputs": [],
   "source": [
    "train_loader = torch.utils.data.DataLoader(cifar2, batch_size=64, shuffle=True)"
   ]
  },
  {
   "cell_type": "code",
   "execution_count": 166,
   "metadata": {},
   "outputs": [
    {
     "name": "stdout",
     "output_type": "stream",
     "text": [
      "Epoch: 0, Loss: 0.631710\n",
      "Epoch: 1, Loss: 0.611574\n",
      "Epoch: 2, Loss: 0.391519\n",
      "Epoch: 3, Loss: 0.246245\n",
      "Epoch: 4, Loss: 0.345660\n",
      "Epoch: 5, Loss: 0.310811\n",
      "Epoch: 6, Loss: 0.281890\n",
      "Epoch: 7, Loss: 0.369852\n",
      "Epoch: 8, Loss: 0.230519\n",
      "Epoch: 9, Loss: 0.296403\n",
      "Epoch: 10, Loss: 0.510833\n",
      "Epoch: 11, Loss: 0.495045\n",
      "Epoch: 12, Loss: 0.255248\n",
      "Epoch: 13, Loss: 0.364004\n",
      "Epoch: 14, Loss: 0.238532\n",
      "Epoch: 15, Loss: 0.354213\n",
      "Epoch: 16, Loss: 0.211912\n",
      "Epoch: 17, Loss: 0.448118\n",
      "Epoch: 18, Loss: 0.153883\n",
      "Epoch: 19, Loss: 0.127892\n",
      "Epoch: 20, Loss: 0.212138\n",
      "Epoch: 21, Loss: 0.346499\n",
      "Epoch: 22, Loss: 0.502575\n",
      "Epoch: 23, Loss: 0.228854\n",
      "Epoch: 24, Loss: 0.313813\n",
      "Epoch: 25, Loss: 0.607845\n",
      "Epoch: 26, Loss: 0.378897\n",
      "Epoch: 27, Loss: 0.356550\n",
      "Epoch: 28, Loss: 0.665416\n",
      "Epoch: 29, Loss: 0.416856\n",
      "Epoch: 30, Loss: 0.184586\n",
      "Epoch: 31, Loss: 0.186432\n",
      "Epoch: 32, Loss: 0.268782\n",
      "Epoch: 33, Loss: 0.057799\n",
      "Epoch: 34, Loss: 0.083409\n",
      "Epoch: 35, Loss: 0.264875\n",
      "Epoch: 36, Loss: 0.151231\n",
      "Epoch: 37, Loss: 0.175401\n",
      "Epoch: 38, Loss: 0.126220\n",
      "Epoch: 39, Loss: 0.087993\n",
      "Epoch: 40, Loss: 0.053183\n",
      "Epoch: 41, Loss: 0.059377\n",
      "Epoch: 42, Loss: 0.155484\n",
      "Epoch: 43, Loss: 0.131839\n",
      "Epoch: 44, Loss: 0.138740\n",
      "Epoch: 45, Loss: 0.056571\n",
      "Epoch: 46, Loss: 0.012825\n",
      "Epoch: 47, Loss: 0.013559\n",
      "Epoch: 48, Loss: 0.312661\n",
      "Epoch: 49, Loss: 0.279438\n",
      "Epoch: 50, Loss: 0.031084\n",
      "Epoch: 51, Loss: 0.009286\n",
      "Epoch: 52, Loss: 0.020019\n",
      "Epoch: 53, Loss: 0.025786\n",
      "Epoch: 54, Loss: 0.013192\n",
      "Epoch: 55, Loss: 0.007758\n",
      "Epoch: 56, Loss: 0.016702\n",
      "Epoch: 57, Loss: 0.009757\n",
      "Epoch: 58, Loss: 0.001835\n",
      "Epoch: 59, Loss: 0.048604\n",
      "Epoch: 60, Loss: 1.609567\n",
      "Epoch: 61, Loss: 0.020260\n",
      "Epoch: 62, Loss: 0.089675\n",
      "Epoch: 63, Loss: 0.008504\n",
      "Epoch: 64, Loss: 0.004863\n",
      "Epoch: 65, Loss: 0.005197\n",
      "Epoch: 66, Loss: 0.011097\n",
      "Epoch: 67, Loss: 0.003104\n",
      "Epoch: 68, Loss: 0.010237\n",
      "Epoch: 69, Loss: 0.001770\n",
      "Epoch: 70, Loss: 0.023810\n",
      "Epoch: 71, Loss: 0.019357\n",
      "Epoch: 72, Loss: 0.001721\n",
      "Epoch: 73, Loss: 0.004867\n",
      "Epoch: 74, Loss: 0.027343\n",
      "Epoch: 75, Loss: 0.001910\n",
      "Epoch: 76, Loss: 0.008324\n",
      "Epoch: 77, Loss: 0.005839\n",
      "Epoch: 78, Loss: 0.011750\n",
      "Epoch: 79, Loss: 0.000641\n",
      "Epoch: 80, Loss: 0.002301\n",
      "Epoch: 81, Loss: 0.002582\n",
      "Epoch: 82, Loss: 0.000338\n",
      "Epoch: 83, Loss: 0.010177\n",
      "Epoch: 84, Loss: 0.014337\n",
      "Epoch: 85, Loss: 0.003653\n",
      "Epoch: 86, Loss: 0.004958\n",
      "Epoch: 87, Loss: 0.002114\n",
      "Epoch: 88, Loss: 0.001284\n",
      "Epoch: 89, Loss: 0.002176\n",
      "Epoch: 90, Loss: 0.001542\n",
      "Epoch: 91, Loss: 0.005624\n",
      "Epoch: 92, Loss: 0.001731\n",
      "Epoch: 93, Loss: 0.000307\n",
      "Epoch: 94, Loss: 0.000730\n",
      "Epoch: 95, Loss: 0.001906\n",
      "Epoch: 96, Loss: 0.000283\n",
      "Epoch: 97, Loss: 0.003822\n",
      "Epoch: 98, Loss: 0.000774\n",
      "Epoch: 99, Loss: 0.000352\n"
     ]
    }
   ],
   "source": [
    "seq_model = nn.Sequential(\n",
    "nn.Linear(3072, 1024),\n",
    "nn.Tanh(),\n",
    "nn.Linear(1024, 512),\n",
    "nn.Tanh(),\n",
    "nn.Linear(512, 128),\n",
    "nn.Tanh(),\n",
    "nn.Linear(128, 2)).to('cuda')\n",
    "\n",
    "criterion = nn.CrossEntropyLoss()\n",
    "\n",
    "learning_rate = 1e-2\n",
    "\n",
    "optimizer = optim.SGD(seq_model.parameters(), lr=learning_rate)\n",
    "\n",
    "#criterion = nn.NLLLoss()\n",
    "\n",
    "n_epochs = 100\n",
    "\n",
    "for epoch in range(n_epochs):\n",
    "    for imgs, labels in train_loader:\n",
    "        imgs = imgs.to('cuda')\n",
    "        labels = labels.to('cuda')\n",
    "        \n",
    "        batch_size = imgs.shape[0]\n",
    "        \n",
    "        out = seq_model(imgs.view(batch_size, -1))\n",
    "        \n",
    "        loss = criterion(out, labels)\n",
    "        \n",
    "        optimizer.zero_grad()\n",
    "        \n",
    "        loss.backward()\n",
    "        \n",
    "        optimizer.step()\n",
    "    print(\"Epoch: %d, Loss: %f\" % (epoch, float(loss)))"
   ]
  },
  {
   "cell_type": "code",
   "execution_count": 167,
   "metadata": {},
   "outputs": [
    {
     "name": "stdout",
     "output_type": "stream",
     "text": [
      "Accuracy: 0.802500\n"
     ]
    }
   ],
   "source": [
    "val_loader = torch.utils.data.DataLoader(cifar2_val, batch_size=64, shuffle=False)\n",
    "\n",
    "correct = 0\n",
    "total = 0\n",
    "\n",
    "with torch.no_grad():\n",
    "    for imgs, labels in val_loader:\n",
    "        imgs = imgs.to('cuda')\n",
    "        labels = labels.to('cuda')\n",
    "        \n",
    "        batch_size = imgs.shape[0]\n",
    "        outputs = seq_model(imgs.view(batch_size, -1))\n",
    "        _, predicted = torch.max(outputs, dim=1)\n",
    "        total += labels.shape[0]\n",
    "        correct += int((predicted == labels).sum())\n",
    "        \n",
    "print(\"Accuracy: %f\" % (correct / total))"
   ]
  },
  {
   "cell_type": "code",
   "execution_count": 169,
   "metadata": {},
   "outputs": [
    {
     "data": {
      "text/plain": [
       "(3737474, [3145728, 1024, 524288, 512, 65536, 128, 256, 2])"
      ]
     },
     "execution_count": 169,
     "metadata": {},
     "output_type": "execute_result"
    }
   ],
   "source": [
    "numel_list = [p.numel()\n",
    "    for p in seq_model.parameters()\n",
    "    if p.requires_grad == True]\n",
    "sum(numel_list), numel_list"
   ]
  },
  {
   "cell_type": "code",
   "execution_count": null,
   "metadata": {},
   "outputs": [],
   "source": []
  }
 ],
 "metadata": {
  "kernelspec": {
   "display_name": "Python 3",
   "language": "python",
   "name": "python3"
  },
  "language_info": {
   "codemirror_mode": {
    "name": "ipython",
    "version": 3
   },
   "file_extension": ".py",
   "mimetype": "text/x-python",
   "name": "python",
   "nbconvert_exporter": "python",
   "pygments_lexer": "ipython3",
   "version": "3.7.4"
  }
 },
 "nbformat": 4,
 "nbformat_minor": 2
}
