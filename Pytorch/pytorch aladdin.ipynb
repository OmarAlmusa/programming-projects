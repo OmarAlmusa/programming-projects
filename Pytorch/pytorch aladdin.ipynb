{
 "cells": [
  {
   "cell_type": "code",
   "execution_count": 1,
   "metadata": {},
   "outputs": [],
   "source": [
    "import torch\n",
    "import torch.nn as nn\n",
    "import torch.optim as optim\n",
    "import torch.nn.functional as F\n",
    "from torchvision import datasets, transforms"
   ]
  },
  {
   "cell_type": "code",
   "execution_count": 2,
   "metadata": {},
   "outputs": [],
   "source": [
    "import os\n",
    "import numpy as np\n",
    "import matplotlib.pyplot as plt"
   ]
  },
  {
   "cell_type": "code",
   "execution_count": 4,
   "metadata": {},
   "outputs": [],
   "source": [
    "os.chdir('data')"
   ]
  },
  {
   "cell_type": "code",
   "execution_count": 5,
   "metadata": {},
   "outputs": [],
   "source": [
    "data_path = os.getcwd()"
   ]
  },
  {
   "cell_type": "code",
   "execution_count": 6,
   "metadata": {},
   "outputs": [
    {
     "name": "stdout",
     "output_type": "stream",
     "text": [
      "Files already downloaded and verified\n"
     ]
    }
   ],
   "source": [
    "train_cifar = datasets.CIFAR10(data_path, train=True, download=True, \n",
    "                             transform = transforms.Compose([\n",
    "                                 transforms.ToTensor()\n",
    "                                                            ]))"
   ]
  },
  {
   "cell_type": "code",
   "execution_count": 7,
   "metadata": {},
   "outputs": [
    {
     "name": "stdout",
     "output_type": "stream",
     "text": [
      "Files already downloaded and verified\n"
     ]
    }
   ],
   "source": [
    "val_cifar = datasets.CIFAR10(data_path, train=False, download=True,\n",
    "                             transform = transforms.Compose([\n",
    "                                 transforms.ToTensor()\n",
    "                                                            ]))"
   ]
  },
  {
   "cell_type": "code",
   "execution_count": 8,
   "metadata": {},
   "outputs": [],
   "source": [
    "train_loader = torch.utils.data.DataLoader(train_cifar, batch_size=64, shuffle=True)"
   ]
  },
  {
   "cell_type": "code",
   "execution_count": 9,
   "metadata": {},
   "outputs": [],
   "source": [
    "val_loader = torch.utils.data.DataLoader(val_cifar, batch_size=64, shuffle=True)"
   ]
  },
  {
   "cell_type": "code",
   "execution_count": 10,
   "metadata": {},
   "outputs": [],
   "source": [
    "def accuracy(loader, model):\n",
    "    if loader.dataset.train:\n",
    "        print(\"checking accuracy on training set:\")\n",
    "    else:\n",
    "        print(\"checking accuracy on validation set:\")\n",
    "        \n",
    "    num_correct = 0\n",
    "    num_samples = 0\n",
    "    model.eval()\n",
    "    \n",
    "    with torch.no_grad():\n",
    "        for imgs, labels in loader:\n",
    "            imgs = imgs.to('cuda')\n",
    "            labels = labels.to('cuda')\n",
    "            \n",
    "            imgs = imgs.squeeze(1)\n",
    "            scores = model(imgs)\n",
    "            \n",
    "            _, predictions = torch.max(scores, dim=1)\n",
    "            num_correct += (predictions==labels).sum()\n",
    "            num_samples += predictions.size(0)\n",
    "        print(f'got {num_correct} / {num_samples} with accuracy \\\n",
    "               {float(num_correct)/float(num_samples)*100:.2f}')\n",
    "    model.train()"
   ]
  },
  {
   "cell_type": "code",
   "execution_count": 51,
   "metadata": {},
   "outputs": [],
   "source": [
    "imgs, labels = next(iter(train_loader))"
   ]
  },
  {
   "cell_type": "code",
   "execution_count": 56,
   "metadata": {},
   "outputs": [
    {
     "data": {
      "text/plain": [
       "torch.Size([64, 28, 28])"
      ]
     },
     "execution_count": 56,
     "metadata": {},
     "output_type": "execute_result"
    }
   ],
   "source": [
    "imgs.squeeze(1).shape"
   ]
  },
  {
   "cell_type": "code",
   "execution_count": 61,
   "metadata": {},
   "outputs": [
    {
     "data": {
      "text/plain": [
       "64"
      ]
     },
     "execution_count": 61,
     "metadata": {},
     "output_type": "execute_result"
    }
   ],
   "source": [
    "imgs.squeeze(1).size(0)"
   ]
  },
  {
   "cell_type": "code",
   "execution_count": 70,
   "metadata": {},
   "outputs": [],
   "source": [
    "class RNN(nn.Module):\n",
    "    def __init__(self):\n",
    "        super(RNN, self).__init__()\n",
    "        \n",
    "        self.rnn = nn.RNN(input_size = 28, hidden_size = 256, num_layers=2, batch_first=True)\n",
    "        \n",
    "        self.fc = nn.Linear(256*28, 10)\n",
    "        \n",
    "    def forward(self, t):\n",
    "        h0 = torch.zeros(2, t.size(0), 256).to('cuda')\n",
    "        \n",
    "        #forward pass:\n",
    "        out, _ = self.rnn(t, h0)\n",
    "        out = out.reshape(out.shape[0], -1)\n",
    "        return self.fc(out)"
   ]
  },
  {
   "cell_type": "code",
   "execution_count": 71,
   "metadata": {},
   "outputs": [],
   "source": [
    "model = RNN().to('cuda')\n",
    "\n",
    "optimizer = optim.Adam(model.parameters(), lr=1e-3)\n",
    "\n",
    "loss_fn = nn.CrossEntropyLoss()"
   ]
  },
  {
   "cell_type": "code",
   "execution_count": 11,
   "metadata": {},
   "outputs": [],
   "source": [
    "def training_loop(n_epochs, model, optimizer, loss_fn, train_loader):\n",
    "    for epoch in range(1, n_epochs + 1):\n",
    "        train_loss = 0.0\n",
    "        num_samples = 0.0\n",
    "        for imgs, labels in train_loader:\n",
    "            imgs = imgs.to('cuda')\n",
    "            labels = labels.to('cuda')\n",
    "            \n",
    "            imgs = imgs.squeeze(1)\n",
    "            \n",
    "            scores = model(imgs)\n",
    "            \n",
    "            loss = loss_fn(scores, labels)\n",
    "            \n",
    "            optimizer.zero_grad()\n",
    "            \n",
    "            loss.backward()\n",
    "            \n",
    "            optimizer.step()\n",
    "            \n",
    "            train_loss += loss\n",
    "            num_samples += scores.size(0)\n",
    "        \n",
    "        print(f'{epoch} \\t loss: {loss / num_samples}')"
   ]
  },
  {
   "cell_type": "code",
   "execution_count": 73,
   "metadata": {},
   "outputs": [
    {
     "name": "stdout",
     "output_type": "stream",
     "text": [
      "1 \t loss: 2.434250518490444e-06\n",
      "2 \t loss: 1.3552023574447958e-06\n"
     ]
    }
   ],
   "source": [
    "training_loop(n_epochs = 2,\n",
    "              model = model,\n",
    "              optimizer = optimizer,\n",
    "              loss_fn = loss_fn,\n",
    "              train_loader = train_loader)"
   ]
  },
  {
   "cell_type": "code",
   "execution_count": 76,
   "metadata": {},
   "outputs": [
    {
     "name": "stdout",
     "output_type": "stream",
     "text": [
      "checking accuracy on training set:\n",
      "got 57909 / 60000 with accuracy                96.52\n",
      "checking accuracy on validation set:\n",
      "got 9617 / 10000 with accuracy                96.17\n"
     ]
    }
   ],
   "source": [
    "accuracy(loader=train_loader, model=model)\n",
    "accuracy(loader=val_loader, model=model)"
   ]
  },
  {
   "cell_type": "code",
   "execution_count": 79,
   "metadata": {},
   "outputs": [],
   "source": [
    "class GRU(nn.Module):\n",
    "    def __init__(self):\n",
    "        super(GRU, self).__init__()\n",
    "        \n",
    "        self.gru = nn.GRU(input_size = 28, hidden_size = 256, num_layers=2, batch_first=True)\n",
    "        \n",
    "        self.fc = nn.Linear(256*28, 10)\n",
    "        \n",
    "    def forward(self, t):\n",
    "        h0 = torch.zeros(2, t.size(0), 256).to('cuda')\n",
    "        \n",
    "        #forward pass:\n",
    "        out, _ = self.gru(t, h0)\n",
    "        out = out.reshape(out.shape[0], -1)\n",
    "        return self.fc(out)"
   ]
  },
  {
   "cell_type": "code",
   "execution_count": 80,
   "metadata": {},
   "outputs": [],
   "source": [
    "gru_model = GRU().to('cuda')\n",
    "\n",
    "gru_optimizer = optim.Adam(gru_model.parameters(), lr=1e-3)\n",
    "\n",
    "loss_fn = nn.CrossEntropyLoss()"
   ]
  },
  {
   "cell_type": "code",
   "execution_count": 83,
   "metadata": {},
   "outputs": [
    {
     "name": "stdout",
     "output_type": "stream",
     "text": [
      "1 \t loss: 2.595330443000421e-06\n",
      "2 \t loss: 2.255755333635534e-07\n"
     ]
    }
   ],
   "source": [
    "training_loop(n_epochs = 2,\n",
    "              model = gru_model,\n",
    "              optimizer = gru_optimizer,\n",
    "              loss_fn = loss_fn,\n",
    "              train_loader = train_loader)"
   ]
  },
  {
   "cell_type": "code",
   "execution_count": 84,
   "metadata": {},
   "outputs": [
    {
     "name": "stdout",
     "output_type": "stream",
     "text": [
      "checking accuracy on training set:\n",
      "got 59093 / 60000 with accuracy                98.49\n",
      "checking accuracy on validation set:\n",
      "got 9854 / 10000 with accuracy                98.54\n"
     ]
    }
   ],
   "source": [
    "accuracy(loader=train_loader, model=gru_model)\n",
    "accuracy(loader=val_loader, model=gru_model)"
   ]
  },
  {
   "cell_type": "code",
   "execution_count": 85,
   "metadata": {},
   "outputs": [],
   "source": [
    "class LSTM(nn.Module):\n",
    "    def __init__(self):\n",
    "        super(LSTM, self).__init__()\n",
    "        \n",
    "        self.lstm = nn.LSTM(input_size = 28, hidden_size = 256, num_layers=2, batch_first=True)\n",
    "        \n",
    "        self.fc = nn.Linear(256*28, 10)\n",
    "        \n",
    "    def forward(self, t):\n",
    "        h0 = torch.zeros(2, t.size(0), 256).to('cuda')\n",
    "        c0 = torch.zeros(2, t.size(0), 256).to('cuda')\n",
    "        \n",
    "        #forward pass:\n",
    "        out, _ = self.lstm(t, (h0, c0))\n",
    "        out = out.reshape(out.shape[0], -1)\n",
    "        return self.fc(out)"
   ]
  },
  {
   "cell_type": "code",
   "execution_count": 89,
   "metadata": {},
   "outputs": [],
   "source": [
    "lstm_model = LSTM().to('cuda')\n",
    "\n",
    "lstm_optimizer = optim.Adam(lstm_model.parameters(), lr=1e-3)\n",
    "\n",
    "loss_fn = nn.CrossEntropyLoss()"
   ]
  },
  {
   "cell_type": "code",
   "execution_count": 90,
   "metadata": {},
   "outputs": [
    {
     "name": "stdout",
     "output_type": "stream",
     "text": [
      "1 \t loss: 5.173962449589453e-07\n",
      "2 \t loss: 3.742273690932052e-08\n"
     ]
    }
   ],
   "source": [
    "training_loop(n_epochs = 2,\n",
    "              model = lstm_model,\n",
    "              optimizer = lstm_optimizer,\n",
    "              loss_fn = loss_fn,\n",
    "              train_loader = train_loader)"
   ]
  },
  {
   "cell_type": "code",
   "execution_count": 91,
   "metadata": {},
   "outputs": [
    {
     "name": "stdout",
     "output_type": "stream",
     "text": [
      "checking accuracy on training set:\n",
      "got 59085 / 60000 with accuracy                98.47\n",
      "checking accuracy on validation set:\n",
      "got 9839 / 10000 with accuracy                98.39\n"
     ]
    }
   ],
   "source": [
    "accuracy(loader=train_loader, model=lstm_model)\n",
    "accuracy(loader=val_loader, model=lstm_model)"
   ]
  },
  {
   "cell_type": "code",
   "execution_count": 12,
   "metadata": {},
   "outputs": [],
   "source": [
    "import torchvision"
   ]
  },
  {
   "cell_type": "code",
   "execution_count": 31,
   "metadata": {},
   "outputs": [
    {
     "name": "stdout",
     "output_type": "stream",
     "text": [
      "VGG(\n",
      "  (features): Sequential(\n",
      "    (0): Conv2d(3, 64, kernel_size=(3, 3), stride=(1, 1), padding=(1, 1))\n",
      "    (1): ReLU(inplace=True)\n",
      "    (2): Conv2d(64, 64, kernel_size=(3, 3), stride=(1, 1), padding=(1, 1))\n",
      "    (3): ReLU(inplace=True)\n",
      "    (4): MaxPool2d(kernel_size=2, stride=2, padding=0, dilation=1, ceil_mode=False)\n",
      "    (5): Conv2d(64, 128, kernel_size=(3, 3), stride=(1, 1), padding=(1, 1))\n",
      "    (6): ReLU(inplace=True)\n",
      "    (7): Conv2d(128, 128, kernel_size=(3, 3), stride=(1, 1), padding=(1, 1))\n",
      "    (8): ReLU(inplace=True)\n",
      "    (9): MaxPool2d(kernel_size=2, stride=2, padding=0, dilation=1, ceil_mode=False)\n",
      "    (10): Conv2d(128, 256, kernel_size=(3, 3), stride=(1, 1), padding=(1, 1))\n",
      "    (11): ReLU(inplace=True)\n",
      "    (12): Conv2d(256, 256, kernel_size=(3, 3), stride=(1, 1), padding=(1, 1))\n",
      "    (13): ReLU(inplace=True)\n",
      "    (14): Conv2d(256, 256, kernel_size=(3, 3), stride=(1, 1), padding=(1, 1))\n",
      "    (15): ReLU(inplace=True)\n",
      "    (16): MaxPool2d(kernel_size=2, stride=2, padding=0, dilation=1, ceil_mode=False)\n",
      "    (17): Conv2d(256, 512, kernel_size=(3, 3), stride=(1, 1), padding=(1, 1))\n",
      "    (18): ReLU(inplace=True)\n",
      "    (19): Conv2d(512, 512, kernel_size=(3, 3), stride=(1, 1), padding=(1, 1))\n",
      "    (20): ReLU(inplace=True)\n",
      "    (21): Conv2d(512, 512, kernel_size=(3, 3), stride=(1, 1), padding=(1, 1))\n",
      "    (22): ReLU(inplace=True)\n",
      "    (23): MaxPool2d(kernel_size=2, stride=2, padding=0, dilation=1, ceil_mode=False)\n",
      "    (24): Conv2d(512, 512, kernel_size=(3, 3), stride=(1, 1), padding=(1, 1))\n",
      "    (25): ReLU(inplace=True)\n",
      "    (26): Conv2d(512, 512, kernel_size=(3, 3), stride=(1, 1), padding=(1, 1))\n",
      "    (27): ReLU(inplace=True)\n",
      "    (28): Conv2d(512, 512, kernel_size=(3, 3), stride=(1, 1), padding=(1, 1))\n",
      "    (29): ReLU(inplace=True)\n",
      "    (30): MaxPool2d(kernel_size=2, stride=2, padding=0, dilation=1, ceil_mode=False)\n",
      "  )\n",
      "  (avgpool): AdaptiveAvgPool2d(output_size=(7, 7))\n",
      "  (classifier): Sequential(\n",
      "    (0): Linear(in_features=25088, out_features=4096, bias=True)\n",
      "    (1): ReLU(inplace=True)\n",
      "    (2): Dropout(p=0.5, inplace=False)\n",
      "    (3): Linear(in_features=4096, out_features=4096, bias=True)\n",
      "    (4): ReLU(inplace=True)\n",
      "    (5): Dropout(p=0.5, inplace=False)\n",
      "    (6): Linear(in_features=4096, out_features=1000, bias=True)\n",
      "  )\n",
      ")\n"
     ]
    }
   ],
   "source": [
    "vgg16_model = torchvision.models.vgg16(pretrained=True)\n",
    "print(vgg16_model)"
   ]
  },
  {
   "cell_type": "code",
   "execution_count": 32,
   "metadata": {},
   "outputs": [],
   "source": [
    "for param in vgg16_model.parameters():\n",
    "    param.requires_grad = False"
   ]
  },
  {
   "cell_type": "code",
   "execution_count": 34,
   "metadata": {},
   "outputs": [],
   "source": [
    "vgg16_model.classifier[6] = nn.Linear(4096, 10)"
   ]
  },
  {
   "cell_type": "code",
   "execution_count": 43,
   "metadata": {},
   "outputs": [
    {
     "data": {
      "text/plain": [
       "Linear(in_features=4096, out_features=10, bias=True)"
      ]
     },
     "execution_count": 43,
     "metadata": {},
     "output_type": "execute_result"
    }
   ],
   "source": [
    "vgg16_model.classifier[6]"
   ]
  },
  {
   "cell_type": "code",
   "execution_count": 45,
   "metadata": {},
   "outputs": [],
   "source": [
    "model = vgg16_model.to('cuda')"
   ]
  },
  {
   "cell_type": "code",
   "execution_count": 46,
   "metadata": {},
   "outputs": [],
   "source": [
    "loss_fn = nn.CrossEntropyLoss()\n",
    "\n",
    "optimizer = optim.Adam(model.parameters(), lr=1e-3)"
   ]
  },
  {
   "cell_type": "code",
   "execution_count": 47,
   "metadata": {},
   "outputs": [
    {
     "name": "stdout",
     "output_type": "stream",
     "text": [
      "1 \t loss: 2.4795570425339974e-05\n",
      "2 \t loss: 2.790836697386112e-05\n"
     ]
    }
   ],
   "source": [
    "training_loop(n_epochs=2, model=model, optimizer=optimizer, \n",
    "             loss_fn = loss_fn, train_loader = train_loader)"
   ]
  },
  {
   "cell_type": "code",
   "execution_count": 48,
   "metadata": {},
   "outputs": [
    {
     "name": "stdout",
     "output_type": "stream",
     "text": [
      "checking accuracy on training set:\n",
      "got 28687 / 50000 with accuracy                57.37\n",
      "checking accuracy on validation set:\n",
      "got 5508 / 10000 with accuracy                55.08\n"
     ]
    }
   ],
   "source": [
    "accuracy(train_loader, model)\n",
    "accuracy(val_loader, model)"
   ]
  },
  {
   "cell_type": "code",
   "execution_count": null,
   "metadata": {},
   "outputs": [],
   "source": []
  }
 ],
 "metadata": {
  "kernelspec": {
   "display_name": "Python 3",
   "language": "python",
   "name": "python3"
  },
  "language_info": {
   "codemirror_mode": {
    "name": "ipython",
    "version": 3
   },
   "file_extension": ".py",
   "mimetype": "text/x-python",
   "name": "python",
   "nbconvert_exporter": "python",
   "pygments_lexer": "ipython3",
   "version": "3.7.4"
  }
 },
 "nbformat": 4,
 "nbformat_minor": 2
}
