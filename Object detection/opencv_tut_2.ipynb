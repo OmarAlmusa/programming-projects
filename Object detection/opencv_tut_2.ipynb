{
 "cells": [
  {
   "cell_type": "code",
   "execution_count": 1,
   "id": "cb9d85ec",
   "metadata": {},
   "outputs": [],
   "source": [
    "import cv2 as cv\n",
    "import numpy as np"
   ]
  },
  {
   "cell_type": "code",
   "execution_count": 2,
   "id": "0c51cd6a",
   "metadata": {},
   "outputs": [],
   "source": [
    "blank = np.zeros([400, 400], dtype='uint8')\n",
    "\n",
    "circle = cv.circle(blank.copy(), center=(200, 200), radius = 200, color= 255, thickness=-1)\n",
    "rectanle = cv.rectangle(blank.copy(),(50, 50), (350, 350), color = 255, thickness=-1)"
   ]
  },
  {
   "cell_type": "code",
   "execution_count": 3,
   "id": "6fda096c",
   "metadata": {},
   "outputs": [
    {
     "data": {
      "text/plain": [
       "-1"
      ]
     },
     "execution_count": 3,
     "metadata": {},
     "output_type": "execute_result"
    }
   ],
   "source": [
    "cv.imshow('rectangle', rectanle)\n",
    "cv.imshow('circle', circle)\n",
    "\n",
    "cv.waitKey(0)"
   ]
  },
  {
   "cell_type": "code",
   "execution_count": 5,
   "id": "a0ae00f2",
   "metadata": {},
   "outputs": [
    {
     "data": {
      "text/plain": [
       "-1"
      ]
     },
     "execution_count": 5,
     "metadata": {},
     "output_type": "execute_result"
    }
   ],
   "source": [
    "bitwise_and = cv.bitwise_and(circle, rectanle)\n",
    "bitwise_or = cv.bitwise_or(circle, rectanle)\n",
    "\n",
    "bitwise_xor = cv.bitwise_xor(circle, rectanle)\n",
    "\n",
    "circle_not = cv.bitwise_not(circle)\n",
    "rectanle_not = cv.bitwise_not(rectanle)\n",
    "\n",
    "cv.imshow('bit_wise_and', bitwise_and)\n",
    "cv.imshow('bit_wise_or', bitwise_or)\n",
    "cv.imshow('bitwise_xor', bitwise_xor)\n",
    "cv.imshow('circle_not', circle_not)\n",
    "cv.imshow('ractanle_not', rectanle_not)\n",
    "\n",
    "cv.waitKey(0)"
   ]
  },
  {
   "cell_type": "code",
   "execution_count": null,
   "id": "98100b31",
   "metadata": {},
   "outputs": [],
   "source": []
  }
 ],
 "metadata": {
  "kernelspec": {
   "display_name": "Python 3 (ipykernel)",
   "language": "python",
   "name": "python3"
  },
  "language_info": {
   "codemirror_mode": {
    "name": "ipython",
    "version": 3
   },
   "file_extension": ".py",
   "mimetype": "text/x-python",
   "name": "python",
   "nbconvert_exporter": "python",
   "pygments_lexer": "ipython3",
   "version": "3.9.6"
  }
 },
 "nbformat": 4,
 "nbformat_minor": 5
}
