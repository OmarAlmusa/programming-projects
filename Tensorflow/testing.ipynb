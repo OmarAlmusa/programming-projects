{
 "cells": [
  {
   "cell_type": "code",
   "execution_count": 1,
   "id": "ca39cad8",
   "metadata": {},
   "outputs": [],
   "source": [
    "import tensorflow as tf"
   ]
  },
  {
   "cell_type": "code",
   "execution_count": 2,
   "id": "6ff67abc",
   "metadata": {},
   "outputs": [],
   "source": [
    "(x_train, y_train), (x_test, y_test) = tf.keras.datasets.mnist.load_data()"
   ]
  },
  {
   "cell_type": "code",
   "execution_count": 9,
   "id": "c47b91e0",
   "metadata": {},
   "outputs": [],
   "source": [
    "x_train_p = tf.cast(tf.reshape(x_train, (x_train.shape[0], 28*28)), dtype=tf.float32) / 255.0\n",
    "x_test_p = tf.cast(tf.reshape(x_test, (x_test.shape[0], 28*28)), dtype=tf.float32) / 255.0"
   ]
  },
  {
   "cell_type": "code",
   "execution_count": 11,
   "id": "1b6f3f2d",
   "metadata": {},
   "outputs": [
    {
     "data": {
      "text/plain": [
       "(TensorShape([60000, 784]), TensorShape([10000, 784]))"
      ]
     },
     "execution_count": 11,
     "metadata": {},
     "output_type": "execute_result"
    }
   ],
   "source": [
    "x_train_p.shape, x_test_p.shape"
   ]
  },
  {
   "cell_type": "code",
   "execution_count": 54,
   "id": "65bd8245",
   "metadata": {},
   "outputs": [
    {
     "name": "stdout",
     "output_type": "stream",
     "text": [
      "WARNING:tensorflow:Please add `keras.layers.InputLayer` instead of `keras.Input` to Sequential model. `keras.Input` is intended to be used by Functional model.\n",
      "Epoch 1/5\n",
      "1875/1875 [==============================] - 6s 3ms/step - loss: 2.0160 - categorical_accuracy: 0.1170\n",
      "Epoch 2/5\n",
      "1875/1875 [==============================] - 5s 3ms/step - loss: 20.4152 - categorical_accuracy: 0.1003\n",
      "Epoch 3/5\n",
      "1875/1875 [==============================] - 5s 3ms/step - loss: 45.7376 - categorical_accuracy: 0.0994\n",
      "Epoch 4/5\n",
      "1875/1875 [==============================] - 5s 3ms/step - loss: 73.1989 - categorical_accuracy: 0.0997\n",
      "Epoch 5/5\n",
      "1875/1875 [==============================] - 5s 3ms/step - loss: 86.4171 - categorical_accuracy: 0.1004\n"
     ]
    },
    {
     "data": {
      "text/plain": [
       "<tensorflow.python.keras.callbacks.History at 0x1f884e7c0a0>"
      ]
     },
     "execution_count": 54,
     "metadata": {},
     "output_type": "execute_result"
    }
   ],
   "source": [
    "model_f = tf.keras.Sequential([\n",
    "    tf.keras.layers.Input(shape=(28*28)),\n",
    "    tf.keras.layers.Dense(16, activation='relu'),\n",
    "    tf.keras.layers.Dense(16, activation='relu'),\n",
    "    tf.keras.layers.Dense(10, activation='softmax')\n",
    "])\n",
    "\n",
    "model_f.compile(loss = tf.keras.losses.categorical_crossentropy,\n",
    "                optimizer = tf.keras.optimizers.Adam(learning_rate = 0.01),\n",
    "                metrics = tf.keras.metrics.)\n",
    "\n",
    "model_f.fit(x=x_train_p, y=y_train_oht, batch_size=32, epochs=5)\n",
    "\n"
   ]
  },
  {
   "cell_type": "code",
   "execution_count": 50,
   "id": "8f0fe7a0",
   "metadata": {},
   "outputs": [
    {
     "name": "stdout",
     "output_type": "stream",
     "text": [
      "WARNING:tensorflow:Please add `keras.layers.InputLayer` instead of `keras.Input` to Sequential model. `keras.Input` is intended to be used by Functional model.\n",
      "Epoch 1/5\n",
      "1875/1875 [==============================] - 5s 3ms/step - loss: 0.2308 - accuracy: 0.0000e+00\n",
      "Epoch 2/5\n",
      "1875/1875 [==============================] - 5s 3ms/step - loss: 0.2299 - accuracy: 0.0000e+00\n",
      "Epoch 3/5\n",
      "1875/1875 [==============================] - 5s 3ms/step - loss: 0.2289 - accuracy: 2.1259e-08\n",
      "Epoch 4/5\n",
      "1875/1875 [==============================] - 5s 2ms/step - loss: 0.2279 - accuracy: 0.0000e+00\n",
      "Epoch 5/5\n",
      "1875/1875 [==============================] - 5s 3ms/step - loss: 0.2269 - accuracy: 2.1259e-08\n"
     ]
    },
    {
     "data": {
      "text/plain": [
       "<tensorflow.python.keras.callbacks.History at 0x1f8845c4ac0>"
      ]
     },
     "execution_count": 50,
     "metadata": {},
     "output_type": "execute_result"
    }
   ],
   "source": [
    "model_b = tf.keras.Sequential([\n",
    "    tf.keras.layers.Input(shape=(10)),\n",
    "    tf.keras.layers.Dense(16, activation='relu'),\n",
    "    tf.keras.layers.Dense(16, activation='relu'),\n",
    "    tf.keras.layers.Dense(28*28, activation='sigmoid'),\n",
    "])\n",
    "\n",
    "model_b.compile(loss = tf.keras.losses.mse,\n",
    "                optimizer = tf.keras.optimizers.SGD(learning_rate=0.01),\n",
    "                metrics = tf.keras.metrics.Accuracy())\n",
    "\n",
    "model_b.fit(x=y_train_oht, y=x_train_p, batch_size=32, epochs=5)"
   ]
  },
  {
   "cell_type": "code",
   "execution_count": 53,
   "id": "6ede9ec5",
   "metadata": {},
   "outputs": [
    {
     "data": {
      "text/plain": [
       "<matplotlib.image.AxesImage at 0x1f884be3490>"
      ]
     },
     "execution_count": 53,
     "metadata": {},
     "output_type": "execute_result"
    },
    {
     "data": {
      "image/png": "[encoded data removed]",
      "text/plain": [
       "<Figure size 432x288 with 1 Axes>"
      ]
     },
     "metadata": {
      "needs_background": "light"
     },
     "output_type": "display_data"
    }
   ],
   "source": [
    "pred = model_b.predict([[0., 0., 1., 0., 0., 0., 0., 0., 0., 0.]])\n",
    "import matplotlib.pyplot as plt\n",
    "plt.imshow(pred.reshape(28, 28))"
   ]
  },
  {
   "cell_type": "code",
   "execution_count": 29,
   "id": "d232757d",
   "metadata": {},
   "outputs": [
    {
     "data": {
      "text/plain": [
       "(60000, 10)"
      ]
     },
     "execution_count": 29,
     "metadata": {},
     "output_type": "execute_result"
    }
   ],
   "source": [
    "import numpy as np\n",
    "y_train_oht = np.zeros(shape= (y_train.shape[0], 10))\n",
    "y_train_oht.shape"
   ]
  },
  {
   "cell_type": "code",
   "execution_count": 34,
   "id": "23fe53a6",
   "metadata": {},
   "outputs": [],
   "source": [
    "for i in y_train:\n",
    "    y_train_oht[i][y_train[i]] = 1"
   ]
  },
  {
   "cell_type": "code",
   "execution_count": 55,
   "id": "38e2950f",
   "metadata": {},
   "outputs": [
    {
     "data": {
      "text/plain": [
       "(60000, 10)"
      ]
     },
     "execution_count": 55,
     "metadata": {},
     "output_type": "execute_result"
    }
   ],
   "source": [
    "y_train_oht.shape"
   ]
  },
  {
   "cell_type": "code",
   "execution_count": 39,
   "id": "f78ff73a",
   "metadata": {},
   "outputs": [
    {
     "data": {
      "text/plain": [
       "(10000, 10)"
      ]
     },
     "execution_count": 39,
     "metadata": {},
     "output_type": "execute_result"
    }
   ],
   "source": [
    "y_test_oht = np.zeros(shape = (y_test.shape[0], 10))\n",
    "y_test_oht.shape"
   ]
  },
  {
   "cell_type": "code",
   "execution_count": 40,
   "id": "711152c9",
   "metadata": {},
   "outputs": [],
   "source": [
    "for i in y_test:\n",
    "    y_test_oht[i][y_test[i]] = 1"
   ]
  },
  {
   "cell_type": "code",
   "execution_count": 41,
   "id": "e67a4b6d",
   "metadata": {},
   "outputs": [
    {
     "data": {
      "text/plain": [
       "array([[0., 0., 0., 0., 0., 0., 0., 1., 0., 0.],\n",
       "       [0., 0., 1., 0., 0., 0., 0., 0., 0., 0.],\n",
       "       [0., 1., 0., 0., 0., 0., 0., 0., 0., 0.],\n",
       "       [1., 0., 0., 0., 0., 0., 0., 0., 0., 0.],\n",
       "       [0., 0., 0., 0., 1., 0., 0., 0., 0., 0.],\n",
       "       [0., 1., 0., 0., 0., 0., 0., 0., 0., 0.],\n",
       "       [0., 0., 0., 0., 1., 0., 0., 0., 0., 0.],\n",
       "       [0., 0., 0., 0., 0., 0., 0., 0., 0., 1.],\n",
       "       [0., 0., 0., 0., 0., 1., 0., 0., 0., 0.]])"
      ]
     },
     "execution_count": 41,
     "metadata": {},
     "output_type": "execute_result"
    }
   ],
   "source": [
    "y_test_oht[:9][:]"
   ]
  },
  {
   "cell_type": "code",
   "execution_count": null,
   "id": "84cd9ef6",
   "metadata": {},
   "outputs": [],
   "source": []
  }
 ],
 "metadata": {
  "kernelspec": {
   "display_name": "Python 3",
   "language": "python",
   "name": "python3"
  },
  "language_info": {
   "codemirror_mode": {
    "name": "ipython",
    "version": 3
   },
   "file_extension": ".py",
   "mimetype": "text/x-python",
   "name": "python",
   "nbconvert_exporter": "python",
   "pygments_lexer": "ipython3",
   "version": "3.9.5"
  }
 },
 "nbformat": 4,
 "nbformat_minor": 5
}
