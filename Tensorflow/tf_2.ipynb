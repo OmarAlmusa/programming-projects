{
 "cells": [
  {
   "cell_type": "code",
   "execution_count": 1,
   "id": "752fad1e",
   "metadata": {},
   "outputs": [],
   "source": [
    "import tensorflow as tf\n",
    "import os\n",
    "\n",
    "os.environ['TF_CPP_MIN_LOG_LEVEL'] = '2'\n",
    "\n",
    "physical_devices = tf.config.list_physical_devices('GPU')\n",
    "tf.config.experimental.set_memory_growth(physical_devices[0], True)"
   ]
  },
  {
   "cell_type": "code",
   "execution_count": 2,
   "id": "ec2bf3fd",
   "metadata": {},
   "outputs": [],
   "source": [
    "(x_train, y_train), (x_test, y_test) = tf.keras.datasets.cifar10.load_data()"
   ]
  },
  {
   "cell_type": "code",
   "execution_count": 3,
   "id": "fe242aec",
   "metadata": {},
   "outputs": [],
   "source": [
    "x_train, x_test = x_train / 255.0, x_test / 255.0"
   ]
  },
  {
   "cell_type": "code",
   "execution_count": 11,
   "id": "bb6bcaf9",
   "metadata": {},
   "outputs": [
    {
     "name": "stdout",
     "output_type": "stream",
     "text": [
      "Epoch 1/10\n",
      "1563/1563 [==============================] - 18s 8ms/step - loss: 1.3666 - accuracy: 0.5123\n",
      "Epoch 2/10\n",
      "1563/1563 [==============================] - 12s 8ms/step - loss: 0.9712 - accuracy: 0.6587\n",
      "Epoch 3/10\n",
      "1563/1563 [==============================] - 13s 8ms/step - loss: 0.7992 - accuracy: 0.7217\n",
      "Epoch 4/10\n",
      "1563/1563 [==============================] - 13s 8ms/step - loss: 0.6660 - accuracy: 0.7700\n",
      "Epoch 5/10\n",
      "1563/1563 [==============================] - 13s 8ms/step - loss: 0.5540 - accuracy: 0.8115\n",
      "Epoch 6/10\n",
      "1563/1563 [==============================] - 13s 8ms/step - loss: 0.4595 - accuracy: 0.8438\n",
      "Epoch 7/10\n",
      "1563/1563 [==============================] - 13s 8ms/step - loss: 0.3741 - accuracy: 0.8766\n",
      "Epoch 8/10\n",
      "1563/1563 [==============================] - 13s 8ms/step - loss: 0.2974 - accuracy: 0.9045\n",
      "Epoch 9/10\n",
      "1563/1563 [==============================] - 13s 8ms/step - loss: 0.2384 - accuracy: 0.9259\n",
      "Epoch 10/10\n",
      "1563/1563 [==============================] - 13s 8ms/step - loss: 0.1894 - accuracy: 0.9421\n"
     ]
    },
    {
     "data": {
      "text/plain": [
       "<tensorflow.python.keras.callbacks.History at 0x23908275790>"
      ]
     },
     "execution_count": 11,
     "metadata": {},
     "output_type": "execute_result"
    }
   ],
   "source": [
    "model_input = tf.keras.layers.Input(shape = (32, 32, 3))\n",
    "x = tf.keras.layers.Conv2D(32, (3, 3))(model_input)\n",
    "x = tf.keras.layers.BatchNormalization()(x)\n",
    "x = tf.keras.activations.relu(x)\n",
    "x = tf.keras.layers.MaxPool2D()(x)\n",
    "\n",
    "x = tf.keras.layers.Conv2D(64, (5, 5))(x)\n",
    "x = tf.keras.layers.BatchNormalization()(x)\n",
    "x = tf.keras.activations.relu(x)\n",
    "\n",
    "x = tf.keras.layers.Conv2D(128, (7, 7))(x)\n",
    "x = tf.keras.layers.BatchNormalization()(x)\n",
    "x = tf.keras.activations.relu(x)\n",
    "\n",
    "x = tf.keras.layers.Flatten()(x)\n",
    "x = tf.keras.layers.Dense(128, activation = 'relu')(x)\n",
    "model_output = tf.keras.layers.Dense(10, activation = 'softmax')(x)\n",
    "\n",
    "cnn_model_0 = tf.keras.Model(inputs = model_input, outputs = model_output)\n",
    "\n",
    "cnn_model_0.compile(loss = tf.keras.losses.sparse_categorical_crossentropy,\n",
    "                    optimizer = tf.keras.optimizers.Adam(learning_rate = 0.0001),\n",
    "                    metrics = ['accuracy'])\n",
    "\n",
    "cnn_model_0.fit(x = x_train, y = y_train, batch_size = 32, epochs = 10)"
   ]
  },
  {
   "cell_type": "code",
   "execution_count": 12,
   "id": "6fbc032e",
   "metadata": {},
   "outputs": [
    {
     "name": "stdout",
     "output_type": "stream",
     "text": [
      "313/313 [==============================] - 2s 4ms/step - loss: 1.0444 - accuracy: 0.7032\n"
     ]
    },
    {
     "data": {
      "text/plain": [
       "[1.044358491897583, 0.7031999826431274]"
      ]
     },
     "execution_count": 12,
     "metadata": {},
     "output_type": "execute_result"
    }
   ],
   "source": [
    "cnn_model_0.evaluate(x=x_test, y=y_test, batch_size = 32)"
   ]
  },
  {
   "cell_type": "code",
   "execution_count": 14,
   "id": "caedbfb4",
   "metadata": {},
   "outputs": [
    {
     "name": "stdout",
     "output_type": "stream",
     "text": [
      "Epoch 1/10\n",
      "1563/1563 [==============================] - 16s 10ms/step - loss: 1.4910 - accuracy: 0.4605\n",
      "Epoch 2/10\n",
      "1563/1563 [==============================] - 15s 10ms/step - loss: 1.1169 - accuracy: 0.6066\n",
      "Epoch 3/10\n",
      "1563/1563 [==============================] - 15s 10ms/step - loss: 0.9586 - accuracy: 0.6620\n",
      "Epoch 4/10\n",
      "1563/1563 [==============================] - 14s 9ms/step - loss: 0.8518 - accuracy: 0.7000\n",
      "Epoch 5/10\n",
      "1563/1563 [==============================] - 14s 9ms/step - loss: 0.7687 - accuracy: 0.7313\n",
      "Epoch 6/10\n",
      "1563/1563 [==============================] - 15s 10ms/step - loss: 0.7012 - accuracy: 0.7547\n",
      "Epoch 7/10\n",
      "1563/1563 [==============================] - 15s 9ms/step - loss: 0.6449 - accuracy: 0.7766\n",
      "Epoch 8/10\n",
      "1563/1563 [==============================] - 14s 9ms/step - loss: 0.5880 - accuracy: 0.7951\n",
      "Epoch 9/10\n",
      "1563/1563 [==============================] - 15s 10ms/step - loss: 0.5389 - accuracy: 0.8119\n",
      "Epoch 10/10\n",
      "1563/1563 [==============================] - 16s 10ms/step - loss: 0.4950 - accuracy: 0.8300\n"
     ]
    },
    {
     "data": {
      "text/plain": [
       "<tensorflow.python.keras.callbacks.History at 0x2395935be50>"
      ]
     },
     "execution_count": 14,
     "metadata": {},
     "output_type": "execute_result"
    }
   ],
   "source": [
    "model_input = tf.keras.layers.Input(shape = (32, 32, 3))\n",
    "x = tf.keras.layers.Conv2D(32, (3, 3))(model_input)\n",
    "x = tf.keras.layers.Conv2D(32, (3, 3))(x)\n",
    "x = tf.keras.layers.BatchNormalization()(x)\n",
    "x = tf.keras.activations.relu(x)\n",
    "x = tf.keras.layers.MaxPool2D()(x)\n",
    "\n",
    "x = tf.keras.layers.Conv2D(64, (5, 5))(x)\n",
    "x = tf.keras.layers.Conv2D(64, (5, 5))(x)\n",
    "x = tf.keras.layers.BatchNormalization()(x)\n",
    "x = tf.keras.activations.relu(x)\n",
    "\n",
    "x = tf.keras.layers.Conv2D(128, (3, 3))(x)\n",
    "x = tf.keras.layers.Conv2D(128, (3, 3))(x)\n",
    "x = tf.keras.layers.BatchNormalization()(x)\n",
    "x = tf.keras.activations.relu(x)\n",
    "\n",
    "x = tf.keras.layers.Flatten()(x)\n",
    "x = tf.keras.layers.Dense(128, activation = 'relu')(x)\n",
    "model_output = tf.keras.layers.Dense(10, activation = 'softmax')(x)\n",
    "\n",
    "cnn_model_0 = tf.keras.Model(inputs = model_input, outputs = model_output)\n",
    "\n",
    "cnn_model_0.compile(loss = tf.keras.losses.sparse_categorical_crossentropy,\n",
    "                    optimizer = tf.keras.optimizers.Adam(learning_rate = 0.0001),\n",
    "                    metrics = ['accuracy'])\n",
    "\n",
    "cnn_model_0.fit(x = x_train, y = y_train, batch_size = 32, epochs = 10)"
   ]
  },
  {
   "cell_type": "code",
   "execution_count": 15,
   "id": "461eeb4f",
   "metadata": {},
   "outputs": [
    {
     "name": "stdout",
     "output_type": "stream",
     "text": [
      "313/313 [==============================] - 2s 5ms/step - loss: 0.9150 - accuracy: 0.7021\n"
     ]
    },
    {
     "data": {
      "text/plain": [
       "[0.9150241017341614, 0.7020999789237976]"
      ]
     },
     "execution_count": 15,
     "metadata": {},
     "output_type": "execute_result"
    }
   ],
   "source": [
    "cnn_model_0.evaluate(x=x_test, y=y_test, batch_size=32)"
   ]
  },
  {
   "cell_type": "code",
   "execution_count": 16,
   "id": "62e2cbf4",
   "metadata": {},
   "outputs": [
    {
     "name": "stdout",
     "output_type": "stream",
     "text": [
      "Epoch 1/10\n",
      "1563/1563 [==============================] - 17s 10ms/step - loss: 1.4728 - accuracy: 0.4692\n",
      "Epoch 2/10\n",
      "1563/1563 [==============================] - 17s 11ms/step - loss: 1.1083 - accuracy: 0.6072\n",
      "Epoch 3/10\n",
      "1563/1563 [==============================] - 16s 10ms/step - loss: 0.9585 - accuracy: 0.6617\n",
      "Epoch 4/10\n",
      "1563/1563 [==============================] - 18s 12ms/step - loss: 0.8525 - accuracy: 0.7007\n",
      "Epoch 5/10\n",
      "1563/1563 [==============================] - 18s 11ms/step - loss: 0.7739 - accuracy: 0.7283\n",
      "Epoch 6/10\n",
      "1563/1563 [==============================] - 16s 10ms/step - loss: 0.7041 - accuracy: 0.7521\n",
      "Epoch 7/10\n",
      "1563/1563 [==============================] - 18s 12ms/step - loss: 0.6472 - accuracy: 0.7750\n",
      "Epoch 8/10\n",
      "1563/1563 [==============================] - 16s 10ms/step - loss: 0.5931 - accuracy: 0.7931\n",
      "Epoch 9/10\n",
      "1563/1563 [==============================] - 17s 11ms/step - loss: 0.5419 - accuracy: 0.8117\n",
      "Epoch 10/10\n",
      "1563/1563 [==============================] - 17s 11ms/step - loss: 0.4966 - accuracy: 0.8285\n"
     ]
    },
    {
     "data": {
      "text/plain": [
       "<tensorflow.python.keras.callbacks.History at 0x23926be2be0>"
      ]
     },
     "execution_count": 16,
     "metadata": {},
     "output_type": "execute_result"
    }
   ],
   "source": [
    "model_input = tf.keras.layers.Input(shape = (32, 32, 3))\n",
    "x = tf.keras.layers.Conv2D(32, (3, 3))(model_input)\n",
    "x = tf.keras.layers.BatchNormalization()(x)\n",
    "x = tf.keras.layers.Conv2D(32, (3, 3))(x)\n",
    "x = tf.keras.layers.BatchNormalization()(x)\n",
    "x = tf.keras.activations.relu(x)\n",
    "x = tf.keras.layers.MaxPool2D()(x)\n",
    "\n",
    "x = tf.keras.layers.Conv2D(64, (5, 5))(x)\n",
    "x = tf.keras.layers.BatchNormalization()(x)\n",
    "x = tf.keras.layers.Conv2D(64, (5, 5))(x)\n",
    "x = tf.keras.layers.BatchNormalization()(x)\n",
    "x = tf.keras.activations.relu(x)\n",
    "\n",
    "x = tf.keras.layers.Conv2D(128, (3, 3))(x)\n",
    "x = tf.keras.layers.BatchNormalization()(x)\n",
    "x = tf.keras.layers.Conv2D(128, (3, 3))(x)\n",
    "x = tf.keras.layers.BatchNormalization()(x)\n",
    "x = tf.keras.activations.relu(x)\n",
    "\n",
    "x = tf.keras.layers.Flatten()(x)\n",
    "x = tf.keras.layers.Dense(128, activation = 'relu')(x)\n",
    "model_output = tf.keras.layers.Dense(10, activation = 'softmax')(x)\n",
    "\n",
    "cnn_model_0 = tf.keras.Model(inputs = model_input, outputs = model_output)\n",
    "\n",
    "cnn_model_0.compile(loss = tf.keras.losses.sparse_categorical_crossentropy,\n",
    "                    optimizer = tf.keras.optimizers.Adam(learning_rate = 0.0001),\n",
    "                    metrics = ['accuracy'])\n",
    "\n",
    "cnn_model_0.fit(x = x_train, y = y_train, batch_size = 32, epochs = 10)"
   ]
  },
  {
   "cell_type": "code",
   "execution_count": 17,
   "id": "c3b2aaef",
   "metadata": {},
   "outputs": [
    {
     "name": "stdout",
     "output_type": "stream",
     "text": [
      "313/313 [==============================] - 2s 6ms/step - loss: 0.8892 - accuracy: 0.7057\n"
     ]
    },
    {
     "data": {
      "text/plain": [
       "[0.8892256021499634, 0.7056999802589417]"
      ]
     },
     "execution_count": 17,
     "metadata": {},
     "output_type": "execute_result"
    }
   ],
   "source": [
    "cnn_model_0.evaluate(x=x_test, y=y_test, batch_size = 32)"
   ]
  },
  {
   "cell_type": "code",
   "execution_count": 18,
   "id": "cf47874d",
   "metadata": {},
   "outputs": [
    {
     "name": "stdout",
     "output_type": "stream",
     "text": [
      "Epoch 1/10\n",
      "1563/1563 [==============================] - 18s 11ms/step - loss: 1.5504 - accuracy: 0.4367\n",
      "Epoch 2/10\n",
      "1563/1563 [==============================] - 17s 11ms/step - loss: 1.1452 - accuracy: 0.5948\n",
      "Epoch 3/10\n",
      "1563/1563 [==============================] - 19s 12ms/step - loss: 0.9650 - accuracy: 0.6597\n",
      "Epoch 4/10\n",
      "1563/1563 [==============================] - 16s 10ms/step - loss: 0.8358 - accuracy: 0.7074\n",
      "Epoch 5/10\n",
      "1563/1563 [==============================] - 17s 11ms/step - loss: 0.7247 - accuracy: 0.7458\n",
      "Epoch 6/10\n",
      "1563/1563 [==============================] - 17s 11ms/step - loss: 0.6259 - accuracy: 0.7817\n",
      "Epoch 7/10\n",
      "1563/1563 [==============================] - 17s 11ms/step - loss: 0.5351 - accuracy: 0.8133\n",
      "Epoch 8/10\n",
      "1563/1563 [==============================] - 17s 11ms/step - loss: 0.4515 - accuracy: 0.8434\n",
      "Epoch 9/10\n",
      "1563/1563 [==============================] - 17s 11ms/step - loss: 0.3803 - accuracy: 0.8690\n",
      "Epoch 10/10\n",
      "1563/1563 [==============================] - 17s 11ms/step - loss: 0.3151 - accuracy: 0.8935\n"
     ]
    },
    {
     "data": {
      "text/plain": [
       "<tensorflow.python.keras.callbacks.History at 0x2392f7d81c0>"
      ]
     },
     "execution_count": 18,
     "metadata": {},
     "output_type": "execute_result"
    }
   ],
   "source": [
    "model_input = tf.keras.layers.Input(shape = (32, 32, 3))\n",
    "x = tf.keras.layers.Conv2D(32, (3, 3))(model_input)\n",
    "x = tf.keras.layers.BatchNormalization()(x)\n",
    "x = tf.keras.activations.relu(x)\n",
    "x = tf.keras.layers.Conv2D(32, (3, 3))(x)\n",
    "x = tf.keras.layers.BatchNormalization()(x)\n",
    "x = tf.keras.activations.relu(x)\n",
    "x = tf.keras.layers.MaxPool2D()(x)\n",
    "\n",
    "x = tf.keras.layers.Conv2D(64, (5, 5))(x)\n",
    "x = tf.keras.layers.BatchNormalization()(x)\n",
    "x = tf.keras.activations.relu(x)\n",
    "x = tf.keras.layers.Conv2D(64, (5, 5))(x)\n",
    "x = tf.keras.layers.BatchNormalization()(x)\n",
    "x = tf.keras.activations.relu(x)\n",
    "\n",
    "x = tf.keras.layers.Conv2D(128, (3, 3))(x)\n",
    "x = tf.keras.layers.BatchNormalization()(x)\n",
    "x = tf.keras.activations.relu(x)\n",
    "x = tf.keras.layers.Conv2D(128, (3, 3))(x)\n",
    "x = tf.keras.layers.BatchNormalization()(x)\n",
    "x = tf.keras.activations.relu(x)\n",
    "\n",
    "x = tf.keras.layers.Flatten()(x)\n",
    "x = tf.keras.layers.Dense(128, activation = 'relu')(x)\n",
    "model_output = tf.keras.layers.Dense(10, activation = 'softmax')(x)\n",
    "\n",
    "cnn_model_0 = tf.keras.Model(inputs = model_input, outputs = model_output)\n",
    "\n",
    "cnn_model_0.compile(loss = tf.keras.losses.sparse_categorical_crossentropy,\n",
    "                    optimizer = tf.keras.optimizers.Adam(learning_rate = 0.0001),\n",
    "                    metrics = ['accuracy'])\n",
    "\n",
    "cnn_model_0.fit(x = x_train, y = y_train, batch_size = 32, epochs = 10)"
   ]
  },
  {
   "cell_type": "code",
   "execution_count": 19,
   "id": "adcca061",
   "metadata": {},
   "outputs": [
    {
     "name": "stdout",
     "output_type": "stream",
     "text": [
      "313/313 [==============================] - 2s 5ms/step - loss: 1.1477 - accuracy: 0.6668\n"
     ]
    },
    {
     "data": {
      "text/plain": [
       "[1.1477464437484741, 0.6668000221252441]"
      ]
     },
     "execution_count": 19,
     "metadata": {},
     "output_type": "execute_result"
    }
   ],
   "source": [
    "cnn_model_0.evaluate(x=x_test, y=y_test, batch_size = 32)"
   ]
  },
  {
   "cell_type": "code",
   "execution_count": 20,
   "id": "35eb378a",
   "metadata": {},
   "outputs": [
    {
     "name": "stdout",
     "output_type": "stream",
     "text": [
      "Epoch 1/10\n",
      "1563/1563 [==============================] - 32s 20ms/step - loss: 1.4470 - accuracy: 0.4810\n",
      "Epoch 2/10\n",
      "1563/1563 [==============================] - 32s 21ms/step - loss: 1.0281 - accuracy: 0.6404\n",
      "Epoch 3/10\n",
      "1563/1563 [==============================] - 30s 19ms/step - loss: 0.8186 - accuracy: 0.7146\n",
      "Epoch 4/10\n",
      "1563/1563 [==============================] - 30s 19ms/step - loss: 0.6594 - accuracy: 0.7727\n",
      "Epoch 5/10\n",
      "1563/1563 [==============================] - 32s 20ms/step - loss: 0.5344 - accuracy: 0.8190\n",
      "Epoch 6/10\n",
      "1563/1563 [==============================] - 31s 20ms/step - loss: 0.4219 - accuracy: 0.8585\n",
      "Epoch 7/10\n",
      "1563/1563 [==============================] - 31s 20ms/step - loss: 0.3268 - accuracy: 0.8936\n",
      "Epoch 8/10\n",
      "1563/1563 [==============================] - 30s 20ms/step - loss: 0.2425 - accuracy: 0.9235\n",
      "Epoch 9/10\n",
      "1563/1563 [==============================] - 30s 19ms/step - loss: 0.1834 - accuracy: 0.9451\n",
      "Epoch 10/10\n",
      "1563/1563 [==============================] - 31s 20ms/step - loss: 0.1394 - accuracy: 0.9602\n"
     ]
    },
    {
     "data": {
      "text/plain": [
       "<tensorflow.python.keras.callbacks.History at 0x23973c01e20>"
      ]
     },
     "execution_count": 20,
     "metadata": {},
     "output_type": "execute_result"
    }
   ],
   "source": [
    "model_input = tf.keras.layers.Input(shape = (32, 32, 3))\n",
    "x = tf.keras.layers.Conv2D(32, (3, 3))(model_input)\n",
    "x = tf.keras.layers.BatchNormalization()(x)\n",
    "x = tf.keras.activations.relu(x)\n",
    "x = tf.keras.layers.Conv2D(32, (3, 3))(x)\n",
    "x = tf.keras.layers.BatchNormalization()(x)\n",
    "x = tf.keras.activations.relu(x)\n",
    "\n",
    "x = tf.keras.layers.Conv2D(64, (5, 5))(x)\n",
    "x = tf.keras.layers.BatchNormalization()(x)\n",
    "x = tf.keras.activations.relu(x)\n",
    "x = tf.keras.layers.Conv2D(64, (5, 5))(x)\n",
    "x = tf.keras.layers.BatchNormalization()(x)\n",
    "x = tf.keras.activations.relu(x)\n",
    "\n",
    "x = tf.keras.layers.Conv2D(128, (3, 3))(x)\n",
    "x = tf.keras.layers.BatchNormalization()(x)\n",
    "x = tf.keras.activations.relu(x)\n",
    "x = tf.keras.layers.Conv2D(128, (3, 3))(x)\n",
    "x = tf.keras.layers.BatchNormalization()(x)\n",
    "x = tf.keras.activations.relu(x)\n",
    "\n",
    "x = tf.keras.layers.Flatten()(x)\n",
    "x = tf.keras.layers.Dense(128, activation = 'relu')(x)\n",
    "model_output = tf.keras.layers.Dense(10, activation = 'softmax')(x)\n",
    "\n",
    "cnn_model_0 = tf.keras.Model(inputs = model_input, outputs = model_output)\n",
    "\n",
    "cnn_model_0.compile(loss = tf.keras.losses.sparse_categorical_crossentropy,\n",
    "                    optimizer = tf.keras.optimizers.Adam(learning_rate = 0.0001),\n",
    "                    metrics = ['accuracy'])\n",
    "\n",
    "cnn_model_0.fit(x = x_train, y = y_train, batch_size = 32, epochs = 10)"
   ]
  },
  {
   "cell_type": "code",
   "execution_count": 21,
   "id": "f741597a",
   "metadata": {},
   "outputs": [
    {
     "name": "stdout",
     "output_type": "stream",
     "text": [
      "313/313 [==============================] - 3s 8ms/step - loss: 1.1234 - accuracy: 0.6919\n"
     ]
    },
    {
     "data": {
      "text/plain": [
       "[1.1233528852462769, 0.6919000148773193]"
      ]
     },
     "execution_count": 21,
     "metadata": {},
     "output_type": "execute_result"
    }
   ],
   "source": [
    "cnn_model_0.evaluate(x=x_test, y=y_test, batch_size = 32)"
   ]
  },
  {
   "cell_type": "code",
   "execution_count": 22,
   "id": "c37453bc",
   "metadata": {},
   "outputs": [
    {
     "name": "stdout",
     "output_type": "stream",
     "text": [
      "Epoch 1/10\n",
      "1563/1563 [==============================] - 21s 12ms/step - loss: 1.2888 - accuracy: 0.5426\n",
      "Epoch 2/10\n",
      "1563/1563 [==============================] - 19s 12ms/step - loss: 0.9187 - accuracy: 0.6793\n",
      "Epoch 3/10\n",
      "1563/1563 [==============================] - 19s 12ms/step - loss: 0.7718 - accuracy: 0.7344\n",
      "Epoch 4/10\n",
      "1563/1563 [==============================] - 18s 12ms/step - loss: 0.6687 - accuracy: 0.7680\n",
      "Epoch 5/10\n",
      "1563/1563 [==============================] - 19s 12ms/step - loss: 0.5834 - accuracy: 0.7999\n",
      "Epoch 6/10\n",
      "1563/1563 [==============================] - 18s 12ms/step - loss: 0.5129 - accuracy: 0.8246\n",
      "Epoch 7/10\n",
      "1563/1563 [==============================] - 18s 12ms/step - loss: 0.4446 - accuracy: 0.8502\n",
      "Epoch 8/10\n",
      "1563/1563 [==============================] - 19s 12ms/step - loss: 0.3838 - accuracy: 0.8717\n",
      "Epoch 9/10\n",
      "1563/1563 [==============================] - 19s 12ms/step - loss: 0.3317 - accuracy: 0.8906\n",
      "Epoch 10/10\n",
      "1563/1563 [==============================] - 18s 12ms/step - loss: 0.2828 - accuracy: 0.9090\n"
     ]
    },
    {
     "data": {
      "text/plain": [
       "<tensorflow.python.keras.callbacks.History at 0x239254d5a00>"
      ]
     },
     "execution_count": 22,
     "metadata": {},
     "output_type": "execute_result"
    }
   ],
   "source": [
    "model_input = tf.keras.layers.Input(shape = (32, 32, 3))\n",
    "x = tf.keras.layers.Conv2D(32, (3, 3))(model_input)\n",
    "x = tf.keras.layers.BatchNormalization()(x)\n",
    "x = tf.keras.layers.Conv2D(32, (3, 3))(x)\n",
    "x = tf.keras.layers.BatchNormalization()(x)\n",
    "x = tf.keras.activations.relu(x)\n",
    "x = tf.keras.layers.MaxPool2D()(x)\n",
    "\n",
    "x = tf.keras.layers.Conv2D(64, (3, 3))(x)\n",
    "x = tf.keras.layers.BatchNormalization()(x)\n",
    "x = tf.keras.layers.Conv2D(64, (3, 3))(x)\n",
    "x = tf.keras.layers.BatchNormalization()(x)\n",
    "x = tf.keras.activations.relu(x)\n",
    "x = tf.keras.layers.MaxPool2D()(x)\n",
    "\n",
    "x = tf.keras.layers.Conv2D(128, (3, 3))(x)\n",
    "x = tf.keras.layers.BatchNormalization()(x)\n",
    "x = tf.keras.layers.Conv2D(128, (3, 3))(x)\n",
    "x = tf.keras.layers.BatchNormalization()(x)\n",
    "x = tf.keras.layers.Conv2D(128, (3, 3))(x)\n",
    "x = tf.keras.layers.BatchNormalization()(x)\n",
    "x = tf.keras.activations.relu(x)\n",
    "x = tf.keras.layers.MaxPool2D()(x)\n",
    "\n",
    "x = tf.keras.layers.Flatten()(x)\n",
    "x = tf.keras.layers.Dense(128, activation = 'relu')(x)\n",
    "model_output = tf.keras.layers.Dense(10, activation = 'softmax')(x)\n",
    "\n",
    "cnn_model_0 = tf.keras.Model(inputs = model_input, outputs = model_output)\n",
    "\n",
    "cnn_model_0.compile(loss = tf.keras.losses.sparse_categorical_crossentropy,\n",
    "                    optimizer = tf.keras.optimizers.Adam(learning_rate = 0.0001),\n",
    "                    metrics = ['accuracy'])\n",
    "\n",
    "cnn_model_0.fit(x = x_train, y = y_train, batch_size = 32, epochs = 10)"
   ]
  },
  {
   "cell_type": "code",
   "execution_count": 23,
   "id": "234dd3ee",
   "metadata": {},
   "outputs": [
    {
     "name": "stdout",
     "output_type": "stream",
     "text": [
      "313/313 [==============================] - 2s 6ms/step - loss: 0.8099 - accuracy: 0.7447\n"
     ]
    },
    {
     "data": {
      "text/plain": [
       "[0.8099009990692139, 0.744700014591217]"
      ]
     },
     "execution_count": 23,
     "metadata": {},
     "output_type": "execute_result"
    }
   ],
   "source": [
    "cnn_model_0.evaluate(x=x_test, y=y_test, batch_size = 32)"
   ]
  },
  {
   "cell_type": "code",
   "execution_count": 32,
   "id": "3b258084",
   "metadata": {},
   "outputs": [
    {
     "name": "stdout",
     "output_type": "stream",
     "text": [
      "Epoch 1/10\n",
      "1563/1563 [==============================] - 21s 13ms/step - loss: 1.2718 - accuracy: 0.5419\n",
      "Epoch 2/10\n",
      "1563/1563 [==============================] - 20s 13ms/step - loss: 0.9362 - accuracy: 0.6706\n",
      "Epoch 3/10\n",
      "1563/1563 [==============================] - 20s 13ms/step - loss: 0.8198 - accuracy: 0.7154\n",
      "Epoch 4/10\n",
      "1563/1563 [==============================] - 20s 13ms/step - loss: 0.7492 - accuracy: 0.7390\n",
      "Epoch 5/10\n",
      "1563/1563 [==============================] - 20s 13ms/step - loss: 0.6838 - accuracy: 0.7623\n",
      "Epoch 6/10\n",
      "1563/1563 [==============================] - 20s 13ms/step - loss: 0.6386 - accuracy: 0.7789\n",
      "Epoch 7/10\n",
      "1563/1563 [==============================] - 19s 12ms/step - loss: 0.5967 - accuracy: 0.7930\n",
      "Epoch 8/10\n",
      "1563/1563 [==============================] - 20s 12ms/step - loss: 0.5641 - accuracy: 0.8058\n",
      "Epoch 9/10\n",
      "1563/1563 [==============================] - 20s 13ms/step - loss: 0.5338 - accuracy: 0.8154\n",
      "Epoch 10/10\n",
      "1563/1563 [==============================] - 21s 13ms/step - loss: 0.5036 - accuracy: 0.8263\n"
     ]
    },
    {
     "data": {
      "text/plain": [
       "<tensorflow.python.keras.callbacks.History at 0x238cc789400>"
      ]
     },
     "execution_count": 32,
     "metadata": {},
     "output_type": "execute_result"
    }
   ],
   "source": [
    "model_input = tf.keras.layers.Input(shape = (32, 32, 3))\n",
    "x = tf.keras.layers.Conv2D(32, (3, 3), padding='same')(model_input)\n",
    "x = tf.keras.layers.BatchNormalization()(x)\n",
    "x = tf.keras.layers.Conv2D(32, (3, 3))(x)\n",
    "x = tf.keras.layers.BatchNormalization()(x)\n",
    "x = tf.keras.activations.relu(x)\n",
    "x = tf.keras.layers.MaxPool2D()(x)\n",
    "\n",
    "x = tf.keras.layers.Conv2D(64, (3, 3), padding='same')(x)\n",
    "x = tf.keras.layers.BatchNormalization()(x)\n",
    "x = tf.keras.layers.Conv2D(64, (3, 3))(x)\n",
    "x = tf.keras.layers.BatchNormalization()(x)\n",
    "x = tf.keras.activations.relu(x)\n",
    "x = tf.keras.layers.MaxPool2D()(x)\n",
    "\n",
    "x = tf.keras.layers.Conv2D(128, (3, 3), padding='same')(x)\n",
    "x = tf.keras.layers.BatchNormalization()(x)\n",
    "x = tf.keras.layers.Conv2D(128, (3, 3))(x)\n",
    "x = tf.keras.layers.BatchNormalization()(x)\n",
    "x = tf.keras.layers.Conv2D(128, (3, 3))(x)\n",
    "x = tf.keras.layers.BatchNormalization()(x)\n",
    "x = tf.keras.activations.relu(x)\n",
    "x = tf.keras.layers.MaxPool2D()(x)\n",
    "\n",
    "x = tf.keras.layers.Flatten()(x)\n",
    "x = tf.keras.layers.Dense(64, activation = 'relu')(x)\n",
    "x = tf.keras.layers.Dense(64, activation = 'relu')(x)\n",
    "model_output = tf.keras.layers.Dense(10, activation = 'softmax')(x)\n",
    "\n",
    "cnn_model_0 = tf.keras.Model(inputs = model_input, outputs = model_output)\n",
    "\n",
    "cnn_model_0.compile(loss = tf.keras.losses.sparse_categorical_crossentropy,\n",
    "                    optimizer = tf.keras.optimizers.Adam(),\n",
    "                    metrics = ['accuracy'])\n",
    "\n",
    "cnn_model_0.fit(x = x_train, y = y_train, batch_size = 32, epochs = 10)"
   ]
  },
  {
   "cell_type": "code",
   "execution_count": 45,
   "id": "d3938825",
   "metadata": {},
   "outputs": [
    {
     "name": "stdout",
     "output_type": "stream",
     "text": [
      "313/313 [==============================] - 2s 6ms/step - loss: 0.7631 - accuracy: 0.7555\n"
     ]
    },
    {
     "data": {
      "text/plain": [
       "[0.7631281018257141, 0.7555000185966492]"
      ]
     },
     "execution_count": 45,
     "metadata": {},
     "output_type": "execute_result"
    }
   ],
   "source": [
    "cnn_model_0.evaluate(x=x_test, y=y_test, batch_size = 32)"
   ]
  },
  {
   "cell_type": "code",
   "execution_count": 46,
   "id": "0e0354fd",
   "metadata": {},
   "outputs": [
    {
     "name": "stdout",
     "output_type": "stream",
     "text": [
      "Model: \"model_10\"\n",
      "_________________________________________________________________\n",
      "Layer (type)                 Output Shape              Param #   \n",
      "=================================================================\n",
      "input_20 (InputLayer)        [(None, 32, 32, 3)]       0         \n",
      "_________________________________________________________________\n",
      "conv2d_90 (Conv2D)           (None, 32, 32, 32)        896       \n",
      "_________________________________________________________________\n",
      "batch_normalization_83 (Batc (None, 32, 32, 32)        128       \n",
      "_________________________________________________________________\n",
      "conv2d_91 (Conv2D)           (None, 30, 30, 32)        9248      \n",
      "_________________________________________________________________\n",
      "batch_normalization_84 (Batc (None, 30, 30, 32)        128       \n",
      "_________________________________________________________________\n",
      "tf.nn.relu_47 (TFOpLambda)   (None, 30, 30, 32)        0         \n",
      "_________________________________________________________________\n",
      "max_pooling2d_26 (MaxPooling (None, 15, 15, 32)        0         \n",
      "_________________________________________________________________\n",
      "conv2d_92 (Conv2D)           (None, 15, 15, 64)        18496     \n",
      "_________________________________________________________________\n",
      "batch_normalization_85 (Batc (None, 15, 15, 64)        256       \n",
      "_________________________________________________________________\n",
      "conv2d_93 (Conv2D)           (None, 13, 13, 64)        36928     \n",
      "_________________________________________________________________\n",
      "batch_normalization_86 (Batc (None, 13, 13, 64)        256       \n",
      "_________________________________________________________________\n",
      "tf.nn.relu_48 (TFOpLambda)   (None, 13, 13, 64)        0         \n",
      "_________________________________________________________________\n",
      "max_pooling2d_27 (MaxPooling (None, 6, 6, 64)          0         \n",
      "_________________________________________________________________\n",
      "conv2d_94 (Conv2D)           (None, 6, 6, 128)         73856     \n",
      "_________________________________________________________________\n",
      "batch_normalization_87 (Batc (None, 6, 6, 128)         512       \n",
      "_________________________________________________________________\n",
      "conv2d_95 (Conv2D)           (None, 4, 4, 128)         147584    \n",
      "_________________________________________________________________\n",
      "batch_normalization_88 (Batc (None, 4, 4, 128)         512       \n",
      "_________________________________________________________________\n",
      "conv2d_96 (Conv2D)           (None, 2, 2, 128)         147584    \n",
      "_________________________________________________________________\n",
      "batch_normalization_89 (Batc (None, 2, 2, 128)         512       \n",
      "_________________________________________________________________\n",
      "tf.nn.relu_49 (TFOpLambda)   (None, 2, 2, 128)         0         \n",
      "_________________________________________________________________\n",
      "max_pooling2d_28 (MaxPooling (None, 1, 1, 128)         0         \n",
      "_________________________________________________________________\n",
      "flatten_10 (Flatten)         (None, 128)               0         \n",
      "_________________________________________________________________\n",
      "dense_21 (Dense)             (None, 64)                8256      \n",
      "_________________________________________________________________\n",
      "dense_22 (Dense)             (None, 64)                4160      \n",
      "_________________________________________________________________\n",
      "dense_23 (Dense)             (None, 10)                650       \n",
      "=================================================================\n",
      "Total params: 449,962\n",
      "Trainable params: 448,810\n",
      "Non-trainable params: 1,152\n",
      "_________________________________________________________________\n"
     ]
    }
   ],
   "source": [
    "cnn_model_0.summary()"
   ]
  },
  {
   "cell_type": "code",
   "execution_count": 4,
   "id": "b1e54a54",
   "metadata": {},
   "outputs": [
    {
     "data": {
      "text/plain": [
       "(TensorShape([50000, 3072]), TensorShape([10000, 3072]))"
      ]
     },
     "execution_count": 4,
     "metadata": {},
     "output_type": "execute_result"
    }
   ],
   "source": [
    "x_train_output = tf.reshape(x_train, shape=(-1, 32*32*3))\n",
    "x_test_output = tf.reshape(x_test, shape=(-1, 32*32*3))\n",
    "x_train_output.shape, x_test_output.shape"
   ]
  },
  {
   "cell_type": "code",
   "execution_count": 57,
   "id": "f77a9e16",
   "metadata": {},
   "outputs": [
    {
     "name": "stdout",
     "output_type": "stream",
     "text": [
      "Epoch 1/5\n",
      "1563/1563 [==============================] - 22s 13ms/step - loss: 0.1149 - accuracy: 0.0033\n",
      "Epoch 2/5\n",
      "1563/1563 [==============================] - 20s 13ms/step - loss: 0.0965 - accuracy: 0.0054\n",
      "Epoch 3/5\n",
      "1563/1563 [==============================] - 20s 13ms/step - loss: 0.0912 - accuracy: 0.0060\n",
      "Epoch 4/5\n",
      "1563/1563 [==============================] - 19s 12ms/step - loss: 0.0871 - accuracy: 0.0073\n",
      "Epoch 5/5\n",
      "1563/1563 [==============================] - 19s 12ms/step - loss: 0.0846 - accuracy: 0.0075\n"
     ]
    },
    {
     "data": {
      "text/plain": [
       "<tensorflow.python.keras.callbacks.History at 0x1b526d50eb0>"
      ]
     },
     "execution_count": 57,
     "metadata": {},
     "output_type": "execute_result"
    }
   ],
   "source": [
    "model_input = tf.keras.layers.Input(shape = (32, 32, 3))\n",
    "x = tf.keras.layers.Conv2D(32, (3, 3), padding='same')(model_input)\n",
    "x = tf.keras.layers.BatchNormalization()(x)\n",
    "x = tf.keras.layers.Conv2D(32, (3, 3), padding='same')(x)\n",
    "x = tf.keras.layers.BatchNormalization()(x)\n",
    "x = tf.keras.activations.relu(x)\n",
    "x = tf.keras.layers.MaxPool2D()(x)\n",
    "\n",
    "x = tf.keras.layers.Conv2D(64, (3, 3), padding='same')(x)\n",
    "x = tf.keras.layers.BatchNormalization()(x)\n",
    "x = tf.keras.layers.Conv2D(64, (3, 3))(x)\n",
    "x = tf.keras.layers.BatchNormalization()(x)\n",
    "x = tf.keras.activations.relu(x)\n",
    "x = tf.keras.layers.MaxPool2D()(x)\n",
    "\n",
    "x = tf.keras.layers.Conv2D(128, (3, 3), padding='same')(x)\n",
    "x = tf.keras.layers.BatchNormalization()(x)\n",
    "x = tf.keras.layers.Conv2D(128, (3, 3))(x)\n",
    "x = tf.keras.layers.BatchNormalization()(x)\n",
    "x = tf.keras.layers.Conv2D(128, (3, 3))(x)\n",
    "x = tf.keras.layers.BatchNormalization()(x)\n",
    "x = tf.keras.activations.relu(x)\n",
    "x = tf.keras.layers.MaxPool2D()(x)\n",
    "\n",
    "x = tf.keras.layers.Flatten()(x)\n",
    "x = tf.keras.layers.Dense(64, activation = 'relu')(x)\n",
    "x = tf.keras.layers.Dense(64, activation = 'relu')(x)\n",
    "model_output = tf.keras.layers.Dense(32*32*3, activation = 'sigmoid')(x)\n",
    "\n",
    "cnn_model_1 = tf.keras.Model(inputs = model_input, outputs = model_output)\n",
    "\n",
    "cnn_model_1.compile(loss = tf.keras.losses.mae,\n",
    "                    optimizer = tf.keras.optimizers.Adam(),\n",
    "                    metrics = ['accuracy'])\n",
    "\n",
    "cnn_model_1.fit(x = x_train, y = x_train_output, batch_size = 32, epochs = 5)"
   ]
  },
  {
   "cell_type": "code",
   "execution_count": 58,
   "id": "34cc360d",
   "metadata": {},
   "outputs": [
    {
     "name": "stdout",
     "output_type": "stream",
     "text": [
      "313/313 [==============================] - 2s 6ms/step - loss: 0.0854 - accuracy: 0.0066\n"
     ]
    },
    {
     "data": {
      "text/plain": [
       "[0.08541449159383774, 0.006599999964237213]"
      ]
     },
     "execution_count": 58,
     "metadata": {},
     "output_type": "execute_result"
    }
   ],
   "source": [
    "cnn_model_1.evaluate(x=x_test, y=x_test_output, batch_size=32)"
   ]
  },
  {
   "cell_type": "code",
   "execution_count": 10,
   "id": "92f121dd",
   "metadata": {},
   "outputs": [],
   "source": [
    "predictions = cnn_model_1.predict(x_test[:1])"
   ]
  },
  {
   "cell_type": "code",
   "execution_count": 11,
   "id": "be060ba0",
   "metadata": {},
   "outputs": [
    {
     "data": {
      "text/plain": [
       "(1, 3072)"
      ]
     },
     "execution_count": 11,
     "metadata": {},
     "output_type": "execute_result"
    }
   ],
   "source": [
    "predictions.shape"
   ]
  },
  {
   "cell_type": "code",
   "execution_count": 12,
   "id": "ece492fe",
   "metadata": {},
   "outputs": [
    {
     "data": {
      "text/plain": [
       "TensorShape([1, 32, 32, 3])"
      ]
     },
     "execution_count": 12,
     "metadata": {},
     "output_type": "execute_result"
    }
   ],
   "source": [
    "tf.reshape(predictions, shape=(-1, 32, 32, 3)).shape"
   ]
  },
  {
   "cell_type": "code",
   "execution_count": 5,
   "id": "78d8df83",
   "metadata": {},
   "outputs": [],
   "source": [
    "model_cnn = tf.keras.models.load_model('test_theory_2.h5')"
   ]
  },
  {
   "cell_type": "code",
   "execution_count": 6,
   "id": "41459a22",
   "metadata": {},
   "outputs": [
    {
     "name": "stdout",
     "output_type": "stream",
     "text": [
      "313/313 [==============================] - 5s 7ms/step - loss: 0.0764 - accuracy: 0.0061\n"
     ]
    },
    {
     "data": {
      "text/plain": [
       "[0.07638625055551529, 0.006099999882280827]"
      ]
     },
     "execution_count": 6,
     "metadata": {},
     "output_type": "execute_result"
    }
   ],
   "source": [
    "model_cnn.evaluate(x=x_test, y=x_test_output, batch_size=32)"
   ]
  },
  {
   "cell_type": "code",
   "execution_count": 9,
   "id": "58c744f8",
   "metadata": {},
   "outputs": [
    {
     "name": "stdout",
     "output_type": "stream",
     "text": [
      "Model: \"model\"\n",
      "_________________________________________________________________\n",
      "Layer (type)                 Output Shape              Param #   \n",
      "=================================================================\n",
      "input_1 (InputLayer)         [(None, 32, 32, 3)]       0         \n",
      "_________________________________________________________________\n",
      "conv2d_1 (Conv2D)            (None, 32, 32, 32)        896       \n",
      "_________________________________________________________________\n",
      "batch_normalization (BatchNo (None, 32, 32, 32)        128       \n",
      "_________________________________________________________________\n",
      "conv2d_2 (Conv2D)            (None, 32, 32, 32)        9248      \n",
      "_________________________________________________________________\n",
      "batch_normalization_1 (Batch (None, 32, 32, 32)        128       \n",
      "_________________________________________________________________\n",
      "tf.nn.relu (TFOpLambda)      (None, 32, 32, 32)        0         \n",
      "_________________________________________________________________\n",
      "max_pooling2d (MaxPooling2D) (None, 16, 16, 32)        0         \n",
      "_________________________________________________________________\n",
      "conv2d_3 (Conv2D)            (None, 16, 16, 64)        18496     \n",
      "_________________________________________________________________\n",
      "batch_normalization_2 (Batch (None, 16, 16, 64)        256       \n",
      "_________________________________________________________________\n",
      "conv2d_4 (Conv2D)            (None, 14, 14, 64)        36928     \n",
      "_________________________________________________________________\n",
      "batch_normalization_3 (Batch (None, 14, 14, 64)        256       \n",
      "_________________________________________________________________\n",
      "tf.nn.relu_1 (TFOpLambda)    (None, 14, 14, 64)        0         \n",
      "_________________________________________________________________\n",
      "max_pooling2d_1 (MaxPooling2 (None, 7, 7, 64)          0         \n",
      "_________________________________________________________________\n",
      "conv2d_5 (Conv2D)            (None, 7, 7, 128)         73856     \n",
      "_________________________________________________________________\n",
      "batch_normalization_4 (Batch (None, 7, 7, 128)         512       \n",
      "_________________________________________________________________\n",
      "conv2d_6 (Conv2D)            (None, 5, 5, 128)         147584    \n",
      "_________________________________________________________________\n",
      "batch_normalization_5 (Batch (None, 5, 5, 128)         512       \n",
      "_________________________________________________________________\n",
      "conv2d_7 (Conv2D)            (None, 3, 3, 128)         147584    \n",
      "_________________________________________________________________\n",
      "batch_normalization_6 (Batch (None, 3, 3, 128)         512       \n",
      "_________________________________________________________________\n",
      "tf.nn.relu_2 (TFOpLambda)    (None, 3, 3, 128)         0         \n",
      "_________________________________________________________________\n",
      "max_pooling2d_2 (MaxPooling2 (None, 1, 1, 128)         0         \n",
      "_________________________________________________________________\n",
      "flatten (Flatten)            (None, 128)               0         \n",
      "_________________________________________________________________\n",
      "dense (Dense)                (None, 64)                8256      \n",
      "_________________________________________________________________\n",
      "dense_1 (Dense)              (None, 64)                4160      \n",
      "_________________________________________________________________\n",
      "dense_2 (Dense)              (None, 3072)              199680    \n",
      "=================================================================\n",
      "Total params: 648,992\n",
      "Trainable params: 647,840\n",
      "Non-trainable params: 1,152\n",
      "_________________________________________________________________\n"
     ]
    }
   ],
   "source": [
    "model_cnn.summary()"
   ]
  },
  {
   "cell_type": "code",
   "execution_count": 8,
   "id": "1c3e067f",
   "metadata": {},
   "outputs": [],
   "source": [
    "cnn_load_0 = tf.keras.Sequential()"
   ]
  },
  {
   "cell_type": "code",
   "execution_count": 10,
   "id": "70195d69",
   "metadata": {},
   "outputs": [],
   "source": [
    "for layer in model_cnn.layers[:-1]:\n",
    "    cnn_load_0.add(layer)"
   ]
  },
  {
   "cell_type": "code",
   "execution_count": 11,
   "id": "d14835c6",
   "metadata": {},
   "outputs": [],
   "source": [
    "cnn_load_0.trainable = False"
   ]
  },
  {
   "cell_type": "code",
   "execution_count": 12,
   "id": "0464d0cc",
   "metadata": {},
   "outputs": [
    {
     "name": "stdout",
     "output_type": "stream",
     "text": [
      "Model: \"sequential\"\n",
      "_________________________________________________________________\n",
      "Layer (type)                 Output Shape              Param #   \n",
      "=================================================================\n",
      "conv2d_1 (Conv2D)            (None, 32, 32, 32)        896       \n",
      "_________________________________________________________________\n",
      "batch_normalization (BatchNo (None, 32, 32, 32)        128       \n",
      "_________________________________________________________________\n",
      "conv2d_2 (Conv2D)            (None, 32, 32, 32)        9248      \n",
      "_________________________________________________________________\n",
      "batch_normalization_1 (Batch (None, 32, 32, 32)        128       \n",
      "_________________________________________________________________\n",
      "tf.nn.relu (TFOpLambda)      (None, 32, 32, 32)        0         \n",
      "_________________________________________________________________\n",
      "max_pooling2d (MaxPooling2D) (None, 16, 16, 32)        0         \n",
      "_________________________________________________________________\n",
      "conv2d_3 (Conv2D)            (None, 16, 16, 64)        18496     \n",
      "_________________________________________________________________\n",
      "batch_normalization_2 (Batch (None, 16, 16, 64)        256       \n",
      "_________________________________________________________________\n",
      "conv2d_4 (Conv2D)            (None, 14, 14, 64)        36928     \n",
      "_________________________________________________________________\n",
      "batch_normalization_3 (Batch (None, 14, 14, 64)        256       \n",
      "_________________________________________________________________\n",
      "tf.nn.relu_1 (TFOpLambda)    (None, 14, 14, 64)        0         \n",
      "_________________________________________________________________\n",
      "max_pooling2d_1 (MaxPooling2 (None, 7, 7, 64)          0         \n",
      "_________________________________________________________________\n",
      "conv2d_5 (Conv2D)            (None, 7, 7, 128)         73856     \n",
      "_________________________________________________________________\n",
      "batch_normalization_4 (Batch (None, 7, 7, 128)         512       \n",
      "_________________________________________________________________\n",
      "conv2d_6 (Conv2D)            (None, 5, 5, 128)         147584    \n",
      "_________________________________________________________________\n",
      "batch_normalization_5 (Batch (None, 5, 5, 128)         512       \n",
      "_________________________________________________________________\n",
      "conv2d_7 (Conv2D)            (None, 3, 3, 128)         147584    \n",
      "_________________________________________________________________\n",
      "batch_normalization_6 (Batch (None, 3, 3, 128)         512       \n",
      "_________________________________________________________________\n",
      "tf.nn.relu_2 (TFOpLambda)    (None, 3, 3, 128)         0         \n",
      "_________________________________________________________________\n",
      "max_pooling2d_2 (MaxPooling2 (None, 1, 1, 128)         0         \n",
      "_________________________________________________________________\n",
      "flatten (Flatten)            (None, 128)               0         \n",
      "_________________________________________________________________\n",
      "dense (Dense)                (None, 64)                8256      \n",
      "_________________________________________________________________\n",
      "dense_1 (Dense)              (None, 64)                4160      \n",
      "=================================================================\n",
      "Total params: 449,312\n",
      "Trainable params: 0\n",
      "Non-trainable params: 449,312\n",
      "_________________________________________________________________\n"
     ]
    }
   ],
   "source": [
    "cnn_load_0.summary()"
   ]
  },
  {
   "cell_type": "code",
   "execution_count": 14,
   "id": "6ff1654f",
   "metadata": {},
   "outputs": [
    {
     "name": "stdout",
     "output_type": "stream",
     "text": [
      "Model: \"sequential\"\n",
      "_________________________________________________________________\n",
      "Layer (type)                 Output Shape              Param #   \n",
      "=================================================================\n",
      "conv2d_1 (Conv2D)            (None, 32, 32, 32)        896       \n",
      "_________________________________________________________________\n",
      "batch_normalization (BatchNo (None, 32, 32, 32)        128       \n",
      "_________________________________________________________________\n",
      "conv2d_2 (Conv2D)            (None, 32, 32, 32)        9248      \n",
      "_________________________________________________________________\n",
      "batch_normalization_1 (Batch (None, 32, 32, 32)        128       \n",
      "_________________________________________________________________\n",
      "tf.nn.relu (TFOpLambda)      (None, 32, 32, 32)        0         \n",
      "_________________________________________________________________\n",
      "max_pooling2d (MaxPooling2D) (None, 16, 16, 32)        0         \n",
      "_________________________________________________________________\n",
      "conv2d_3 (Conv2D)            (None, 16, 16, 64)        18496     \n",
      "_________________________________________________________________\n",
      "batch_normalization_2 (Batch (None, 16, 16, 64)        256       \n",
      "_________________________________________________________________\n",
      "conv2d_4 (Conv2D)            (None, 14, 14, 64)        36928     \n",
      "_________________________________________________________________\n",
      "batch_normalization_3 (Batch (None, 14, 14, 64)        256       \n",
      "_________________________________________________________________\n",
      "tf.nn.relu_1 (TFOpLambda)    (None, 14, 14, 64)        0         \n",
      "_________________________________________________________________\n",
      "max_pooling2d_1 (MaxPooling2 (None, 7, 7, 64)          0         \n",
      "_________________________________________________________________\n",
      "conv2d_5 (Conv2D)            (None, 7, 7, 128)         73856     \n",
      "_________________________________________________________________\n",
      "batch_normalization_4 (Batch (None, 7, 7, 128)         512       \n",
      "_________________________________________________________________\n",
      "conv2d_6 (Conv2D)            (None, 5, 5, 128)         147584    \n",
      "_________________________________________________________________\n",
      "batch_normalization_5 (Batch (None, 5, 5, 128)         512       \n",
      "_________________________________________________________________\n",
      "conv2d_7 (Conv2D)            (None, 3, 3, 128)         147584    \n",
      "_________________________________________________________________\n",
      "batch_normalization_6 (Batch (None, 3, 3, 128)         512       \n",
      "_________________________________________________________________\n",
      "tf.nn.relu_2 (TFOpLambda)    (None, 3, 3, 128)         0         \n",
      "_________________________________________________________________\n",
      "max_pooling2d_2 (MaxPooling2 (None, 1, 1, 128)         0         \n",
      "_________________________________________________________________\n",
      "flatten (Flatten)            (None, 128)               0         \n",
      "_________________________________________________________________\n",
      "dense (Dense)                (None, 64)                8256      \n",
      "_________________________________________________________________\n",
      "dense_1 (Dense)              (None, 64)                4160      \n",
      "_________________________________________________________________\n",
      "output_layer (Dense)         (None, 10)                650       \n",
      "=================================================================\n",
      "Total params: 449,962\n",
      "Trainable params: 0\n",
      "Non-trainable params: 449,962\n",
      "_________________________________________________________________\n"
     ]
    }
   ],
   "source": [
    "cnn_load_0.add(tf.keras.layers.Dense(10, activation='softmax', name='output_layer'))\n",
    "\n",
    "cnn_load_0.summary()"
   ]
  },
  {
   "cell_type": "code",
   "execution_count": 27,
   "id": "d8fac123",
   "metadata": {},
   "outputs": [],
   "source": [
    "cnn_load_0.trainable = True"
   ]
  },
  {
   "cell_type": "code",
   "execution_count": 29,
   "id": "dfedf431",
   "metadata": {},
   "outputs": [],
   "source": [
    "for layer in cnn_load_0.layers[:-1]:\n",
    "    layer.trainable = False"
   ]
  },
  {
   "cell_type": "code",
   "execution_count": 30,
   "id": "60dbdb15",
   "metadata": {},
   "outputs": [
    {
     "name": "stdout",
     "output_type": "stream",
     "text": [
      "Model: \"sequential\"\n",
      "_________________________________________________________________\n",
      "Layer (type)                 Output Shape              Param #   \n",
      "=================================================================\n",
      "conv2d_1 (Conv2D)            (None, 32, 32, 32)        896       \n",
      "_________________________________________________________________\n",
      "batch_normalization (BatchNo (None, 32, 32, 32)        128       \n",
      "_________________________________________________________________\n",
      "conv2d_2 (Conv2D)            (None, 32, 32, 32)        9248      \n",
      "_________________________________________________________________\n",
      "batch_normalization_1 (Batch (None, 32, 32, 32)        128       \n",
      "_________________________________________________________________\n",
      "tf.nn.relu (TFOpLambda)      (None, 32, 32, 32)        0         \n",
      "_________________________________________________________________\n",
      "max_pooling2d (MaxPooling2D) (None, 16, 16, 32)        0         \n",
      "_________________________________________________________________\n",
      "conv2d_3 (Conv2D)            (None, 16, 16, 64)        18496     \n",
      "_________________________________________________________________\n",
      "batch_normalization_2 (Batch (None, 16, 16, 64)        256       \n",
      "_________________________________________________________________\n",
      "conv2d_4 (Conv2D)            (None, 14, 14, 64)        36928     \n",
      "_________________________________________________________________\n",
      "batch_normalization_3 (Batch (None, 14, 14, 64)        256       \n",
      "_________________________________________________________________\n",
      "tf.nn.relu_1 (TFOpLambda)    (None, 14, 14, 64)        0         \n",
      "_________________________________________________________________\n",
      "max_pooling2d_1 (MaxPooling2 (None, 7, 7, 64)          0         \n",
      "_________________________________________________________________\n",
      "conv2d_5 (Conv2D)            (None, 7, 7, 128)         73856     \n",
      "_________________________________________________________________\n",
      "batch_normalization_4 (Batch (None, 7, 7, 128)         512       \n",
      "_________________________________________________________________\n",
      "conv2d_6 (Conv2D)            (None, 5, 5, 128)         147584    \n",
      "_________________________________________________________________\n",
      "batch_normalization_5 (Batch (None, 5, 5, 128)         512       \n",
      "_________________________________________________________________\n",
      "conv2d_7 (Conv2D)            (None, 3, 3, 128)         147584    \n",
      "_________________________________________________________________\n",
      "batch_normalization_6 (Batch (None, 3, 3, 128)         512       \n",
      "_________________________________________________________________\n",
      "tf.nn.relu_2 (TFOpLambda)    (None, 3, 3, 128)         0         \n",
      "_________________________________________________________________\n",
      "max_pooling2d_2 (MaxPooling2 (None, 1, 1, 128)         0         \n",
      "_________________________________________________________________\n",
      "flatten (Flatten)            (None, 128)               0         \n",
      "_________________________________________________________________\n",
      "dense (Dense)                (None, 64)                8256      \n",
      "_________________________________________________________________\n",
      "dense_1 (Dense)              (None, 64)                4160      \n",
      "_________________________________________________________________\n",
      "output_layer (Dense)         (None, 10)                650       \n",
      "=================================================================\n",
      "Total params: 449,962\n",
      "Trainable params: 650\n",
      "Non-trainable params: 449,312\n",
      "_________________________________________________________________\n"
     ]
    }
   ],
   "source": [
    "cnn_load_0.summary()"
   ]
  },
  {
   "cell_type": "code",
   "execution_count": 31,
   "id": "3e48b4b3",
   "metadata": {},
   "outputs": [
    {
     "name": "stdout",
     "output_type": "stream",
     "text": [
      "Epoch 1/10\n",
      "1563/1563 [==============================] - 10s 6ms/step - loss: 2.1695 - accuracy: 0.2565\n",
      "Epoch 2/10\n",
      "1563/1563 [==============================] - 9s 6ms/step - loss: 1.8544 - accuracy: 0.3568\n",
      "Epoch 3/10\n",
      "1563/1563 [==============================] - 9s 6ms/step - loss: 1.8114 - accuracy: 0.3754\n",
      "Epoch 4/10\n",
      "1563/1563 [==============================] - 10s 6ms/step - loss: 1.7964 - accuracy: 0.3798\n",
      "Epoch 5/10\n",
      "1563/1563 [==============================] - 10s 6ms/step - loss: 1.7907 - accuracy: 0.3791\n",
      "Epoch 6/10\n",
      "1563/1563 [==============================] - 10s 6ms/step - loss: 1.7861 - accuracy: 0.3818\n",
      "Epoch 7/10\n",
      "1563/1563 [==============================] - 10s 6ms/step - loss: 1.7829 - accuracy: 0.3842\n",
      "Epoch 8/10\n",
      "1563/1563 [==============================] - 10s 6ms/step - loss: 1.7814 - accuracy: 0.3844\n",
      "Epoch 9/10\n",
      "1563/1563 [==============================] - 10s 6ms/step - loss: 1.7805 - accuracy: 0.3824\n",
      "Epoch 10/10\n",
      "1563/1563 [==============================] - 10s 6ms/step - loss: 1.7795 - accuracy: 0.3836\n"
     ]
    },
    {
     "data": {
      "text/plain": [
       "<tensorflow.python.keras.callbacks.History at 0x1b52243ac40>"
      ]
     },
     "execution_count": 31,
     "metadata": {},
     "output_type": "execute_result"
    }
   ],
   "source": [
    "cnn_load_0.compile(loss = tf.keras.losses.sparse_categorical_crossentropy,\n",
    "                    optimizer = tf.keras.optimizers.Adam(),\n",
    "                    metrics = ['accuracy'])\n",
    "\n",
    "cnn_load_0.fit(x = x_train, y = y_train, batch_size = 32, epochs = 10)"
   ]
  },
  {
   "cell_type": "code",
   "execution_count": 32,
   "id": "4c653110",
   "metadata": {},
   "outputs": [
    {
     "name": "stdout",
     "output_type": "stream",
     "text": [
      "313/313 [==============================] - 2s 6ms/step - loss: 1.7663 - accuracy: 0.3901\n"
     ]
    },
    {
     "data": {
      "text/plain": [
       "[1.7662750482559204, 0.39010000228881836]"
      ]
     },
     "execution_count": 32,
     "metadata": {},
     "output_type": "execute_result"
    }
   ],
   "source": [
    "cnn_load_0.evaluate(x=x_test, y=y_test, batch_size=32)"
   ]
  },
  {
   "cell_type": "code",
   "execution_count": 33,
   "id": "7631a036",
   "metadata": {},
   "outputs": [
    {
     "name": "stdout",
     "output_type": "stream",
     "text": [
      "Model: \"model\"\n",
      "_________________________________________________________________\n",
      "Layer (type)                 Output Shape              Param #   \n",
      "=================================================================\n",
      "input_1 (InputLayer)         [(None, 32, 32, 3)]       0         \n",
      "_________________________________________________________________\n",
      "conv2d_1 (Conv2D)            (None, 32, 32, 32)        896       \n",
      "_________________________________________________________________\n",
      "batch_normalization (BatchNo (None, 32, 32, 32)        128       \n",
      "_________________________________________________________________\n",
      "conv2d_2 (Conv2D)            (None, 32, 32, 32)        9248      \n",
      "_________________________________________________________________\n",
      "batch_normalization_1 (Batch (None, 32, 32, 32)        128       \n",
      "_________________________________________________________________\n",
      "tf.nn.relu (TFOpLambda)      (None, 32, 32, 32)        0         \n",
      "_________________________________________________________________\n",
      "max_pooling2d (MaxPooling2D) (None, 16, 16, 32)        0         \n",
      "_________________________________________________________________\n",
      "conv2d_3 (Conv2D)            (None, 16, 16, 64)        18496     \n",
      "_________________________________________________________________\n",
      "batch_normalization_2 (Batch (None, 16, 16, 64)        256       \n",
      "_________________________________________________________________\n",
      "conv2d_4 (Conv2D)            (None, 14, 14, 64)        36928     \n",
      "_________________________________________________________________\n",
      "batch_normalization_3 (Batch (None, 14, 14, 64)        256       \n",
      "_________________________________________________________________\n",
      "tf.nn.relu_1 (TFOpLambda)    (None, 14, 14, 64)        0         \n",
      "_________________________________________________________________\n",
      "max_pooling2d_1 (MaxPooling2 (None, 7, 7, 64)          0         \n",
      "_________________________________________________________________\n",
      "conv2d_5 (Conv2D)            (None, 7, 7, 128)         73856     \n",
      "_________________________________________________________________\n",
      "batch_normalization_4 (Batch (None, 7, 7, 128)         512       \n",
      "_________________________________________________________________\n",
      "conv2d_6 (Conv2D)            (None, 5, 5, 128)         147584    \n",
      "_________________________________________________________________\n",
      "batch_normalization_5 (Batch (None, 5, 5, 128)         512       \n",
      "_________________________________________________________________\n",
      "conv2d_7 (Conv2D)            (None, 3, 3, 128)         147584    \n",
      "_________________________________________________________________\n",
      "batch_normalization_6 (Batch (None, 3, 3, 128)         512       \n",
      "_________________________________________________________________\n",
      "tf.nn.relu_2 (TFOpLambda)    (None, 3, 3, 128)         0         \n",
      "_________________________________________________________________\n",
      "max_pooling2d_2 (MaxPooling2 (None, 1, 1, 128)         0         \n",
      "_________________________________________________________________\n",
      "flatten (Flatten)            (None, 128)               0         \n",
      "_________________________________________________________________\n",
      "dense (Dense)                (None, 64)                8256      \n",
      "_________________________________________________________________\n",
      "dense_1 (Dense)              (None, 64)                4160      \n",
      "_________________________________________________________________\n",
      "dense_2 (Dense)              (None, 3072)              199680    \n",
      "=================================================================\n",
      "Total params: 648,992\n",
      "Trainable params: 199,680\n",
      "Non-trainable params: 449,312\n",
      "_________________________________________________________________\n"
     ]
    }
   ],
   "source": [
    "model_cnn.summary()"
   ]
  },
  {
   "cell_type": "code",
   "execution_count": 39,
   "id": "d3264882",
   "metadata": {},
   "outputs": [],
   "source": [
    "import matplotlib.pyplot as plt"
   ]
  },
  {
   "cell_type": "code",
   "execution_count": 52,
   "id": "f21f7469",
   "metadata": {},
   "outputs": [],
   "source": [
    "from PIL import Image"
   ]
  },
  {
   "cell_type": "code",
   "execution_count": 85,
   "id": "f14be5a7",
   "metadata": {},
   "outputs": [
    {
     "data": {
      "text/plain": [
       "<matplotlib.image.AxesImage at 0x1b6aa17b730>"
      ]
     },
     "execution_count": 85,
     "metadata": {},
     "output_type": "execute_result"
    },
    {
     "data": {
      "image/png": "[encoded data removed]",
      "text/plain": [
       "<Figure size 432x288 with 1 Axes>"
      ]
     },
     "metadata": {
      "needs_background": "light"
     },
     "output_type": "display_data"
    }
   ],
   "source": [
    "i= 20\n",
    "test_image = tf.squeeze(tf.image.rgb_to_grayscale(tf.reshape(x_test[i:i+1], shape=(-1, 32, 32, 3))), [0, 3])\n",
    "predictions = cnn_model_1.predict(x_test[i:i+1])\n",
    "predicted_image = tf.squeeze(tf.image.rgb_to_grayscale(tf.reshape(predictions, shape=(-1, 32, 32, 3))), [0, 3])\n",
    "plt.imshow(predicted_image, cmap='gray')"
   ]
  },
  {
   "cell_type": "code",
   "execution_count": 108,
   "id": "27f29215",
   "metadata": {},
   "outputs": [],
   "source": [
    "model_cnn_1 = tf.keras.Sequential()"
   ]
  },
  {
   "cell_type": "code",
   "execution_count": 109,
   "id": "2f5f0b3b",
   "metadata": {},
   "outputs": [],
   "source": [
    "for layer in cnn_model_1.layers[:-1]:\n",
    "    model_cnn_1.add(layer)"
   ]
  },
  {
   "cell_type": "code",
   "execution_count": 110,
   "id": "8b8a5afa",
   "metadata": {},
   "outputs": [],
   "source": [
    "for layer in model_cnn_1.layers:\n",
    "    layer.trainable = False"
   ]
  },
  {
   "cell_type": "code",
   "execution_count": 111,
   "id": "9d8cd5d3",
   "metadata": {},
   "outputs": [],
   "source": [
    "model_cnn_1.add(tf.keras.layers.Dense(10, activation= 'softmax', name='output_layer'))"
   ]
  },
  {
   "cell_type": "code",
   "execution_count": 112,
   "id": "8f07330c",
   "metadata": {},
   "outputs": [
    {
     "name": "stdout",
     "output_type": "stream",
     "text": [
      "Model: \"sequential_4\"\n",
      "_________________________________________________________________\n",
      "Layer (type)                 Output Shape              Param #   \n",
      "=================================================================\n",
      "conv2d (Conv2D)              (None, 32, 32, 32)        896       \n",
      "_________________________________________________________________\n",
      "batch_normalization (BatchNo (None, 32, 32, 32)        128       \n",
      "_________________________________________________________________\n",
      "conv2d_1 (Conv2D)            (None, 32, 32, 32)        9248      \n",
      "_________________________________________________________________\n",
      "batch_normalization_1 (Batch (None, 32, 32, 32)        128       \n",
      "_________________________________________________________________\n",
      "tf.nn.relu_3 (TFOpLambda)    (None, 32, 32, 32)        0         \n",
      "_________________________________________________________________\n",
      "max_pooling2d (MaxPooling2D) (None, 16, 16, 32)        0         \n",
      "_________________________________________________________________\n",
      "conv2d_2 (Conv2D)            (None, 16, 16, 64)        18496     \n",
      "_________________________________________________________________\n",
      "batch_normalization_2 (Batch (None, 16, 16, 64)        256       \n",
      "_________________________________________________________________\n",
      "conv2d_3 (Conv2D)            (None, 14, 14, 64)        36928     \n",
      "_________________________________________________________________\n",
      "batch_normalization_3 (Batch (None, 14, 14, 64)        256       \n",
      "_________________________________________________________________\n",
      "tf.nn.relu_4 (TFOpLambda)    (None, 14, 14, 64)        0         \n",
      "_________________________________________________________________\n",
      "max_pooling2d_1 (MaxPooling2 (None, 7, 7, 64)          0         \n",
      "_________________________________________________________________\n",
      "conv2d_4 (Conv2D)            (None, 7, 7, 128)         73856     \n",
      "_________________________________________________________________\n",
      "batch_normalization_4 (Batch (None, 7, 7, 128)         512       \n",
      "_________________________________________________________________\n",
      "conv2d_5 (Conv2D)            (None, 5, 5, 128)         147584    \n",
      "_________________________________________________________________\n",
      "batch_normalization_5 (Batch (None, 5, 5, 128)         512       \n",
      "_________________________________________________________________\n",
      "conv2d_6 (Conv2D)            (None, 3, 3, 128)         147584    \n",
      "_________________________________________________________________\n",
      "batch_normalization_6 (Batch (None, 3, 3, 128)         512       \n",
      "_________________________________________________________________\n",
      "tf.nn.relu_5 (TFOpLambda)    (None, 3, 3, 128)         0         \n",
      "_________________________________________________________________\n",
      "max_pooling2d_2 (MaxPooling2 (None, 1, 1, 128)         0         \n",
      "_________________________________________________________________\n",
      "flatten (Flatten)            (None, 128)               0         \n",
      "_________________________________________________________________\n",
      "dense_1 (Dense)              (None, 64)                8256      \n",
      "_________________________________________________________________\n",
      "dense_2 (Dense)              (None, 64)                4160      \n",
      "_________________________________________________________________\n",
      "output_layer (Dense)         (None, 10)                650       \n",
      "=================================================================\n",
      "Total params: 449,962\n",
      "Trainable params: 650\n",
      "Non-trainable params: 449,312\n",
      "_________________________________________________________________\n"
     ]
    }
   ],
   "source": [
    "model_cnn_1.summary()"
   ]
  },
  {
   "cell_type": "code",
   "execution_count": null,
   "id": "92baa6d6",
   "metadata": {},
   "outputs": [
    {
     "name": "stdout",
     "output_type": "stream",
     "text": [
      "Epoch 1/10\n",
      "1563/1563 [==============================] - 10s 6ms/step - loss: 2.0033 - accuracy: 0.3146\n",
      "Epoch 2/10\n",
      "1563/1563 [==============================] - 9s 6ms/step - loss: 1.8888 - accuracy: 0.3464\n",
      "Epoch 3/10\n",
      "1563/1563 [==============================] - 9s 6ms/step - loss: 1.8731 - accuracy: 0.3515\n",
      "Epoch 4/10\n",
      "1563/1563 [==============================] - 9s 6ms/step - loss: 1.8740 - accuracy: 0.3518\n",
      "Epoch 5/10\n",
      "1563/1563 [==============================] - 9s 6ms/step - loss: 1.8701 - accuracy: 0.3546\n",
      "Epoch 6/10\n",
      " 115/1563 [=>............................] - ETA: 8s - loss: 1.8729 - accuracy: 0.3549"
     ]
    }
   ],
   "source": [
    "model_cnn_1.compile(loss = tf.keras.losses.sparse_categorical_crossentropy,\n",
    "                    optimizer = tf.keras.optimizers.Adam(learning_rate=0.005),\n",
    "                    metrics = ['accuracy'])\n",
    "\n",
    "model_cnn_1.fit(x = x_train, y = y_train, batch_size = 32, epochs = 10)"
   ]
  },
  {
   "cell_type": "code",
   "execution_count": 93,
   "id": "ca5cc3d3",
   "metadata": {},
   "outputs": [
    {
     "name": "stdout",
     "output_type": "stream",
     "text": [
      "313/313 [==============================] - 2s 6ms/step - loss: 1.7841 - accuracy: 0.3794\n"
     ]
    },
    {
     "data": {
      "text/plain": [
       "[1.7841081619262695, 0.37940001487731934]"
      ]
     },
     "execution_count": 93,
     "metadata": {},
     "output_type": "execute_result"
    }
   ],
   "source": [
    "model_cnn_1.evaluate(x=x_test, y=y_test, batch_size=32)"
   ]
  },
  {
   "cell_type": "code",
   "execution_count": 100,
   "id": "717ff16c",
   "metadata": {},
   "outputs": [
    {
     "name": "stdout",
     "output_type": "stream",
     "text": [
      "313/313 [==============================] - 2s 6ms/step - loss: 1.8527 - accuracy: 0.3495\n"
     ]
    },
    {
     "data": {
      "text/plain": [
       "[1.8526878356933594, 0.34950000047683716]"
      ]
     },
     "execution_count": 100,
     "metadata": {},
     "output_type": "execute_result"
    }
   ],
   "source": [
    "model_cnn_1.evaluate(x=x_test, y=y_test, batch_size=32)"
   ]
  },
  {
   "cell_type": "code",
   "execution_count": 107,
   "id": "4f20ae5f",
   "metadata": {},
   "outputs": [
    {
     "name": "stdout",
     "output_type": "stream",
     "text": [
      "313/313 [==============================] - 2s 6ms/step - loss: 2.0206 - accuracy: 0.3428\n"
     ]
    },
    {
     "data": {
      "text/plain": [
       "[2.020629405975342, 0.34279999136924744]"
      ]
     },
     "execution_count": 107,
     "metadata": {},
     "output_type": "execute_result"
    }
   ],
   "source": [
    "model_cnn_1.evaluate(x=x_test, y=y_test, batch_size=32)"
   ]
  },
  {
   "cell_type": "code",
   "execution_count": null,
   "id": "0e685cbb",
   "metadata": {},
   "outputs": [],
   "source": []
  }
 ],
 "metadata": {
  "kernelspec": {
   "display_name": "Python 3",
   "language": "python",
   "name": "python3"
  },
  "language_info": {
   "codemirror_mode": {
    "name": "ipython",
    "version": 3
   },
   "file_extension": ".py",
   "mimetype": "text/x-python",
   "name": "python",
   "nbconvert_exporter": "python",
   "pygments_lexer": "ipython3",
   "version": "3.9.5"
  }
 },
 "nbformat": 4,
 "nbformat_minor": 5
}
