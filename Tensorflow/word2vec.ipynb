{
 "cells": [
  {
   "cell_type": "code",
   "execution_count": 1,
   "id": "c32e6035",
   "metadata": {},
   "outputs": [],
   "source": [
    "from tensorflow.keras.models import Sequential\n",
    "from tensorflow.keras.layers import Embedding\n",
    "import numpy as np"
   ]
  },
  {
   "cell_type": "code",
   "execution_count": 2,
   "id": "cf7e5928",
   "metadata": {},
   "outputs": [],
   "source": [
    "model = Sequential()\n",
    "embedding_layer = Embedding(input_dim=10, output_dim=4, input_length=2)\n",
    "model.add(embedding_layer)\n",
    "model.compile('adam','mse')"
   ]
  },
  {
   "cell_type": "code",
   "execution_count": 8,
   "id": "6039786f",
   "metadata": {},
   "outputs": [
    {
     "name": "stdout",
     "output_type": "stream",
     "text": [
      "(3, 2)\n",
      "[[[ 0.04844624 -0.00485881 -0.0492545  -0.01502136]\n",
      "  [-0.00177217 -0.0407959   0.04064612  0.04900885]]\n",
      "\n",
      " [[ 0.00861184  0.0215025  -0.02791776  0.04272671]\n",
      "  [ 0.0317778   0.02580867 -0.04938618 -0.01140486]]\n",
      "\n",
      " [[ 0.04995607  0.04816678 -0.02378471 -0.04055023]\n",
      "  [ 0.04557535  0.01964304 -0.04443607 -0.02900742]]]\n"
     ]
    }
   ],
   "source": [
    "input_data = np.array([[3,4],\n",
    "                       [0,9],\n",
    "                       [2,1]])\n",
    "pred = model.predict(input_data)\n",
    "print(input_data.shape)\n",
    "print(pred)"
   ]
  },
  {
   "cell_type": "code",
   "execution_count": 11,
   "id": "43f99c24",
   "metadata": {},
   "outputs": [
    {
     "data": {
      "text/plain": [
       "[<tf.Variable 'embedding/embeddings:0' shape=(10, 4) dtype=float32, numpy=\n",
       " array([[ 0.00861184,  0.0215025 , -0.02791776,  0.04272671],\n",
       "        [ 0.04557535,  0.01964304, -0.04443607, -0.02900742],\n",
       "        [ 0.04995607,  0.04816678, -0.02378471, -0.04055023],\n",
       "        [ 0.04844624, -0.00485881, -0.0492545 , -0.01502136],\n",
       "        [-0.00177217, -0.0407959 ,  0.04064612,  0.04900885],\n",
       "        [ 0.02726105, -0.03905716, -0.04823518,  0.03205652],\n",
       "        [-0.04778229,  0.01817701, -0.01282474,  0.00999111],\n",
       "        [-0.01989874,  0.00062699, -0.03477405, -0.00864558],\n",
       "        [-0.01922343,  0.02229274,  0.04035015, -0.00317257],\n",
       "        [ 0.0317778 ,  0.02580867, -0.04938618, -0.01140486]],\n",
       "       dtype=float32)>]"
      ]
     },
     "execution_count": 11,
     "metadata": {},
     "output_type": "execute_result"
    }
   ],
   "source": [
    "embedding_layer.weights"
   ]
  },
  {
   "cell_type": "code",
   "execution_count": 12,
   "id": "9c9e00e5",
   "metadata": {},
   "outputs": [],
   "source": [
    "from numpy import array\n",
    "from tensorflow.keras.preprocessing.text import one_hot\n",
    "from tensorflow.keras.preprocessing.sequence import pad_sequences\n",
    "from tensorflow.keras.models import Sequential\n",
    "from tensorflow.keras.layers import Flatten,Embedding,Dense"
   ]
  },
  {
   "cell_type": "code",
   "execution_count": 13,
   "id": "394ef7ce",
   "metadata": {},
   "outputs": [],
   "source": [
    "# Define 10 restaurant reviews\n",
    "reviews =[\n",
    "          'Never coming back!',\n",
    "          'horrible service',\n",
    "          'rude waitress',\n",
    "          'cold food',\n",
    "          'horrible food!',\n",
    "          'awesome',\n",
    "          'awesome services!',\n",
    "          'rocks',\n",
    "          'poor work',\n",
    "          'couldn\\'t have done better'\n",
    "]\n",
    "#Define labels\n",
    "labels = array([1,1,1,1,1,0,0,0,0,0])"
   ]
  },
  {
   "cell_type": "code",
   "execution_count": 14,
   "id": "9180fe69",
   "metadata": {},
   "outputs": [],
   "source": [
    "from tensorflow.keras.preprocessing.text import Tokenizer"
   ]
  },
  {
   "cell_type": "code",
   "execution_count": 27,
   "id": "1f1bef9a",
   "metadata": {},
   "outputs": [],
   "source": [
    "vocab_size=1000\n",
    "max_input_length = 20"
   ]
  },
  {
   "cell_type": "code",
   "execution_count": 17,
   "id": "4a5daac9",
   "metadata": {},
   "outputs": [],
   "source": [
    "tokenizer = Tokenizer(num_words=vocab_size)"
   ]
  },
  {
   "cell_type": "code",
   "execution_count": 20,
   "id": "f3b68f2f",
   "metadata": {},
   "outputs": [],
   "source": [
    "tokenizer.fit_on_texts(reviews)"
   ]
  },
  {
   "cell_type": "code",
   "execution_count": 23,
   "id": "bdf2f134",
   "metadata": {},
   "outputs": [],
   "source": [
    "tokenized_sequences = tokenizer.texts_to_sequences(reviews)"
   ]
  },
  {
   "cell_type": "code",
   "execution_count": 28,
   "id": "ab35ca36",
   "metadata": {
    "scrolled": true
   },
   "outputs": [
    {
     "name": "stdout",
     "output_type": "stream",
     "text": [
      "[[ 4  5  6  0  0  0  0  0  0  0  0  0  0  0  0  0  0  0  0  0]\n",
      " [ 1  7  0  0  0  0  0  0  0  0  0  0  0  0  0  0  0  0  0  0]\n",
      " [ 8  9  0  0  0  0  0  0  0  0  0  0  0  0  0  0  0  0  0  0]\n",
      " [10  2  0  0  0  0  0  0  0  0  0  0  0  0  0  0  0  0  0  0]\n",
      " [ 1  2  0  0  0  0  0  0  0  0  0  0  0  0  0  0  0  0  0  0]\n",
      " [ 3  0  0  0  0  0  0  0  0  0  0  0  0  0  0  0  0  0  0  0]\n",
      " [ 3 11  0  0  0  0  0  0  0  0  0  0  0  0  0  0  0  0  0  0]\n",
      " [12  0  0  0  0  0  0  0  0  0  0  0  0  0  0  0  0  0  0  0]\n",
      " [13 14  0  0  0  0  0  0  0  0  0  0  0  0  0  0  0  0  0  0]\n",
      " [15 16 17 18  0  0  0  0  0  0  0  0  0  0  0  0  0  0  0  0]]\n"
     ]
    }
   ],
   "source": [
    "padded_tokens = pad_sequences(tokenized_sequences, maxlen = max_input_length, padding='post', truncating='post')\n",
    "print(padded_tokens)"
   ]
  },
  {
   "cell_type": "code",
   "execution_count": 33,
   "id": "16d07bc1",
   "metadata": {},
   "outputs": [
    {
     "data": {
      "text/plain": [
       "(10, 20)"
      ]
     },
     "execution_count": 33,
     "metadata": {},
     "output_type": "execute_result"
    }
   ],
   "source": [
    "padded_tokens.shape"
   ]
  },
  {
   "cell_type": "code",
   "execution_count": 31,
   "id": "ce2cbea7",
   "metadata": {},
   "outputs": [],
   "source": [
    "test_embedding_layer = Embedding(vocab_size, 4, input_length=max_input_length)"
   ]
  },
  {
   "cell_type": "code",
   "execution_count": 34,
   "id": "c14086ca",
   "metadata": {},
   "outputs": [
    {
     "data": {
      "text/plain": [
       "TensorShape([10, 20, 4])"
      ]
     },
     "execution_count": 34,
     "metadata": {},
     "output_type": "execute_result"
    }
   ],
   "source": [
    "test_embedding_layer(padded_tokens).shape"
   ]
  },
  {
   "cell_type": "code",
   "execution_count": 38,
   "id": "4c985679",
   "metadata": {},
   "outputs": [
    {
     "data": {
      "text/plain": [
       "TensorShape([10, 80])"
      ]
     },
     "execution_count": 38,
     "metadata": {},
     "output_type": "execute_result"
    }
   ],
   "source": [
    "Flatten()(test_embedding_layer(padded_tokens)).shape"
   ]
  },
  {
   "cell_type": "code",
   "execution_count": 35,
   "id": "9e830d82",
   "metadata": {},
   "outputs": [
    {
     "name": "stdout",
     "output_type": "stream",
     "text": [
      "encoded reviews: [[39, 23, 9], [45, 42], [3, 22], [34, 34], [45, 34], [25], [25, 23], [3], [35, 45], [33, 16, 45, 15]]\n"
     ]
    }
   ],
   "source": [
    "Vocab_size = 50\n",
    "encoded_reviews = [one_hot(d,Vocab_size) for d in reviews]\n",
    "print(f'encoded reviews: {encoded_reviews}')"
   ]
  },
  {
   "cell_type": "code",
   "execution_count": 36,
   "id": "07f59fbf",
   "metadata": {},
   "outputs": [
    {
     "name": "stdout",
     "output_type": "stream",
     "text": [
      "[[39 23  9  0]\n",
      " [45 42  0  0]\n",
      " [ 3 22  0  0]\n",
      " [34 34  0  0]\n",
      " [45 34  0  0]\n",
      " [25  0  0  0]\n",
      " [25 23  0  0]\n",
      " [ 3  0  0  0]\n",
      " [35 45  0  0]\n",
      " [33 16 45 15]]\n"
     ]
    }
   ],
   "source": [
    "max_length = 4\n",
    "padded_reviews = pad_sequences(encoded_reviews,maxlen=max_length,padding='post')\n",
    "print(padded_reviews)"
   ]
  },
  {
   "cell_type": "code",
   "execution_count": 39,
   "id": "4d94569c",
   "metadata": {},
   "outputs": [
    {
     "name": "stdout",
     "output_type": "stream",
     "text": [
      "Model: \"sequential_1\"\n",
      "_________________________________________________________________\n",
      " Layer (type)                Output Shape              Param #   \n",
      "=================================================================\n",
      " embedding_3 (Embedding)     (None, 4, 8)              400       \n",
      "                                                                 \n",
      " flatten_2 (Flatten)         (None, 32)                0         \n",
      "                                                                 \n",
      " dense (Dense)               (None, 1)                 33        \n",
      "                                                                 \n",
      "=================================================================\n",
      "Total params: 433\n",
      "Trainable params: 433\n",
      "Non-trainable params: 0\n",
      "_________________________________________________________________\n",
      "None\n"
     ]
    }
   ],
   "source": [
    "model = Sequential()\n",
    "embedding_layer = Embedding(input_dim=Vocab_size,output_dim=8,input_length=max_length)\n",
    "model.add(embedding_layer)\n",
    "model.add(Flatten())\n",
    "model.add(Dense(1,activation='sigmoid'))\n",
    "model.compile(optimizer='adam',loss='binary_crossentropy',metrics=['acc'])\n",
    "print(model.summary())"
   ]
  },
  {
   "cell_type": "code",
   "execution_count": 40,
   "id": "b113c313",
   "metadata": {},
   "outputs": [
    {
     "data": {
      "text/plain": [
       "<keras.callbacks.History at 0x235e252b9d0>"
      ]
     },
     "execution_count": 40,
     "metadata": {},
     "output_type": "execute_result"
    }
   ],
   "source": [
    "model.fit(padded_reviews,labels,epochs=100,verbose=0)"
   ]
  },
  {
   "cell_type": "code",
   "execution_count": 46,
   "id": "1eac6d43",
   "metadata": {},
   "outputs": [
    {
     "data": {
      "text/plain": [
       "[<tf.Variable 'embedding_3/embeddings:0' shape=(50, 8) dtype=float32, numpy=\n",
       " array([[-0.11303274,  0.1393673 , -0.1182963 ,  0.10176156,  0.12531956,\n",
       "         -0.07254126, -0.12246963,  0.05851728],\n",
       "        [-0.0049333 , -0.03537079, -0.02483976, -0.00382701,  0.01019424,\n",
       "         -0.01850227,  0.01779348,  0.03818789],\n",
       "        [-0.01681844,  0.03955699, -0.04310925, -0.04206495,  0.01937217,\n",
       "          0.01382533,  0.01335385, -0.0225739 ],\n",
       "        [ 0.07480194, -0.00491694,  0.05680364,  0.05407056, -0.04219474,\n",
       "         -0.08120994, -0.01496705,  0.08853046],\n",
       "        [-0.00569038, -0.01568059, -0.04147396,  0.01380218, -0.02635579,\n",
       "         -0.03828931,  0.04772403,  0.01264602],\n",
       "        [ 0.03216541,  0.01028331, -0.02223557,  0.0347763 , -0.03460439,\n",
       "         -0.02847245,  0.01573749,  0.00169037],\n",
       "        [ 0.00771175, -0.03809086, -0.02883612,  0.04323464, -0.03003935,\n",
       "         -0.02489585, -0.02675251,  0.04714814],\n",
       "        [ 0.03407318, -0.04705732, -0.0289905 , -0.00146979, -0.0365596 ,\n",
       "          0.00161294,  0.02927465,  0.00581603],\n",
       "        [ 0.01958585, -0.00425858, -0.03612969,  0.04546447,  0.04978173,\n",
       "          0.03913235,  0.04453346,  0.04815474],\n",
       "        [ 0.13045208,  0.04617865,  0.15682779,  0.13303117,  0.03713689,\n",
       "         -0.05095906, -0.14657952,  0.13140804],\n",
       "        [-0.04984056, -0.04748491, -0.0348847 , -0.03346145, -0.03184824,\n",
       "          0.02033392,  0.00786835, -0.01155518],\n",
       "        [ 0.02932656, -0.04141793, -0.03268968, -0.02599597,  0.00596013,\n",
       "         -0.03714401, -0.02773913,  0.02568701],\n",
       "        [ 0.01566156, -0.04185473,  0.01555084,  0.00576973, -0.03856968,\n",
       "          0.02795937, -0.00892574, -0.04113412],\n",
       "        [-0.03358246,  0.01917269,  0.04545696, -0.03985681, -0.00415324,\n",
       "          0.00476053, -0.02907755, -0.02393488],\n",
       "        [-0.03702282, -0.00145276, -0.02660846, -0.01959952,  0.04310694,\n",
       "          0.03102383,  0.03730584, -0.0242804 ],\n",
       "        [ 0.12953818,  0.0633442 ,  0.07312445,  0.12133547, -0.15265918,\n",
       "          0.07054387,  0.11814594, -0.10843387],\n",
       "        [-0.06816094,  0.10253298, -0.1182876 ,  0.12156975,  0.05945108,\n",
       "         -0.11810227, -0.13194035,  0.12086134],\n",
       "        [ 0.03267046,  0.02255965, -0.01962906,  0.03010117,  0.01826343,\n",
       "         -0.01838822,  0.00783492, -0.01543096],\n",
       "        [ 0.03109035,  0.00331252, -0.0124566 , -0.04083488, -0.02893527,\n",
       "          0.01747555,  0.02465296,  0.01986489],\n",
       "        [-0.0487517 , -0.04532112, -0.01602596, -0.03985976, -0.02056917,\n",
       "         -0.01548859,  0.024252  ,  0.02097828],\n",
       "        [-0.03917029, -0.03345805, -0.03717726,  0.03525033,  0.00822023,\n",
       "          0.02655   , -0.01718594, -0.00652915],\n",
       "        [-0.01235647,  0.038497  , -0.02789192,  0.00555547, -0.03670682,\n",
       "          0.03113054, -0.04651706, -0.03547188],\n",
       "        [ 0.08653752, -0.14036965,  0.10717853, -0.14915232, -0.13620128,\n",
       "          0.06347073,  0.09558975, -0.11313611],\n",
       "        [-0.11993714,  0.04072513, -0.03457959,  0.12186874,  0.03571874,\n",
       "         -0.05026397, -0.1145701 ,  0.05264744],\n",
       "        [ 0.00689568,  0.04984069,  0.01939857, -0.0257894 , -0.02977921,\n",
       "          0.02903442,  0.03865964, -0.02375151],\n",
       "        [ 0.07020035, -0.1446148 ,  0.12887652,  0.05242111, -0.17154862,\n",
       "         -0.10712979, -0.09676308,  0.14438523],\n",
       "        [-0.03387775,  0.02331524, -0.01047499,  0.02580066, -0.00225967,\n",
       "          0.00811683, -0.03993138,  0.02588372],\n",
       "        [-0.01275691, -0.02208039, -0.03055202, -0.00405366,  0.01626642,\n",
       "          0.00909454,  0.03592409,  0.02821728],\n",
       "        [ 0.03854496, -0.04730869, -0.03225689,  0.03987921,  0.03577778,\n",
       "         -0.04180261, -0.03654414,  0.00430493],\n",
       "        [ 0.04745938,  0.01662989, -0.01142434,  0.03052611, -0.01460086,\n",
       "         -0.0238068 ,  0.01355233,  0.02780673],\n",
       "        [ 0.03370882,  0.02038794, -0.03309222,  0.03358004, -0.00223955,\n",
       "         -0.01698947, -0.0303278 , -0.02632916],\n",
       "        [-0.01044254,  0.02416459, -0.02155516,  0.03026612, -0.01449294,\n",
       "         -0.04069307, -0.03419708, -0.00665786],\n",
       "        [-0.02760348, -0.00457717, -0.00474712, -0.02075862, -0.00793244,\n",
       "          0.03690206, -0.022417  , -0.03471929],\n",
       "        [ 0.05418872, -0.07749818,  0.16450053,  0.06067173, -0.09764721,\n",
       "         -0.0915629 , -0.0874166 ,  0.11752512],\n",
       "        [ 0.08223248, -0.07024472,  0.14292547, -0.11233722, -0.10629803,\n",
       "          0.08405697,  0.09248758, -0.08510712],\n",
       "        [ 0.08784484, -0.09746122,  0.07800126,  0.11623139, -0.13122094,\n",
       "         -0.08440252, -0.15151148,  0.1343534 ],\n",
       "        [-0.0381765 , -0.0300546 ,  0.01216384,  0.02985631, -0.00298553,\n",
       "         -0.00676109, -0.02987929,  0.03866163],\n",
       "        [ 0.01981692,  0.0013705 , -0.04219958,  0.04424489, -0.02532255,\n",
       "         -0.0340845 ,  0.01538742,  0.00084152],\n",
       "        [ 0.01599783,  0.0018638 , -0.01077429,  0.00115825, -0.01081668,\n",
       "          0.04398689,  0.00583097, -0.03424579],\n",
       "        [-0.10592604,  0.09633762, -0.11339088, -0.08456142,  0.1657645 ,\n",
       "          0.13101968,  0.05740297, -0.11501066],\n",
       "        [-0.02320538, -0.0279565 ,  0.01377003, -0.04591395, -0.02790755,\n",
       "         -0.04880898,  0.00102615, -0.01551022],\n",
       "        [ 0.02310145,  0.03789241, -0.045837  , -0.00414883,  0.01232619,\n",
       "          0.01943351, -0.04486918, -0.01860267],\n",
       "        [ 0.09189917, -0.09924562,  0.10405491, -0.0816853 , -0.08446878,\n",
       "          0.15119596,  0.08542772, -0.14311744],\n",
       "        [ 0.01261837,  0.03288009, -0.01076387, -0.03449401, -0.00679817,\n",
       "          0.00889657, -0.00601528, -0.03361307],\n",
       "        [-0.00065153,  0.03801659,  0.02135161, -0.02042696, -0.00133363,\n",
       "          0.02726707,  0.02392695, -0.00169209],\n",
       "        [-0.05752692,  0.09361847, -0.14359835, -0.04176641,  0.15846871,\n",
       "          0.05745015,  0.03929611, -0.08126133],\n",
       "        [ 0.00967465, -0.02985859, -0.02287124,  0.01884082, -0.00199735,\n",
       "          0.03055074, -0.02318206,  0.03350936],\n",
       "        [-0.04052847, -0.03380008,  0.02572944, -0.01607762, -0.04784625,\n",
       "         -0.04934544,  0.02008388, -0.01964784],\n",
       "        [ 0.01300186,  0.04845215,  0.03966152, -0.02772275,  0.00791619,\n",
       "         -0.01674383,  0.01954353, -0.04190155],\n",
       "        [ 0.03755981, -0.01078811,  0.02840767,  0.00390943,  0.01027767,\n",
       "         -0.02585214, -0.03085152,  0.02359996]], dtype=float32)>]"
      ]
     },
     "execution_count": 46,
     "metadata": {},
     "output_type": "execute_result"
    }
   ],
   "source": [
    "embedding_layer.weights"
   ]
  },
  {
   "cell_type": "code",
   "execution_count": null,
   "id": "1c486d05",
   "metadata": {},
   "outputs": [],
   "source": []
  }
 ],
 "metadata": {
  "kernelspec": {
   "display_name": "Python 3 (ipykernel)",
   "language": "python",
   "name": "python3"
  },
  "language_info": {
   "codemirror_mode": {
    "name": "ipython",
    "version": 3
   },
   "file_extension": ".py",
   "mimetype": "text/x-python",
   "name": "python",
   "nbconvert_exporter": "python",
   "pygments_lexer": "ipython3",
   "version": "3.9.6"
  }
 },
 "nbformat": 4,
 "nbformat_minor": 5
}
