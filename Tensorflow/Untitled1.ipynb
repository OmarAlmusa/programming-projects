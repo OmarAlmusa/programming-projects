{
 "cells": [
  {
   "cell_type": "code",
   "execution_count": 1,
   "metadata": {},
   "outputs": [],
   "source": [
    "from google_images_download import google_images_download"
   ]
  },
  {
   "cell_type": "code",
   "execution_count": 3,
   "metadata": {},
   "outputs": [],
   "source": [
    "import os"
   ]
  },
  {
   "cell_type": "code",
   "execution_count": 4,
   "metadata": {},
   "outputs": [
    {
     "data": {
      "text/plain": [
       "'C:\\\\Users\\\\An_asus\\\\Desktop\\\\Programming\\\\JupyterNotebook\\\\tensorflow'"
      ]
     },
     "execution_count": 4,
     "metadata": {},
     "output_type": "execute_result"
    }
   ],
   "source": [
    "os.getcwd()"
   ]
  },
  {
   "cell_type": "code",
   "execution_count": 5,
   "metadata": {},
   "outputs": [],
   "source": [
    "data_path = 'C:/Users/An_asus/Desktop/AI/data sets/google_img_dwn/FER/'"
   ]
  },
  {
   "cell_type": "code",
   "execution_count": 11,
   "metadata": {},
   "outputs": [],
   "source": [
    "driver_path = 'C:/Users/An_asus/Desktop/chrome driver/chromedriver.exe'"
   ]
  },
  {
   "cell_type": "code",
   "execution_count": 12,
   "metadata": {},
   "outputs": [],
   "source": [
    "args = {'keywords': 'happy human face',\n",
    "        'output_directory': data_path,\n",
    "        'image_directory': 'happy', \n",
    "        'silent_mode': True,    \n",
    "        'limit': 1000,\n",
    "        'chromedriver': driver_path}"
   ]
  },
  {
   "cell_type": "code",
   "execution_count": 13,
   "metadata": {},
   "outputs": [
    {
     "name": "stdout",
     "output_type": "stream",
     "text": [
      "Downloading images for: happy human face ...\n",
      "Getting you a lot of images. This may take a few moments...\n",
      "Reached end of Page.\n",
      "\n",
      "\n",
      "Unfortunately all 1000 could not be downloaded because some images were not downloadable. 0 is all we got for this search filter!\n"
     ]
    },
    {
     "data": {
      "text/plain": [
       "({'happy human face': []}, 0)"
      ]
     },
     "execution_count": 13,
     "metadata": {},
     "output_type": "execute_result"
    }
   ],
   "source": [
    "response = google_images_download.googleimagesdownload()\n",
    "response.download(args)"
   ]
  },
  {
   "cell_type": "code",
   "execution_count": 14,
   "metadata": {},
   "outputs": [
    {
     "name": "stderr",
     "output_type": "stream",
     "text": [
      "C:\\Users\\An_asus\\Anaconda3\\lib\\site-packages\\torch\\nn\\functional.py:718: UserWarning: Named tensors and all their associated APIs are an experimental feature and subject to change. Please do not use them for anything important until they are released as stable. (Triggered internally at  ..\\c10/core/TensorImpl.h:1156.)\n",
      "  return torch.max_pool2d(input, kernel_size, stride, padding, dilation, ceil_mode)\n"
     ]
    }
   ],
   "source": [
    "from facenet_pytorch import MTCNN\n",
    "from PIL import Image\n",
    "\n",
    "img_path = 'C:/Users/An_asus/Desktop/sad man.jpg'\n",
    "img = Image.open(img_path)\n",
    "\n",
    "model = MTCNN(keep_all=True)\n",
    "bboxes, preds = model.detect(img)"
   ]
  },
  {
   "cell_type": "code",
   "execution_count": 15,
   "metadata": {},
   "outputs": [
    {
     "data": {
      "text/plain": [
       "array([[ 544.0206,  439.0514, 1207.0353, 1318.7609]], dtype=float32)"
      ]
     },
     "execution_count": 15,
     "metadata": {},
     "output_type": "execute_result"
    }
   ],
   "source": [
    "bboxes"
   ]
  },
  {
   "cell_type": "code",
   "execution_count": 16,
   "metadata": {},
   "outputs": [
    {
     "data": {
      "text/plain": [
       "array([0.9998766], dtype=float32)"
      ]
     },
     "execution_count": 16,
     "metadata": {},
     "output_type": "execute_result"
    }
   ],
   "source": [
    "preds"
   ]
  },
  {
   "cell_type": "code",
   "execution_count": 17,
   "metadata": {},
   "outputs": [],
   "source": [
    "\n",
    "import torch.nn as nn\n",
    "from torchvision.models import resnet50\n",
    "\n",
    "def init_grayscale_resnet(init_weights=None):\n",
    "    \"\"\"Initialize a pretrained Resnet-50 model and change the first layer to be a one-channel 2D convolution\n",
    "    \n",
    "    Parameters\n",
    "    ----------\n",
    "    init_weights: nn.Tensor, optional\n",
    "        A tensor containing the initial weights for the new convolution layer with shape (64, 1, 7, 7).\n",
    "        If left as None, the parameters will be initialized using the kaiming uniform distribution.\n",
    "    \n",
    "    Returns\n",
    "    -------\n",
    "    gray_model: nn.Module\n",
    "    \"\"\"\n",
    "    gray_model = resnet50(pretrained=True)\n",
    "    if init_weights is None:\n",
    "        # change the first layer to use 1x7x7-sized kernels instead of 3x7x7-sized kernels\n",
    "        w = torch.zeros((64, 1, 7, 7))\n",
    "        nn.init.kaiming_uniform_(w, a=math.sqrt(5))\n",
    "    else:\n",
    "        w = init_weights\n",
    "    gray_model.conv1.weight.data = w\n",
    "    return gray_model"
   ]
  },
  {
   "cell_type": "code",
   "execution_count": 18,
   "metadata": {},
   "outputs": [],
   "source": [
    "from torchvision.models import resnet50\n",
    "\n",
    "# The layers of Resnet-50 are organized into blocks\n",
    "# The last three blocks contain 11 trainable layers in total (10, 0, and 1, in that order)\n",
    "# We will go ahead and freeze the parameters of all but the last 11 layers in the model\n",
    "model = resnet50()\n",
    "for model_block in list(model.children())[:-3]:\n",
    "    for param in model_block.parameters():\n",
    "        param.requires_grad = False"
   ]
  },
  {
   "cell_type": "code",
   "execution_count": null,
   "metadata": {},
   "outputs": [],
   "source": []
  }
 ],
 "metadata": {
  "kernelspec": {
   "display_name": "Python 3",
   "language": "python",
   "name": "python3"
  },
  "language_info": {
   "codemirror_mode": {
    "name": "ipython",
    "version": 3
   },
   "file_extension": ".py",
   "mimetype": "text/x-python",
   "name": "python",
   "nbconvert_exporter": "python",
   "pygments_lexer": "ipython3",
   "version": "3.7.4"
  }
 },
 "nbformat": 4,
 "nbformat_minor": 2
}
