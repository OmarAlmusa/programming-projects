{
 "cells": [
  {
   "cell_type": "code",
   "execution_count": 1,
   "id": "a8de80a2-1bb6-4f0e-b365-1f9cf6c9c496",
   "metadata": {},
   "outputs": [],
   "source": [
    "import os\n",
    "import glob\n",
    "import cv2\n",
    "import numpy as np\n",
    "import matplotlib.pyplot as plt\n",
    "from cv2 import cuda"
   ]
  },
  {
   "cell_type": "code",
   "execution_count": 2,
   "id": "9179200f-c37e-42e2-9b4c-c03ca7adf14d",
   "metadata": {},
   "outputs": [
    {
     "data": {
      "text/plain": [
       "['video_footages\\\\Raw Video_ Pittsburg Neighborhood Drive-By Shootings.mp4',\n",
       " 'video_footages\\\\Road traffic video for object recognition.mp4',\n",
       " 'video_footages\\\\Shooting captured by surveillance camera in Parma.mp4',\n",
       " 'video_footages\\\\Shopping, People, Commerce, Mall, Many, Crowd, Walking   Free Stock video footage   YouTube.mp4',\n",
       " 'video_footages\\\\Traffic Flow In The Highway - 4K Stock Videos _ NoCopyright _ AllVideoFree.mp4',\n",
       " 'video_footages\\\\vecteezy_busy-street-in-evening-hong-kong_28840705 (1) (1).mp4',\n",
       " 'video_footages\\\\vecteezy_people-crossing-the-road-on-zebra-tallin_28257759.mp4']"
      ]
     },
     "execution_count": 2,
     "metadata": {},
     "output_type": "execute_result"
    }
   ],
   "source": [
    "video_files = glob.glob('video_footages/*')\n",
    "video_files"
   ]
  },
  {
   "cell_type": "code",
   "execution_count": 10,
   "id": "d87d83db-49cb-40e8-8e63-8814cb7289ef",
   "metadata": {},
   "outputs": [
    {
     "ename": "AttributeError",
     "evalue": "module 'cv2' has no attribute 'cuda_FarnebackOpticalFlow'",
     "output_type": "error",
     "traceback": [
      "\u001b[1;31m---------------------------------------------------------------------------\u001b[0m",
      "\u001b[1;31mAttributeError\u001b[0m                            Traceback (most recent call last)",
      "Cell \u001b[1;32mIn[10], line 1\u001b[0m\n\u001b[1;32m----> 1\u001b[0m gpu_flow \u001b[38;5;241m=\u001b[39m \u001b[43mcv2\u001b[49m\u001b[38;5;241;43m.\u001b[39;49m\u001b[43mcuda_FarnebackOpticalFlow\u001b[49m\u001b[38;5;241m.\u001b[39mcalc(\n\u001b[0;32m      2\u001b[0m     gpu_flow, gpu_previous, gpu_current, \u001b[38;5;28;01mNone\u001b[39;00m,\n\u001b[0;32m      3\u001b[0m )\n",
      "\u001b[1;31mAttributeError\u001b[0m: module 'cv2' has no attribute 'cuda_FarnebackOpticalFlow'"
     ]
    }
   ],
   "source": [
    "gpu_flow = cv2.cuda_FarnebackOpticalFlow.create(\n",
    "    5, 0.5, False, 15, 3, 5, 1.2, 0\n",
    ")"
   ]
  },
  {
   "cell_type": "code",
   "execution_count": 6,
   "id": "5c02ce40-c25b-4edc-aab7-5f463b8c3140",
   "metadata": {},
   "outputs": [],
   "source": [
    "def get_motion_mask(flow_mag, motion_thresh=1, kernel=np.ones((7,7))):\n",
    "\n",
    "    motion_mask = np.uint8(flow_mag > motion_thresh)*255\n",
    "\n",
    "    motion_mask = cv2.erode(motion_mask, kernel, iterations=1)\n",
    "    motion_mask = cv2.morphologyEx(motion_mask, cv2.MORPH_OPEN, kernel, iterations=1)\n",
    "    motion_mask = cv2.morphologyEx(motion_mask, cv2.MORPH_CLOSE, kernel, iterations=3)\n",
    "    \n",
    "    return motion_mask"
   ]
  },
  {
   "cell_type": "code",
   "execution_count": 7,
   "id": "c1d7f6a6-d482-4e0c-96bb-b4d3f6a39ffe",
   "metadata": {},
   "outputs": [
    {
     "ename": "TypingError",
     "evalue": "Failed in nopython mode pipeline (step: nopython frontend)\n\u001b[1m\u001b[1m\u001b[1mNo implementation of function Function(uint8) found for signature:\n \n >>> <unknown function>(array(bool, 2d, C))\n \nThere are 2 candidate implementations:\n\u001b[1m - Of which 2 did not match due to:\n Overload in function 'make_callable_template.<locals>.generic': File: numba\\core\\typing\\templates.py: Line 174.\n   With argument(s): '(array(bool, 2d, C))':\u001b[0m\n\u001b[1m  Rejected as the implementation raised a specific error:\n    TypingError: \u001b[1mCasting array(bool, 2d, C) to uint8 directly is unsupported. Try doing '<array>.astype(np.uint8)' instead\u001b[0m\u001b[0m\n  raised from C:\\Users\\An_asus\\AppData\\Local\\Programs\\Python\\Python312\\Lib\\site-packages\\numba\\core\\typing\\builtins.py:851\n\u001b[0m\n\u001b[0m\u001b[1mDuring: resolving callee type: class(uint8)\u001b[0m\n\u001b[0m\u001b[1mDuring: typing of call at C:\\Users\\An_asus\\AppData\\Local\\Temp\\ipykernel_19760\\1984252410.py (4)\n\u001b[0m\n\u001b[1m\nFile \"..\\..\\..\\..\\AppData\\Local\\Temp\\ipykernel_19760\\1984252410.py\", line 4:\u001b[0m\n\u001b[1m<source missing, REPL/exec in use?>\u001b[0m\n",
     "output_type": "error",
     "traceback": [
      "\u001b[1;31m---------------------------------------------------------------------------\u001b[0m",
      "\u001b[1;31mTypingError\u001b[0m                               Traceback (most recent call last)",
      "Cell \u001b[1;32mIn[7], line 38\u001b[0m\n\u001b[0;32m     35\u001b[0m bgr \u001b[38;5;241m=\u001b[39m cv2\u001b[38;5;241m.\u001b[39mcvtColor(hsv, cv2\u001b[38;5;241m.\u001b[39mCOLOR_HSV2BGR)\n\u001b[0;32m     37\u001b[0m \u001b[38;5;66;03m# bounding boxes:\u001b[39;00m\n\u001b[1;32m---> 38\u001b[0m motion_mask \u001b[38;5;241m=\u001b[39m \u001b[43mget_motion_mask\u001b[49m\u001b[43m(\u001b[49m\u001b[43mmag\u001b[49m\u001b[43m,\u001b[49m\u001b[43m \u001b[49m\u001b[43mmotion_thresh\u001b[49m\u001b[38;5;241;43m=\u001b[39;49m\u001b[43mmotion_thresh\u001b[49m\u001b[43m,\u001b[49m\u001b[43m \u001b[49m\u001b[43mkernel\u001b[49m\u001b[38;5;241;43m=\u001b[39;49m\u001b[43mmask_kernel\u001b[49m\u001b[43m)\u001b[49m\n\u001b[0;32m     40\u001b[0m contours, _ \u001b[38;5;241m=\u001b[39m cv2\u001b[38;5;241m.\u001b[39mfindContours(motion_mask, cv2\u001b[38;5;241m.\u001b[39mRETR_EXTERNAL, cv2\u001b[38;5;241m.\u001b[39mCHAIN_APPROX_TC89_L1)\n\u001b[0;32m     42\u001b[0m \u001b[38;5;28;01mfor\u001b[39;00m cnt \u001b[38;5;129;01min\u001b[39;00m contours:\n",
      "File \u001b[1;32m~\\AppData\\Local\\Programs\\Python\\Python312\\Lib\\site-packages\\numba\\core\\dispatcher.py:468\u001b[0m, in \u001b[0;36m_DispatcherBase._compile_for_args\u001b[1;34m(self, *args, **kws)\u001b[0m\n\u001b[0;32m    464\u001b[0m         msg \u001b[38;5;241m=\u001b[39m (\u001b[38;5;124mf\u001b[39m\u001b[38;5;124m\"\u001b[39m\u001b[38;5;132;01m{\u001b[39;00m\u001b[38;5;28mstr\u001b[39m(e)\u001b[38;5;241m.\u001b[39mrstrip()\u001b[38;5;132;01m}\u001b[39;00m\u001b[38;5;124m \u001b[39m\u001b[38;5;130;01m\\n\u001b[39;00m\u001b[38;5;130;01m\\n\u001b[39;00m\u001b[38;5;124mThis error may have been caused \u001b[39m\u001b[38;5;124m\"\u001b[39m\n\u001b[0;32m    465\u001b[0m                \u001b[38;5;124mf\u001b[39m\u001b[38;5;124m\"\u001b[39m\u001b[38;5;124mby the following argument(s):\u001b[39m\u001b[38;5;130;01m\\n\u001b[39;00m\u001b[38;5;132;01m{\u001b[39;00margs_str\u001b[38;5;132;01m}\u001b[39;00m\u001b[38;5;130;01m\\n\u001b[39;00m\u001b[38;5;124m\"\u001b[39m)\n\u001b[0;32m    466\u001b[0m         e\u001b[38;5;241m.\u001b[39mpatch_message(msg)\n\u001b[1;32m--> 468\u001b[0m     \u001b[43merror_rewrite\u001b[49m\u001b[43m(\u001b[49m\u001b[43me\u001b[49m\u001b[43m,\u001b[49m\u001b[43m \u001b[49m\u001b[38;5;124;43m'\u001b[39;49m\u001b[38;5;124;43mtyping\u001b[39;49m\u001b[38;5;124;43m'\u001b[39;49m\u001b[43m)\u001b[49m\n\u001b[0;32m    469\u001b[0m \u001b[38;5;28;01mexcept\u001b[39;00m errors\u001b[38;5;241m.\u001b[39mUnsupportedError \u001b[38;5;28;01mas\u001b[39;00m e:\n\u001b[0;32m    470\u001b[0m     \u001b[38;5;66;03m# Something unsupported is present in the user code, add help info\u001b[39;00m\n\u001b[0;32m    471\u001b[0m     error_rewrite(e, \u001b[38;5;124m'\u001b[39m\u001b[38;5;124munsupported_error\u001b[39m\u001b[38;5;124m'\u001b[39m)\n",
      "File \u001b[1;32m~\\AppData\\Local\\Programs\\Python\\Python312\\Lib\\site-packages\\numba\\core\\dispatcher.py:409\u001b[0m, in \u001b[0;36m_DispatcherBase._compile_for_args.<locals>.error_rewrite\u001b[1;34m(e, issue_type)\u001b[0m\n\u001b[0;32m    407\u001b[0m     \u001b[38;5;28;01mraise\u001b[39;00m e\n\u001b[0;32m    408\u001b[0m \u001b[38;5;28;01melse\u001b[39;00m:\n\u001b[1;32m--> 409\u001b[0m     \u001b[38;5;28;01mraise\u001b[39;00m e\u001b[38;5;241m.\u001b[39mwith_traceback(\u001b[38;5;28;01mNone\u001b[39;00m)\n",
      "\u001b[1;31mTypingError\u001b[0m: Failed in nopython mode pipeline (step: nopython frontend)\n\u001b[1m\u001b[1m\u001b[1mNo implementation of function Function(uint8) found for signature:\n \n >>> <unknown function>(array(bool, 2d, C))\n \nThere are 2 candidate implementations:\n\u001b[1m - Of which 2 did not match due to:\n Overload in function 'make_callable_template.<locals>.generic': File: numba\\core\\typing\\templates.py: Line 174.\n   With argument(s): '(array(bool, 2d, C))':\u001b[0m\n\u001b[1m  Rejected as the implementation raised a specific error:\n    TypingError: \u001b[1mCasting array(bool, 2d, C) to uint8 directly is unsupported. Try doing '<array>.astype(np.uint8)' instead\u001b[0m\u001b[0m\n  raised from C:\\Users\\An_asus\\AppData\\Local\\Programs\\Python\\Python312\\Lib\\site-packages\\numba\\core\\typing\\builtins.py:851\n\u001b[0m\n\u001b[0m\u001b[1mDuring: resolving callee type: class(uint8)\u001b[0m\n\u001b[0m\u001b[1mDuring: typing of call at C:\\Users\\An_asus\\AppData\\Local\\Temp\\ipykernel_19760\\1984252410.py (4)\n\u001b[0m\n\u001b[1m\nFile \"..\\..\\..\\..\\AppData\\Local\\Temp\\ipykernel_19760\\1984252410.py\", line 4:\u001b[0m\n\u001b[1m<source missing, REPL/exec in use?>\u001b[0m\n"
     ]
    }
   ],
   "source": [
    "cap = cv2.VideoCapture(video_files[6])\n",
    "\n",
    "mask_kernel = np.ones((7,7), dtype=np.uint8)\n",
    "\n",
    "thresh = 400\n",
    "\n",
    "ret, old_frame = cap.read()\n",
    "height, width, layers = old_frame.shape\n",
    "new_h = height / 2\n",
    "new_w = width / 2\n",
    "motion_thresh = np.c_[np.linspace(0.3, 1, int(new_h))].repeat(int(new_w), axis=-1)\n",
    "old_frame = cv2.resize(old_frame, (int(new_w), int(new_h)))\n",
    "old_gray = cv2.cvtColor(old_frame, cv2.COLOR_BGR2GRAY)\n",
    "hsv = np.zeros_like(old_frame)\n",
    "hsv[..., 1] = 255\n",
    "\n",
    "while(cap.isOpened()):\n",
    "    \n",
    "    ret, frame = cap.read()\n",
    "    if ret == True:\n",
    "      \n",
    "        height, width, layers = frame.shape\n",
    "        new_h = height / 2\n",
    "        new_w = width / 2\n",
    "        frame = cv2.resize(frame, (int(new_w), int(new_h)))\n",
    "        frame_gray = cv2.cvtColor(frame, cv2.COLOR_BGR2GRAY)\n",
    "        \n",
    "        # calculate optical flow\n",
    "        flow = cv2.calcOpticalFlowFarneback(old_gray, frame_gray, None, 0.5, 3, 15, 3, 5, 1.2, 0)\n",
    "        mag, ang = cv2.cartToPolar(flow[..., 0], flow[..., 1])\n",
    "\n",
    "        # flow image output:\n",
    "        hsv[..., 0] = ang*180/np.pi/2\n",
    "        hsv[..., 2] = cv2.normalize(mag, None, 0, 255, cv2.NORM_MINMAX)\n",
    "        bgr = cv2.cvtColor(hsv, cv2.COLOR_HSV2BGR)\n",
    "\n",
    "        # bounding boxes:\n",
    "        motion_mask = get_motion_mask(mag, motion_thresh=motion_thresh, kernel=mask_kernel)\n",
    "\n",
    "        contours, _ = cv2.findContours(motion_mask, cv2.RETR_EXTERNAL, cv2.CHAIN_APPROX_TC89_L1)\n",
    "\n",
    "        for cnt in contours:\n",
    "            x,y,w,h = cv2.boundingRect(cnt)\n",
    "            area = w*h\n",
    "            if area > thresh:\n",
    "                frame = cv2.rectangle(frame, (x, y), (x+w, y+h), (0, 255, 0), thickness = 2)\n",
    "        \n",
    "\n",
    "        #cv2.imshow('flow', draw_flow(frame_gray, flow))\n",
    "        #cv2.imshow('flow HSV', draw_hsv(flow))\n",
    "\n",
    "        cv2.imshow('motion', motion_mask)\n",
    "        cv2.imshow('video', frame)\n",
    "        cv2.imshow('flow', bgr)\n",
    "    \n",
    "        if cv2.waitKey(5) & 0xFF == ord('q'):\n",
    "            break\n",
    "\n",
    "        old_gray = frame_gray.copy()\n",
    "\n",
    "    else:\n",
    "        break\n",
    "\n",
    "cap.release()\n",
    "\n",
    "cv2.destroyAllWindows()"
   ]
  },
  {
   "cell_type": "code",
   "execution_count": null,
   "id": "7a60566b-1b32-4139-a2ee-3217e72e3f14",
   "metadata": {},
   "outputs": [],
   "source": []
  }
 ],
 "metadata": {
  "kernelspec": {
   "display_name": "Python 3 (ipykernel)",
   "language": "python",
   "name": "python3"
  },
  "language_info": {
   "codemirror_mode": {
    "name": "ipython",
    "version": 3
   },
   "file_extension": ".py",
   "mimetype": "text/x-python",
   "name": "python",
   "nbconvert_exporter": "python",
   "pygments_lexer": "ipython3",
   "version": "3.12.2"
  }
 },
 "nbformat": 4,
 "nbformat_minor": 5
}
