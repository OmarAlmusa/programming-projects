{
 "cells": [
  {
   "cell_type": "code",
   "execution_count": 1,
   "id": "20b749da-f523-4a49-a600-db04598def7a",
   "metadata": {},
   "outputs": [],
   "source": [
    "import os\n",
    "import glob\n",
    "import cv2\n",
    "import numpy as np\n",
    "import matplotlib.pyplot as plt"
   ]
  },
  {
   "cell_type": "code",
   "execution_count": 2,
   "id": "dc8fc5e5-ce9a-4b11-ae80-cbc1dc4dda10",
   "metadata": {},
   "outputs": [
    {
     "data": {
      "text/plain": [
       "['video_footages\\\\Raw Video_ Pittsburg Neighborhood Drive-By Shootings.mp4',\n",
       " 'video_footages\\\\Shooting captured by surveillance camera in Parma.mp4',\n",
       " 'video_footages\\\\Shopping, People, Commerce, Mall, Many, Crowd, Walking   Free Stock video footage   YouTube.mp4',\n",
       " 'video_footages\\\\snow dispute.mp4',\n",
       " 'video_footages\\\\Surveillance camera captures tanks entering Ukraine via Belarus border.mp4',\n",
       " 'video_footages\\\\trail cam video creatures of the night.mp4',\n",
       " 'video_footages\\\\Unbelievably busy bicycle crossing in Amsterdam.mp4',\n",
       " 'video_footages\\\\vecteezy_people-crossing-the-road-on-zebra-tallin_28257759.mp4',\n",
       " 'video_footages\\\\차흐르듯 (1).mp4',\n",
       " 'video_footages\\\\차흐르듯.mp4']"
      ]
     },
     "execution_count": 2,
     "metadata": {},
     "output_type": "execute_result"
    }
   ],
   "source": [
    "video_files = glob.glob('video_footages/*')\n",
    "video_files"
   ]
  },
  {
   "cell_type": "code",
   "execution_count": 3,
   "id": "a299e8f0-23bc-4ae8-b901-b0519d4341b9",
   "metadata": {},
   "outputs": [],
   "source": [
    "def get_motion_mask(fg_mask, min_thresh=0, kernel=np.array((9,9), dtype=np.uint8)):\n",
    "    \"\"\" Obtains image mask\n",
    "        Inputs: \n",
    "            fg_mask - foreground mask\n",
    "            kernel - kernel for Morphological Operations\n",
    "        Outputs: \n",
    "            mask - Thresholded mask for moving pixels\n",
    "        \"\"\"\n",
    "    _, thresh = cv2.threshold(fg_mask,min_thresh,255,cv2.THRESH_BINARY)\n",
    "    #mask = cv2.adaptiveThreshold(fg_mask, 255, cv2.ADAPTIVE_THRESH_GAUSSIAN_C,cv2.THRESH_BINARY_INV, 11, 3)\n",
    "    motion_mask = cv2.medianBlur(thresh, 5) #use thresh variable if cv2.threshold\n",
    "    #motion_mask = cv2.GaussianBlur(thresh, (15, 15))\n",
    "    # morphological operations\n",
    "    motion_mask = cv2.morphologyEx(motion_mask, cv2.MORPH_OPEN, kernel, iterations=1)\n",
    "    motion_mask = cv2.morphologyEx(motion_mask, cv2.MORPH_CLOSE, kernel, iterations=1)\n",
    "\n",
    "    return motion_mask"
   ]
  },
  {
   "cell_type": "code",
   "execution_count": 4,
   "id": "60008adf-6d76-43f9-8adc-b47ee67a278a",
   "metadata": {},
   "outputs": [],
   "source": [
    "sub_type = 'MOG2' # 'KNN'\n",
    "\n",
    "\n",
    "if sub_type == 'MOG2':\n",
    "    backSub = cv2.createBackgroundSubtractorMOG2(varThreshold=16, detectShadows=False)\n",
    "else:\n",
    "    backSub = cv2.createBackgroundSubtractorKNN(dist2Threshold=1000, detectShadows=False)\n",
    "\n",
    "thresh = 500\n",
    "\n",
    "break_out_var = False\n",
    "for video in video_files:\n",
    "\n",
    "    cap = cv2.VideoCapture(video)\n",
    "    \n",
    "    while(cap.isOpened()):\n",
    "        \n",
    "        ret, frame = cap.read()\n",
    "        if ret == True:\n",
    "          \n",
    "            height, width, layers = frame.shape\n",
    "            new_h = 360 #int(height / 2)\n",
    "            new_w = 600 #int(width / 2)\n",
    "            frame = cv2.resize(frame, (new_w, new_h))\n",
    "            fgMask = backSub.apply(frame)\n",
    "            motion_mask = get_motion_mask(fgMask, min_thresh = 50)\n",
    "    \n",
    "            contours, _ = cv2.findContours(motion_mask, cv2.RETR_EXTERNAL, cv2.CHAIN_APPROX_TC89_L1)\n",
    "            \n",
    "            for cnt in contours:\n",
    "                x,y,w,h = cv2.boundingRect(cnt)\n",
    "                area = w*h\n",
    "                if area > thresh:\n",
    "                    frame = cv2.rectangle(frame, (x, y), (x+w, y+h), (0, 255, 0), thickness = 2)\n",
    "    \n",
    "            cv2.imshow('normal video',frame)\n",
    "            #cv2.imshow('fg_mask',motion_mask)\n",
    "    \n",
    "            k = cv2.waitKey(10) & 0xFF\n",
    "            if k  == ord('q'):\n",
    "                break\n",
    "            elif k == ord('w'):\n",
    "                break_out_var = True\n",
    "                break\n",
    "    \n",
    "        else:\n",
    "            break\n",
    "\n",
    "    if (break_out_var):\n",
    "        break\n",
    "    \n",
    "    cap.release()\n",
    "    \n",
    "    cv2.destroyAllWindows()"
   ]
  },
  {
   "cell_type": "code",
   "execution_count": null,
   "id": "57989dde-6e7d-4966-b4fc-d56ccac3738f",
   "metadata": {},
   "outputs": [],
   "source": []
  }
 ],
 "metadata": {
  "kernelspec": {
   "display_name": "Python 3 (ipykernel)",
   "language": "python",
   "name": "python3"
  },
  "language_info": {
   "codemirror_mode": {
    "name": "ipython",
    "version": 3
   },
   "file_extension": ".py",
   "mimetype": "text/x-python",
   "name": "python",
   "nbconvert_exporter": "python",
   "pygments_lexer": "ipython3",
   "version": "3.12.2"
  }
 },
 "nbformat": 4,
 "nbformat_minor": 5
}
