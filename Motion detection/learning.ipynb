{
 "cells": [
  {
   "cell_type": "code",
   "execution_count": 1,
   "id": "1893a57e-c90c-44df-9806-d392da9f57dc",
   "metadata": {},
   "outputs": [],
   "source": [
    "import cv2 as cv\n",
    "import numpy as np\n",
    "import matplotlib.pyplot as plt\n",
    "import os\n",
    "import glob"
   ]
  },
  {
   "cell_type": "code",
   "execution_count": 2,
   "id": "c160d62c-6acb-4e7b-9b48-b47f1d768ae8",
   "metadata": {},
   "outputs": [],
   "source": [
    "video_files = glob.glob('video_footages/*');"
   ]
  },
  {
   "cell_type": "code",
   "execution_count": 3,
   "id": "c8e5936f-aadd-4114-ad75-f4bfc37598de",
   "metadata": {},
   "outputs": [],
   "source": [
    "cap = cv.VideoCapture(video_files[4])\n",
    "\n",
    "first_frame = None\n",
    "\n",
    "if (cap.isOpened()== False): \n",
    "  print(\"Error opening video stream or file\")\n",
    "    \n",
    "while(cap.isOpened()):\n",
    "\n",
    "    ret, frame = cap.read()\n",
    "    \n",
    "    if ret == True:\n",
    "        height, width, layers = frame.shape\n",
    "        new_h = height / 2\n",
    "        new_w = width / 2\n",
    "        frame = cv.resize(frame, (int(new_w), int(new_h)))\n",
    "        gray = cv.cvtColor(frame, cv.COLOR_BGR2GRAY)\n",
    "        gray = cv.GaussianBlur(gray, (5,5), 0)\n",
    "        if first_frame is None:\n",
    "            first_frame = gray\n",
    "            continue\n",
    "        delta_frame = cv.absdiff(first_frame, gray)\n",
    "        thresh = cv.threshold(delta_frame, 50, 255, cv.THRESH_BINARY)[1]\n",
    "        thresh = cv.dilate(thresh, None, iterations=2)\n",
    "\n",
    "        contours, hierchy = cv.findContours(thresh.copy(), cv.RETR_EXTERNAL, cv.CHAIN_APPROX_SIMPLE)\n",
    "\n",
    "        for cnt in contours:\n",
    "            if cv.contourArea(cnt)<500:\n",
    "                continue\n",
    "            (x,y,w,h) = cv.boundingRect(cnt)\n",
    "            cv.rectangle(frame,(x,y), (x+w,y+h), (0,255,0), 2)\n",
    "\n",
    "        cv.imshow('Video',frame)\n",
    "        key = cv.waitKey(25)\n",
    "        if key == ord('q'):\n",
    "            break\n",
    "            \n",
    "    else: \n",
    "        break\n",
    "    \n",
    "        \n",
    "cap.release()\n",
    "\n",
    "cv.destroyAllWindows()"
   ]
  },
  {
   "cell_type": "code",
   "execution_count": null,
   "id": "7a807d6d-9082-45bb-8ac5-5b1c5515a67e",
   "metadata": {},
   "outputs": [],
   "source": []
  }
 ],
 "metadata": {
  "kernelspec": {
   "display_name": "Python 3 (ipykernel)",
   "language": "python",
   "name": "python3"
  },
  "language_info": {
   "codemirror_mode": {
    "name": "ipython",
    "version": 3
   },
   "file_extension": ".py",
   "mimetype": "text/x-python",
   "name": "python",
   "nbconvert_exporter": "python",
   "pygments_lexer": "ipython3",
   "version": "3.12.2"
  }
 },
 "nbformat": 4,
 "nbformat_minor": 5
}
