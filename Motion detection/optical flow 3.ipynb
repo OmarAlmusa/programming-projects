{
 "cells": [
  {
   "cell_type": "code",
   "execution_count": 1,
   "id": "6667f2c8-b50a-420b-aaae-f6597198a2fa",
   "metadata": {},
   "outputs": [],
   "source": [
    "import os\n",
    "import glob\n",
    "import cv2\n",
    "import numpy as np\n",
    "import matplotlib.pyplot as plt"
   ]
  },
  {
   "cell_type": "code",
   "execution_count": 2,
   "id": "ac0ce92e-affd-4944-8673-cc1595a50ed9",
   "metadata": {
    "scrolled": true
   },
   "outputs": [
    {
     "data": {
      "text/plain": [
       "['video_footages\\\\Raw Video_ Pittsburg Neighborhood Drive-By Shootings.mp4',\n",
       " 'video_footages\\\\Shooting captured by surveillance camera in Parma.mp4',\n",
       " 'video_footages\\\\Shopping, People, Commerce, Mall, Many, Crowd, Walking   Free Stock video footage   YouTube.mp4',\n",
       " 'video_footages\\\\snow dispute.mp4',\n",
       " 'video_footages\\\\Surveillance camera captures tanks entering Ukraine via Belarus border.mp4',\n",
       " 'video_footages\\\\trail cam video creatures of the night.mp4',\n",
       " 'video_footages\\\\Unbelievably busy bicycle crossing in Amsterdam.mp4',\n",
       " 'video_footages\\\\vecteezy_people-crossing-the-road-on-zebra-tallin_28257759.mp4',\n",
       " 'video_footages\\\\차흐르듯 (1).mp4',\n",
       " 'video_footages\\\\차흐르듯.mp4']"
      ]
     },
     "execution_count": 2,
     "metadata": {},
     "output_type": "execute_result"
    }
   ],
   "source": [
    "video_files = glob.glob('video_footages/*')\n",
    "video_files"
   ]
  },
  {
   "cell_type": "markdown",
   "id": "90cf6e4b-851a-41bd-9e02-067cead5bd0d",
   "metadata": {},
   "source": [
    "# Sparse Optical Flow"
   ]
  },
  {
   "cell_type": "code",
   "execution_count": 6,
   "id": "929ea29d-36cf-4623-a069-8fa95dc777e8",
   "metadata": {},
   "outputs": [],
   "source": [
    "video_num = 9\n",
    "\n",
    "# params for ShiTomasi corner detection\n",
    "feature_params = dict( maxCorners = 100,\n",
    " qualityLevel = 0.3,\n",
    " minDistance = 7,\n",
    " blockSize = 7 )\n",
    "\n",
    "# Parameters for lucas kanade optical flow\n",
    "lk_params = dict( winSize = (15, 15),\n",
    " maxLevel = 2,\n",
    " criteria = (cv2.TERM_CRITERIA_EPS | cv2.TERM_CRITERIA_COUNT, 10, 0.03))\n",
    "\n",
    "color = np.random.randint(0, 255, (100, 3))\n",
    "\n",
    "cap = cv2.VideoCapture(video_files[video_num])\n",
    "\n",
    "ret, old_frame = cap.read()\n",
    "new_h = 300\n",
    "new_w = 600\n",
    "old_frame = cv2.resize(old_frame, (new_w, new_h))\n",
    "old_gray = cv2.cvtColor(old_frame, cv2.COLOR_BGR2GRAY)\n",
    "prev = cv2.goodFeaturesToTrack(old_gray, mask = None, **feature_params)\n",
    "\n",
    "mask = np.zeros_like(old_frame)\n",
    "\n",
    "count = 0\n",
    "while(cap.isOpened()):\n",
    "    ret, frame = cap.read()\n",
    "    if not ret:\n",
    "        print('No frames grabbed!')\n",
    "        break\n",
    "    count += 1\n",
    "\n",
    "    frame = cv2.resize(frame, (new_w, new_h))\n",
    "    frame_gray = cv2.cvtColor(frame, cv2.COLOR_BGR2GRAY)\n",
    "    \n",
    "    \n",
    "    # calculate optical flow\n",
    "    next, status, error = cv2.calcOpticalFlowPyrLK(old_gray, frame_gray, prev, None, **lk_params)\n",
    "    \n",
    "    good_old = prev[status == 1]\n",
    "    good_new = next[status == 1]\n",
    "\n",
    "    img = frame.copy()\n",
    "    # draw the tracks\n",
    "    for i, (new, old) in enumerate(zip(good_new, good_old)):\n",
    "        a, b = new.ravel()\n",
    "        c, d = old.ravel()\n",
    "        mask = cv2.line(mask, (int(a), int(b)), (int(c), int(d)), color[i].tolist(), 2)\n",
    "        img = cv2.circle(img, (int(a), int(b)), 3, color[i].tolist(), -1)\n",
    "\n",
    "    img = cv2.add(img, mask)\n",
    "    cv2.imshow('optical flow', img)\n",
    "    cv2.imshow('original', frame)\n",
    "    k = cv2.waitKey(30) & 0xff\n",
    "    if k == ord('q'):\n",
    "        break\n",
    "    elif k == ord('s'):\n",
    "        cv2.imwrite(f'saved images for essay/sparse optical flow/{video_num}_{count}_original.jpg', frame)\n",
    "        cv2.imwrite(f'saved images for essay/sparse optical flow/{video_num}_{count}_optical_flow.jpg', img)\n",
    "    \n",
    "    # Now update the previous frame and previous points\n",
    "    old_gray = frame_gray.copy()\n",
    "    prev = good_new.reshape(-1, 1, 2)\n",
    "    \n",
    "cv2.destroyAllWindows()"
   ]
  },
  {
   "cell_type": "markdown",
   "id": "181f1441-2ad2-474b-a94f-9e7b7fd0549b",
   "metadata": {},
   "source": [
    "# Dense Optical Flow"
   ]
  },
  {
   "cell_type": "code",
   "execution_count": 3,
   "id": "62f921e5-9741-437b-88ea-7d0ac85e914a",
   "metadata": {},
   "outputs": [],
   "source": [
    "def get_motion_mask(flow_mag, motion_thresh=1, kernel=np.ones((7,7))):\n",
    "\n",
    "    motion_mask = np.uint8(flow_mag > motion_thresh)*255\n",
    "\n",
    "    motion_mask = cv2.erode(motion_mask, kernel, iterations=1)\n",
    "    motion_mask = cv2.morphologyEx(motion_mask, cv2.MORPH_OPEN, kernel, iterations=1)\n",
    "    motion_mask = cv2.morphologyEx(motion_mask, cv2.MORPH_CLOSE, kernel, iterations=1)\n",
    "    \n",
    "    return motion_mask"
   ]
  },
  {
   "cell_type": "code",
   "execution_count": 5,
   "id": "f138f329-cca0-4466-9a32-2c914aac0faf",
   "metadata": {},
   "outputs": [],
   "source": [
    "video_num = 5\n",
    "count = 0\n",
    "cap = cv2.VideoCapture(video_files[video_num])\n",
    "\n",
    "ret, frame1 = cap.read()\n",
    "new_h = 300\n",
    "new_w = 600\n",
    "kernel = np.ones((5, 5), np.uint8)\n",
    "frame1 = cv2.resize(frame1, (new_w, new_h))\n",
    "\n",
    "prvs = cv2.cvtColor(frame1, cv2.COLOR_BGR2GRAY)\n",
    "hsv = np.zeros_like(frame1)\n",
    "hsv[..., 1] = 255\n",
    "while(cap.isOpened()):\n",
    "    ret, frame2 = cap.read()\n",
    "    if not ret:\n",
    "        print('No frames grabbed!')\n",
    "        break\n",
    "    count += 1\n",
    "    frame2 = cv2.resize(frame2, (new_w, new_h))\n",
    "    next = cv2.cvtColor(frame2, cv2.COLOR_BGR2GRAY)\n",
    "    #next = cv2.GaussianBlur(next, (21, 21), 0)\n",
    "    #next = cv2.medianBlur(next, 21)\n",
    "    flow = cv2.calcOpticalFlowFarneback(prvs, next, None, 0.5, 3, 15, 3, 5, 1.2, 0)\n",
    "    mag, ang = cv2.cartToPolar(flow[..., 0], flow[..., 1])\n",
    "    hsv[..., 0] = ang*180/np.pi/2\n",
    "    hsv[..., 2] = cv2.normalize(mag, None, 0, 255, cv2.NORM_MINMAX)\n",
    "    bgr = cv2.cvtColor(hsv, cv2.COLOR_HSV2BGR)\n",
    "    #fx = cv2.threshold(bgr, 5, 255, cv2.THRESH_BINARY)[1]\n",
    "    #fx = cv2.cvtColor(fx, cv2.COLOR_BGR2GRAY)\n",
    "    #fx = cv2.threshold(fx, 0, 255, cv2.THRESH_BINARY)[1]\n",
    "    #fx = cv2.erode(fx, kernel, iterations=2)\n",
    "    fx = get_motion_mask(mag)\n",
    "    contours, _ = cv2.findContours(fx, cv2.RETR_EXTERNAL, cv2.CHAIN_APPROX_TC89_L1)\n",
    "    for cnt in contours:\n",
    "        x,y,w,h = cv2.boundingRect(cnt)\n",
    "        area = w*h\n",
    "        if area>200:\n",
    "            cv2.rectangle(frame2, (x, y), (x+w, y+h), (0, 255, 0), thickness = 2)\n",
    "    cv2.imshow('Original', frame2)\n",
    "    cv2.imshow('Optical flow', bgr)\n",
    "    cv2.imshow('mask', fx)\n",
    "    k = cv2.waitKey(1) & 0xff\n",
    "    if k == ord('q'):\n",
    "        break\n",
    "    elif k == ord('s'):\n",
    "        cv2.imwrite(f'saved images for essay/dense optical flow/{video_num}_{count}_original.jpg', frame2)\n",
    "        cv2.imwrite(f'saved images for essay/dense optical flow/{video_num}_{count}_optical flow.jpg', bgr)\n",
    "        cv2.imwrite(f'saved images for essay/dense optical flow/{video_num}_{count}_mask.jpg', fx)\n",
    "        \n",
    "    #elif k == ord('s'):\n",
    "    #    cv2.imwrite('opticalfb.png', frame2)\n",
    "    #    cv2.imwrite('opticalhsv.png', bgr)\n",
    "    prvs = next\n",
    "\n",
    "cv2.destroyAllWindows()"
   ]
  },
  {
   "cell_type": "code",
   "execution_count": null,
   "id": "f1e9a866-faaa-42ed-bafb-62714d8604d1",
   "metadata": {},
   "outputs": [],
   "source": []
  }
 ],
 "metadata": {
  "kernelspec": {
   "display_name": "Python 3 (ipykernel)",
   "language": "python",
   "name": "python3"
  },
  "language_info": {
   "codemirror_mode": {
    "name": "ipython",
    "version": 3
   },
   "file_extension": ".py",
   "mimetype": "text/x-python",
   "name": "python",
   "nbconvert_exporter": "python",
   "pygments_lexer": "ipython3",
   "version": "3.12.2"
  }
 },
 "nbformat": 4,
 "nbformat_minor": 5
}
