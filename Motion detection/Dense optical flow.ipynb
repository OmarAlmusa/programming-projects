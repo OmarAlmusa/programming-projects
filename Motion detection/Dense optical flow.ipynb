{
 "cells": [
  {
   "cell_type": "code",
   "execution_count": 1,
   "id": "a8de80a2-1bb6-4f0e-b365-1f9cf6c9c496",
   "metadata": {},
   "outputs": [],
   "source": [
    "import os\n",
    "import glob\n",
    "import cv2\n",
    "import numpy as np\n",
    "import matplotlib.pyplot as plt"
   ]
  },
  {
   "cell_type": "code",
   "execution_count": 2,
   "id": "9179200f-c37e-42e2-9b4c-c03ca7adf14d",
   "metadata": {},
   "outputs": [
    {
     "data": {
      "text/plain": [
       "['video_footages\\\\4K Road traffic video for object detection and tracking - free download now!.mp4',\n",
       " 'video_footages\\\\Creatures of the Night - trail cam videos.mp4',\n",
       " 'video_footages\\\\Dutch bike rush hour this morning was smooth as ever.mp4',\n",
       " 'video_footages\\\\Free City Street Footage - Royalty Free Stock Footage - People Walking Stock Footage No Copyright.mp4',\n",
       " 'video_footages\\\\morning bike traffic during commute to Dutch university.mp4',\n",
       " 'video_footages\\\\Raw Video_ Pittsburg Neighborhood Drive-By Shootings.mp4',\n",
       " 'video_footages\\\\Road traffic video for object recognition.mp4',\n",
       " 'video_footages\\\\Shooting captured by surveillance camera in Parma.mp4',\n",
       " 'video_footages\\\\Shopping, People, Commerce, Mall, Many, Crowd, Walking   Free Stock video footage   YouTube.mp4',\n",
       " 'video_footages\\\\Traffic Flow In The Highway - 4K Stock Videos _ NoCopyright _ AllVideoFree.mp4',\n",
       " 'video_footages\\\\Unbelievably busy bicycle crossing in Amsterdam.mp4',\n",
       " 'video_footages\\\\Utrecht Centraal Station Bike Parking.mp4',\n",
       " 'video_footages\\\\vecteezy_busy-street-in-evening-hong-kong_28840705 (1) (1).mp4',\n",
       " 'video_footages\\\\vecteezy_people-crossing-the-road-on-zebra-tallin_28257759.mp4',\n",
       " 'video_footages\\\\차흐르듯 (1).mp4',\n",
       " 'video_footages\\\\차흐르듯.  Like a car flowing. 車が流れるように. Como un auto que fluye..mp4',\n",
       " 'video_footages\\\\차흐르듯.mp4']"
      ]
     },
     "execution_count": 2,
     "metadata": {},
     "output_type": "execute_result"
    }
   ],
   "source": [
    "video_files = glob.glob('video_footages/*')\n",
    "video_files"
   ]
  },
  {
   "cell_type": "code",
   "execution_count": 8,
   "id": "64940abf-208e-4b69-86bc-b38664a05706",
   "metadata": {},
   "outputs": [],
   "source": [
    "def draw_flow(img, flow, step=16):\n",
    "\n",
    "    h, w = img.shape[:2]\n",
    "    y, x = np.mgrid[step/2:h:step, step/2:w:step].reshape(2,-1).astype(int)\n",
    "    fx, fy = flow[y,x].T\n",
    "\n",
    "    lines = np.vstack([x, y, x-fx, y-fy]).T.reshape(-1, 2, 2)\n",
    "    lines = np.int32(lines + 0.5)\n",
    "\n",
    "    img_bgr = cv2.cvtColor(img, cv2.COLOR_GRAY2BGR)\n",
    "    cv2.polylines(img_bgr, lines, 0, (0, 255, 0))\n",
    "\n",
    "    for (x1, y1), (_x2, _y2) in lines:\n",
    "        cv2.circle(img_bgr, (x1, y1), 1, (0, 255, 0), -1)\n",
    "\n",
    "    return img_bgr"
   ]
  },
  {
   "cell_type": "code",
   "execution_count": 9,
   "id": "2c39944a-ff85-4a8f-98d4-6fa3eefd6cf7",
   "metadata": {},
   "outputs": [],
   "source": [
    "def draw_hsv(flow):\n",
    "\n",
    "    h, w = flow.shape[:2]\n",
    "    fx, fy = flow[:,:,0], flow[:,:,1]\n",
    "\n",
    "    ang = np.arctan2(fy, fx) + np.pi\n",
    "    v = np.sqrt(fx*fx+fy*fy)\n",
    "\n",
    "    hsv = np.zeros((h, w, 3), np.uint8)\n",
    "    hsv[...,0] = ang*(180/np.pi/2)\n",
    "    hsv[...,1] = 255\n",
    "    hsv[...,2] = np.minimum(v*4, 255)\n",
    "    bgr = cv2.cvtColor(hsv, cv2.COLOR_HSV2BGR)\n",
    "\n",
    "    return bgr"
   ]
  },
  {
   "cell_type": "code",
   "execution_count": 3,
   "id": "5c02ce40-c25b-4edc-aab7-5f463b8c3140",
   "metadata": {},
   "outputs": [],
   "source": [
    "def get_motion_mask(flow_mag, motion_thresh=1, kernel=np.ones((7,7))):\n",
    "\n",
    "    motion_mask = np.uint8(flow_mag > motion_thresh)*255\n",
    "\n",
    "    #motion_mask = cv2.erode(motion_mask, kernel, iterations=1)\n",
    "    motion_mask = cv2.morphologyEx(motion_mask, cv2.MORPH_OPEN, kernel, iterations=1)\n",
    "    motion_mask = cv2.morphologyEx(motion_mask, cv2.MORPH_CLOSE, kernel, iterations=1)\n",
    "    \n",
    "    return motion_mask"
   ]
  },
  {
   "cell_type": "code",
   "execution_count": 6,
   "id": "c1d7f6a6-d482-4e0c-96bb-b4d3f6a39ffe",
   "metadata": {},
   "outputs": [],
   "source": [
    "cap = cv2.VideoCapture(video_files[1])\n",
    "\n",
    "mask_kernel = np.ones((7,7), dtype=np.uint8)\n",
    "\n",
    "thresh = 400\n",
    "\n",
    "ret, old_frame = cap.read()\n",
    "height, width, layers = old_frame.shape\n",
    "new_h = height / 2\n",
    "new_w = width / 2\n",
    "motion_thresh = np.c_[np.linspace(0.3, 1, int(new_h))].repeat(int(new_w), axis=-1)\n",
    "old_frame = cv2.resize(old_frame, (int(new_w), int(new_h)))\n",
    "old_gray = cv2.cvtColor(old_frame, cv2.COLOR_BGR2GRAY)\n",
    "hsv = np.zeros_like(old_frame)\n",
    "hsv[..., 1] = 255\n",
    "\n",
    "while(cap.isOpened()):\n",
    "    \n",
    "    ret, frame = cap.read()\n",
    "    if ret == True:\n",
    "      \n",
    "        height, width, layers = frame.shape\n",
    "        new_h = height / 2\n",
    "        new_w = width / 2\n",
    "        frame = cv2.resize(frame, (int(new_w), int(new_h)))\n",
    "        frame_gray = cv2.cvtColor(frame, cv2.COLOR_BGR2GRAY)\n",
    "        \n",
    "        # calculate optical flow\n",
    "        flow = cv2.calcOpticalFlowFarneback(old_gray, frame_gray, None, 0.5, 3, 15, 3, 5, 1.2, 0)\n",
    "        mag, ang = cv2.cartToPolar(flow[..., 0], flow[..., 1])\n",
    "\n",
    "        # flow image output:\n",
    "        hsv[..., 0] = ang*180/np.pi/2\n",
    "        hsv[..., 2] = cv2.normalize(mag, None, 0, 255, cv2.NORM_MINMAX)\n",
    "        bgr = cv2.cvtColor(hsv, cv2.COLOR_HSV2BGR)\n",
    "\n",
    "        # bounding boxes:\n",
    "        motion_mask = get_motion_mask(mag, motion_thresh=motion_thresh, kernel=mask_kernel)\n",
    "        #_, mag = cv2.threshold(mag, 10, 255, cv2.THRESH_BINARY)\n",
    "        \n",
    "        contours, _ = cv2.findContours(motion_mask, cv2.RETR_EXTERNAL, cv2.CHAIN_APPROX_TC89_L1)\n",
    "\n",
    "        for cnt in contours:\n",
    "            x,y,w,h = cv2.boundingRect(cnt)\n",
    "            area = w*h\n",
    "            if area > thresh:\n",
    "                frame = cv2.rectangle(frame, (x, y), (x+w, y+h), (0, 255, 0), thickness = 2)\n",
    "        \n",
    "\n",
    "        #cv2.imshow('flow', draw_flow(frame_gray, flow))\n",
    "        #cv2.imshow('flow HSV', draw_hsv(flow))\n",
    "\n",
    "        cv2.imshow('motion', motion_mask)\n",
    "        cv2.imshow('video', frame)\n",
    "        cv2.imshow('flow', bgr)\n",
    "    \n",
    "        if cv2.waitKey(5) & 0xFF == ord('q'):\n",
    "            break\n",
    "\n",
    "        old_gray = frame_gray.copy()\n",
    "\n",
    "    else:\n",
    "        break\n",
    "\n",
    "cap.release()\n",
    "\n",
    "cv2.destroyAllWindows()"
   ]
  },
  {
   "cell_type": "code",
   "execution_count": null,
   "id": "7a60566b-1b32-4139-a2ee-3217e72e3f14",
   "metadata": {},
   "outputs": [],
   "source": []
  }
 ],
 "metadata": {
  "kernelspec": {
   "display_name": "Python 3 (ipykernel)",
   "language": "python",
   "name": "python3"
  },
  "language_info": {
   "codemirror_mode": {
    "name": "ipython",
    "version": 3
   },
   "file_extension": ".py",
   "mimetype": "text/x-python",
   "name": "python",
   "nbconvert_exporter": "python",
   "pygments_lexer": "ipython3",
   "version": "3.12.2"
  }
 },
 "nbformat": 4,
 "nbformat_minor": 5
}
