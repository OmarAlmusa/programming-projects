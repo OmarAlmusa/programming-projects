{
 "cells": [
  {
   "cell_type": "code",
   "execution_count": 1,
   "id": "0c4e8f70-6972-41dd-822c-74c3e4f8e90d",
   "metadata": {},
   "outputs": [],
   "source": [
    "import os\n",
    "import glob\n",
    "import cv2\n",
    "import numpy as np\n",
    "import matplotlib.pyplot as plt"
   ]
  },
  {
   "cell_type": "code",
   "execution_count": 2,
   "id": "2402d91b-d0e3-4324-a39e-4226448c4c8b",
   "metadata": {},
   "outputs": [
    {
     "data": {
      "text/plain": [
       "['video_footages\\\\Raw Video_ Pittsburg Neighborhood Drive-By Shootings.mp4',\n",
       " 'video_footages\\\\Shooting captured by surveillance camera in Parma.mp4',\n",
       " 'video_footages\\\\Shopping, People, Commerce, Mall, Many, Crowd, Walking   Free Stock video footage   YouTube.mp4',\n",
       " 'video_footages\\\\snow dispute.mp4',\n",
       " 'video_footages\\\\Surveillance camera captures tanks entering Ukraine via Belarus border.mp4',\n",
       " 'video_footages\\\\trail cam video creatures of the night.mp4',\n",
       " 'video_footages\\\\Unbelievably busy bicycle crossing in Amsterdam.mp4',\n",
       " 'video_footages\\\\vecteezy_people-crossing-the-road-on-zebra-tallin_28257759.mp4',\n",
       " 'video_footages\\\\차흐르듯 (1).mp4',\n",
       " 'video_footages\\\\차흐르듯.mp4']"
      ]
     },
     "execution_count": 2,
     "metadata": {},
     "output_type": "execute_result"
    }
   ],
   "source": [
    "video_files = glob.glob('video_footages/*')\n",
    "video_files"
   ]
  },
  {
   "cell_type": "code",
   "execution_count": 72,
   "id": "8ad35388-66f2-44cf-9c8b-7b67327b7ac3",
   "metadata": {},
   "outputs": [
    {
     "ename": "error",
     "evalue": "OpenCV(4.9.0) D:\\programs\\open-cv\\opencv-4.9.0\\modules\\imgproc\\src\\drawing.cpp:2538: error: (-215:Assertion failed) npoints > 0 in function 'cv::drawContours'\n",
     "output_type": "error",
     "traceback": [
      "\u001b[1;31m---------------------------------------------------------------------------\u001b[0m",
      "\u001b[1;31merror\u001b[0m                                     Traceback (most recent call last)",
      "Cell \u001b[1;32mIn[72], line 30\u001b[0m\n\u001b[0;32m     28\u001b[0m contours \u001b[38;5;241m=\u001b[39m cv2\u001b[38;5;241m.\u001b[39mfindContours(res, cv2\u001b[38;5;241m.\u001b[39mRETR_EXTERNAL, cv2\u001b[38;5;241m.\u001b[39mCHAIN_APPROX_SIMPLE)[\u001b[38;5;241m1\u001b[39m]\n\u001b[0;32m     29\u001b[0m result \u001b[38;5;241m=\u001b[39m np\u001b[38;5;241m.\u001b[39mzeros_like(gray)\n\u001b[1;32m---> 30\u001b[0m \u001b[43mcv2\u001b[49m\u001b[38;5;241;43m.\u001b[39;49m\u001b[43mdrawContours\u001b[49m\u001b[43m(\u001b[49m\u001b[43mresult\u001b[49m\u001b[43m,\u001b[49m\u001b[43m \u001b[49m\u001b[43m[\u001b[49m\u001b[43mcontours\u001b[49m\u001b[43m]\u001b[49m\u001b[43m,\u001b[49m\u001b[43m \u001b[49m\u001b[38;5;241;43m-\u001b[39;49m\u001b[38;5;241;43m1\u001b[39;49m\u001b[43m,\u001b[49m\u001b[43m \u001b[49m\u001b[43m(\u001b[49m\u001b[38;5;241;43m255\u001b[39;49m\u001b[43m,\u001b[49m\u001b[38;5;241;43m255\u001b[39;49m\u001b[43m,\u001b[49m\u001b[38;5;241;43m255\u001b[39;49m\u001b[43m)\u001b[49m\u001b[43m,\u001b[49m\u001b[43m \u001b[49m\u001b[43mcv2\u001b[49m\u001b[38;5;241;43m.\u001b[39;49m\u001b[43mFILLED\u001b[49m\u001b[43m)\u001b[49m\n\u001b[0;32m     32\u001b[0m cv2\u001b[38;5;241m.\u001b[39mimshow(\u001b[38;5;124m'\u001b[39m\u001b[38;5;124mnormal video\u001b[39m\u001b[38;5;124m'\u001b[39m,frame)\n\u001b[0;32m     33\u001b[0m cv2\u001b[38;5;241m.\u001b[39mimshow(\u001b[38;5;124m'\u001b[39m\u001b[38;5;124mdifference video\u001b[39m\u001b[38;5;124m'\u001b[39m, delta_frame)\n",
      "\u001b[1;31merror\u001b[0m: OpenCV(4.9.0) D:\\programs\\open-cv\\opencv-4.9.0\\modules\\imgproc\\src\\drawing.cpp:2538: error: (-215:Assertion failed) npoints > 0 in function 'cv::drawContours'\n"
     ]
    }
   ],
   "source": [
    "cap = cv2.VideoCapture(video_files[10])\n",
    "\n",
    "ret, old_frame = cap.read()\n",
    "height, width, layers = old_frame.shape\n",
    "new_h = 480 #int(height / 3)\n",
    "new_w = 720 #int(width / 3)\n",
    "old_frame = cv2.resize(old_frame, (new_w, new_h))\n",
    "old_gray = cv2.cvtColor(old_frame, cv2.COLOR_BGR2GRAY)\n",
    "\n",
    "#frame_n = 0\n",
    "#consecutive_frame = 5\n",
    "\n",
    "while(cap.isOpened()):\n",
    "    \n",
    "    ret, frame = cap.read()\n",
    "    if ret == True:\n",
    "        #frame_n += 1\n",
    "        frame = cv2.resize(frame, (int(new_w), int(new_h)))\n",
    "        gray = cv2.cvtColor(frame, cv2.COLOR_BGR2GRAY)\n",
    "        #blurred = cv2.GaussianBlur(gray, (5,5), 0)\n",
    "        \n",
    "        delta_frame = cv2.absdiff(gray, old_gray)\n",
    "        #_, thresh = cv2.threshold(delta_frame, 30, 255, cv2.THRESH_BINARY)\n",
    "        edged = cv2.Canny(gray, 75, 200)\n",
    "        #dilate = cv2.dilate(edged, (7, 7), iterations=3)\n",
    "        #band = cv2.bitwise_and(edged, edged, mask=thresh)\n",
    "\n",
    "        #contours = cv2.findContours(res, cv2.RETR_EXTERNAL, cv2.CHAIN_APPROX_SIMPLE)[1]\n",
    "        #result = np.zeros_like(gray)\n",
    "        #ctr = numpy.array(cnt).reshape((-1,1,2)).astype(numpy.int32)\n",
    "        #cv2.drawContours(mask, [ctr], 0, (0, 255, 0), -1)\n",
    "        \n",
    "        cv2.imshow('normal video',frame)\n",
    "        cv2.imshow('difference video', delta_frame)\n",
    "        cv2.imshow('edged', edged)\n",
    "\n",
    "\n",
    "        if cv2.waitKey(30) & 0xFF == ord('q'):\n",
    "            break\n",
    "\n",
    "        old_gray = gray.copy()\n",
    "\n",
    "    else:\n",
    "        break\n",
    "\n",
    "        \n",
    " \n",
    "cap.release()\n",
    " \n",
    "cv2.destroyAllWindows()"
   ]
  },
  {
   "cell_type": "code",
   "execution_count": null,
   "id": "c8bc0bd6-b3f3-4026-8a5d-eaaef60e00d0",
   "metadata": {},
   "outputs": [],
   "source": []
  },
  {
   "cell_type": "code",
   "execution_count": null,
   "id": "4b5565d0-896f-4032-a42f-fcfe21f5d48c",
   "metadata": {},
   "outputs": [],
   "source": []
  }
 ],
 "metadata": {
  "kernelspec": {
   "display_name": "Python 3 (ipykernel)",
   "language": "python",
   "name": "python3"
  },
  "language_info": {
   "codemirror_mode": {
    "name": "ipython",
    "version": 3
   },
   "file_extension": ".py",
   "mimetype": "text/x-python",
   "name": "python",
   "nbconvert_exporter": "python",
   "pygments_lexer": "ipython3",
   "version": "3.12.2"
  }
 },
 "nbformat": 4,
 "nbformat_minor": 5
}
