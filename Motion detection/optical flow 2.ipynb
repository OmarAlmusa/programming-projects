{
 "cells": [
  {
   "cell_type": "code",
   "execution_count": 1,
   "id": "6667f2c8-b50a-420b-aaae-f6597198a2fa",
   "metadata": {},
   "outputs": [],
   "source": [
    "import os\n",
    "import glob\n",
    "import cv2\n",
    "import numpy as np\n",
    "import matplotlib.pyplot as plt"
   ]
  },
  {
   "cell_type": "code",
   "execution_count": 2,
   "id": "2d95e51e-2463-4431-b99f-c39ecf9514d8",
   "metadata": {},
   "outputs": [
    {
     "data": {
      "text/plain": [
       "['video_footages\\\\Raw Video_ Pittsburg Neighborhood Drive-By Shootings.mp4',\n",
       " 'video_footages\\\\Road traffic video for object recognition.mp4',\n",
       " 'video_footages\\\\Shooting captured by surveillance camera in Parma.mp4',\n",
       " 'video_footages\\\\Shopping, People, Commerce, Mall, Many, Crowd, Walking   Free Stock video footage   YouTube.mp4',\n",
       " 'video_footages\\\\Traffic Flow In The Highway - 4K Stock Videos _ NoCopyright _ AllVideoFree.mp4',\n",
       " 'video_footages\\\\vecteezy_busy-street-in-evening-hong-kong_28840705 (1) (1).mp4',\n",
       " 'video_footages\\\\vecteezy_people-crossing-the-road-on-zebra-tallin_28257759.mp4']"
      ]
     },
     "execution_count": 2,
     "metadata": {},
     "output_type": "execute_result"
    }
   ],
   "source": [
    "video_files = glob.glob('video_footages/*')\n",
    "video_files"
   ]
  },
  {
   "cell_type": "code",
   "execution_count": 6,
   "id": "7e53b23a-4ae9-44aa-b007-613b84fd495d",
   "metadata": {},
   "outputs": [],
   "source": [
    "feature_params = dict(maxCorners = 300, qualityLevel = 0.2, minDistance = 2, blockSize = 7)\n",
    "\n",
    "lk_params = dict(winSize = (15,15), maxLevel = 2, criteria = (cv2.TERM_CRITERIA_EPS | cv2.TERM_CRITERIA_COUNT, 10, 0.03))\n",
    "\n",
    "color = (0, 255, 0)\n",
    "\n",
    "cap = cv2.VideoCapture(video_files[1])\n",
    "ret, old_frame = cap.read()\n",
    "height, width, layers = old_frame.shape\n",
    "new_h = height/2\n",
    "new_w = width/2\n",
    "old_frame = cv2.resize(old_frame, (int(new_w), int(new_h)))\n",
    "old_gray = cv2.cvtColor(old_frame, cv2.COLOR_BGR2GRAY)\n",
    "prev = cv2.goodFeaturesToTrack(old_gray, mask = None, **feature_params)\n",
    "mask = np.zeros_like(old_frame)\n",
    "\n",
    "\n",
    "\n",
    "\n",
    "while (cap.isOpened()):\n",
    "    ret, frame = cap.read()\n",
    "    if ret == True:\n",
    "        frame = cv2.resize(frame, (int(new_w), int(new_h)))\n",
    "        frame_gray = cv2.cvtColor(frame, cv2.COLOR_BGR2GRAY)\n",
    "\n",
    "        next, status, error = cv2.calcOpticalFlowPyrLK(old_gray, frame_gray, prev, None, **lk_params)\n",
    "\n",
    "        good_old = prev[status == 1]\n",
    "\n",
    "        good_new = next[status == 1]\n",
    "\n",
    "        for i, (new, old) in enumerate(zip(good_new, good_old)):\n",
    "        # Returns a contiguous flattened array as (x, y) coordinates for new point\n",
    "            a, b = new.ravel()\n",
    "        # Returns a contiguous flattened array as (x, y) coordinates for old point\n",
    "            mask = cv2.rectangle(frame, (int(a-5), int(b-5)), (int(a+5),int(b+5)), color, thickness=2)\n",
    "\n",
    "        output = cv2.add(frame, mask)\n",
    "\n",
    "        cv2.imshow(\"sparse optical flow\", output)\n",
    "\n",
    "        prev = good_new.reshape(-1, 1, 2)\n",
    "\n",
    "        old_gray = frame_gray.copy()\n",
    "\n",
    "        if cv2.waitKey(30) & 0xFF == ord('q'):\n",
    "            break\n",
    "        \n",
    "    else:\n",
    "        break\n",
    "\n",
    "\n",
    "cap.release()\n",
    "\n",
    "cv2.destroyAllWindows()"
   ]
  },
  {
   "cell_type": "code",
   "execution_count": null,
   "id": "929ea29d-36cf-4623-a069-8fa95dc777e8",
   "metadata": {},
   "outputs": [],
   "source": []
  }
 ],
 "metadata": {
  "kernelspec": {
   "display_name": "Python 3 (ipykernel)",
   "language": "python",
   "name": "python3"
  },
  "language_info": {
   "codemirror_mode": {
    "name": "ipython",
    "version": 3
   },
   "file_extension": ".py",
   "mimetype": "text/x-python",
   "name": "python",
   "nbconvert_exporter": "python",
   "pygments_lexer": "ipython3",
   "version": "3.12.2"
  }
 },
 "nbformat": 4,
 "nbformat_minor": 5
}
