{
 "cells": [
  {
   "cell_type": "code",
   "execution_count": 2,
   "id": "7b3cb575-0321-49cb-af82-42a972557167",
   "metadata": {},
   "outputs": [],
   "source": [
    "import cv2 as cv\n",
    "import numpy as np\n",
    "import matplotlib.pyplot as plt\n",
    "import os\n",
    "import glob"
   ]
  },
  {
   "cell_type": "code",
   "execution_count": 4,
   "id": "2d46e539-1d68-468f-a637-9a9d79e93743",
   "metadata": {},
   "outputs": [],
   "source": [
    "video_files = glob.glob('video_footages/*')"
   ]
  },
  {
   "cell_type": "code",
   "execution_count": 5,
   "id": "8e03c795-064d-47a9-bf59-8f45b3b27396",
   "metadata": {},
   "outputs": [
    {
     "data": {
      "text/plain": [
       "['video_footages\\\\Raw Video_ Pittsburg Neighborhood Drive-By Shootings.mp4',\n",
       " 'video_footages\\\\Shooting captured by surveillance camera in Parma.mp4',\n",
       " 'video_footages\\\\Shopping, People, Commerce, Mall, Many, Crowd, Walking   Free Stock video footage   YouTube.mp4',\n",
       " 'video_footages\\\\vecteezy_busy-street-in-evening-hong-kong_28840705 (1) (1).mp4',\n",
       " 'video_footages\\\\vecteezy_people-crossing-the-road-on-zebra-tallin_28257759.mp4']"
      ]
     },
     "execution_count": 5,
     "metadata": {},
     "output_type": "execute_result"
    }
   ],
   "source": [
    "video_files"
   ]
  },
  {
   "cell_type": "code",
   "execution_count": 253,
   "id": "4a16d346-d585-48cc-8aa4-f0d25daf5464",
   "metadata": {},
   "outputs": [],
   "source": [
    "cap = cv.VideoCapture(video_files[0])\n",
    "\n",
    "first_frame = None\n",
    "\n",
    "kernel = np.array([[0, -2, 0], [-2, 10, -2], [0, -2, 0]])\n",
    "\n",
    "kernel_morph = cv.getStructuringElement(cv.MORPH_ELLIPSE, (15, 15))\n",
    "\n",
    "\n",
    "while(cap.isOpened()):\n",
    "  # Capture frame-by-frame\n",
    "  ret, frame = cap.read()\n",
    "  if ret == True:\n",
    " \n",
    "    # Display the resulting fram\n",
    "    height, width, layers = frame.shape\n",
    "    new_h = height / 2\n",
    "    new_w = width / 2\n",
    "    frame = cv.resize(frame, (int(new_w), int(new_h)))\n",
    "    gray = cv.cvtColor(frame, cv.COLOR_BGR2GRAY)\n",
    "    gray = cv.GaussianBlur(gray, (15,15), 0)\n",
    "    if first_frame is None:\n",
    "        first_frame = gray\n",
    "        continue\n",
    "    \n",
    "    delta_frame = cv.absdiff(first_frame, gray)\n",
    "\n",
    "    #thresholding:\n",
    "    delta_frame = cv.threshold(delta_frame, 30, 255, cv.THRESH_BINARY)[1]\n",
    "    \n",
    "\n",
    "    #sharpening:\n",
    "    #delta_frame = cv.filter2D(delta_frame, -1, kernel)\n",
    "\n",
    "    \n",
    "    \n",
    "    #dilation:\n",
    "    delta_frame = cv.dilate(delta_frame, None, iterations=2)\n",
    "\n",
    "    #morphing:\n",
    "    #delta_frame = cv.morphologyEx(delta_frame, cv.MORPH_DILATE, kernel_morph)\n",
    "\n",
    "\n",
    "    contours, hiarchy = cv.findContours(delta_frame, cv.RETR_EXTERNAL, cv.CHAIN_APPROX_SIMPLE)\n",
    "    #cv.drawContours(delta_frame, contours, -1, (255,255,255), cv.FILLED)\n",
    "\n",
    "    for cnt in contours:\n",
    "        if cv.contourArea(cnt)<300:\n",
    "            continue\n",
    "        (x,y,w,h) = cv.boundingRect(cnt)\n",
    "        cv.rectangle(frame,(x,y), (x+w,y+h), (0,255,0), 2)\n",
    "\n",
    "    \n",
    "            \n",
    "    cv.imshow('normal video',frame)\n",
    "    cv.imshow('difference video', delta_frame)\n",
    "\n",
    "    \n",
    " \n",
    "    # Press Q on keyboard to  exit\n",
    "    if cv.waitKey(30) & 0xFF == ord('q'):\n",
    "      break\n",
    "\n",
    "    first_frame = gray\n",
    " \n",
    "  # Break the loop\n",
    "  else: \n",
    "    break\n",
    " \n",
    "# When everything done, release the video capture object\n",
    "cap.release()\n",
    " \n",
    "# Closes all the frames\n",
    "cv.destroyAllWindows()"
   ]
  },
  {
   "cell_type": "code",
   "execution_count": 217,
   "id": "a0bcc323-23b7-4527-903d-c586c6061015",
   "metadata": {},
   "outputs": [],
   "source": [
    "image_files = glob.glob('images/*')"
   ]
  },
  {
   "cell_type": "code",
   "execution_count": 110,
   "id": "7a3c27fa-6713-4772-a666-0dd1774285be",
   "metadata": {},
   "outputs": [
    {
     "data": {
      "text/plain": [
       "['images\\\\test.png',\n",
       " 'images\\\\woman1.jpg',\n",
       " 'images\\\\woman2.jpg',\n",
       " 'images\\\\woman3.jpg']"
      ]
     },
     "execution_count": 110,
     "metadata": {},
     "output_type": "execute_result"
    }
   ],
   "source": [
    "image_files"
   ]
  },
  {
   "cell_type": "code",
   "execution_count": 148,
   "id": "41471eae-b2bc-4443-9971-a89b032a2144",
   "metadata": {},
   "outputs": [],
   "source": [
    "img = cv.imread(image_files[0], cv.IMREAD_GRAYSCALE)\n",
    "\n",
    "height, width= img.shape\n",
    "new_h = height / 2\n",
    "new_w = width / 2\n",
    "img = cv.resize(img, (int(new_w), int(new_h)))\n",
    "\n",
    "thresh = cv.threshold(img, 128, 255, cv.THRESH_BINARY)[1]\n",
    "\n",
    "contours, hierchy = cv.findContours(thresh, cv.RETR_EXTERNAL, cv.CHAIN_APPROX_SIMPLE)\n",
    "\n",
    "cv.drawContours(thresh, contours, -1, (255,255,255), cv.FILLED)\n",
    "\n",
    "# save results\n",
    "cv.imshow('original_image', img)\n",
    "cv.imshow('result', thresh)\n",
    "cv.waitKey(0)\n",
    "cv.destroyAllWindows()"
   ]
  },
  {
   "cell_type": "code",
   "execution_count": null,
   "id": "60a98e5b-1172-45cb-83c9-376a87df9965",
   "metadata": {},
   "outputs": [],
   "source": []
  }
 ],
 "metadata": {
  "kernelspec": {
   "display_name": "Python 3 (ipykernel)",
   "language": "python",
   "name": "python3"
  },
  "language_info": {
   "codemirror_mode": {
    "name": "ipython",
    "version": 3
   },
   "file_extension": ".py",
   "mimetype": "text/x-python",
   "name": "python",
   "nbconvert_exporter": "python",
   "pygments_lexer": "ipython3",
   "version": "3.12.2"
  }
 },
 "nbformat": 4,
 "nbformat_minor": 5
}
