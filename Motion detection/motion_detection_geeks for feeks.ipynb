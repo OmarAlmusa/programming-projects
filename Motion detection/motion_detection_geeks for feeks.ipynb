{
 "cells": [
  {
   "cell_type": "code",
   "execution_count": 31,
   "id": "916f373f-e108-471f-80d0-c18c9d0091de",
   "metadata": {},
   "outputs": [],
   "source": [
    "import cv2\n",
    "import numpy as np\n",
    "import time\n",
    "from datetime import datetime\n",
    "import glob\n",
    "import os\n",
    "import time"
   ]
  },
  {
   "cell_type": "code",
   "execution_count": 23,
   "id": "3c288326-7d47-46e1-a727-2cced2a162b8",
   "metadata": {},
   "outputs": [
    {
     "data": {
      "text/plain": [
       "['video_footages\\\\Raw Video_ Pittsburg Neighborhood Drive-By Shootings.mp4',\n",
       " 'video_footages\\\\Shooting captured by surveillance camera in Parma.mp4',\n",
       " 'video_footages\\\\Shopping, People, Commerce, Mall, Many, Crowd, Walking   Free Stock video footage   YouTube.mp4',\n",
       " 'video_footages\\\\vecteezy_busy-street-in-evening-hong-kong_28840705 (1) (1).mp4',\n",
       " 'video_footages\\\\vecteezy_people-crossing-the-road-on-zebra-tallin_28257759.mp4']"
      ]
     },
     "execution_count": 23,
     "metadata": {},
     "output_type": "execute_result"
    }
   ],
   "source": [
    "video_files = glob.glob('video_footages/*')\n",
    "video_files"
   ]
  },
  {
   "cell_type": "code",
   "execution_count": 40,
   "id": "d57df09d-4b07-4e5e-88d4-92eb72307772",
   "metadata": {},
   "outputs": [
    {
     "name": "stdout",
     "output_type": "stream",
     "text": [
      "13.324989080429077\n"
     ]
    }
   ],
   "source": [
    "cap = cv2.VideoCapture(video_files[4])\n",
    "static_back = None\n",
    "\n",
    "if (cap.isOpened()== False): \n",
    "  print(\"Error opening video stream or file\")\n",
    "    \n",
    "start = time.time()\n",
    "while(cap.isOpened()):\n",
    "    \n",
    "\n",
    "    ret, frame = cap.read()\n",
    "    if ret == True:\n",
    "        height, width, layers = frame.shape\n",
    "        new_h = height / 2\n",
    "        new_w = width / 2\n",
    "        frame = cv2.resize(frame, (int(new_w), int(new_h)))\n",
    "        gray = cv2.cvtColor(frame, cv2.COLOR_BGR2GRAY)\n",
    "        gray = cv2.GaussianBlur(gray, (21, 21), 0)\n",
    "        \n",
    "        if static_back is None: \n",
    "            static_back = gray \n",
    "            continue\n",
    "            \n",
    "        diff_frame = cv2.absdiff(static_back, gray) \n",
    "        thresh_frame = cv2.threshold(diff_frame, 30, 255, cv2.THRESH_BINARY)[1] \n",
    "        thresh_frame = cv2.dilate(thresh_frame, None, iterations = 2) \n",
    "\n",
    "        cnts,_ = cv2.findContours(thresh_frame.copy(), cv2.RETR_EXTERNAL, cv2.CHAIN_APPROX_SIMPLE) \n",
    "\n",
    "        for contour in cnts: \n",
    "            if cv2.contourArea(contour) < 1000: \n",
    "                continue\n",
    "  \n",
    "            (x, y, w, h) = cv2.boundingRect(contour) \n",
    "            cv2.rectangle(frame, (x, y), (x + w, y + h), (0, 255, 0), 3) \n",
    "            \n",
    "        cv2.imshow(\"Gray Frame\", gray)\n",
    "        \n",
    "        cv2.imshow(\"Difference Frame\", diff_frame) \n",
    "  \n",
    "        cv2.imshow(\"Threshold Frame\", thresh_frame) \n",
    "\n",
    "        cv2.imshow(\"Color Frame\", frame) \n",
    "  \n",
    "        \n",
    "        if cv2.waitKey(25) & 0xFF == ord('q'):\n",
    "            break\n",
    "            \n",
    "        if (time.time() - start) == 3:\n",
    "                static_back = gray\n",
    "        \n",
    "            \n",
    "    else: \n",
    "        break\n",
    "        \n",
    "cap.release()\n",
    "\n",
    "cv2.destroyAllWindows()\n",
    "\n",
    "end = time.time()\n",
    "\n",
    "print(end-start)\n"
   ]
  },
  {
   "cell_type": "code",
   "execution_count": null,
   "id": "5b315ded-e88f-4c17-8d4c-3f9cfe8b4d53",
   "metadata": {},
   "outputs": [],
   "source": []
  }
 ],
 "metadata": {
  "kernelspec": {
   "display_name": "Python 3 (ipykernel)",
   "language": "python",
   "name": "python3"
  },
  "language_info": {
   "codemirror_mode": {
    "name": "ipython",
    "version": 3
   },
   "file_extension": ".py",
   "mimetype": "text/x-python",
   "name": "python",
   "nbconvert_exporter": "python",
   "pygments_lexer": "ipython3",
   "version": "3.12.2"
  }
 },
 "nbformat": 4,
 "nbformat_minor": 5
}
