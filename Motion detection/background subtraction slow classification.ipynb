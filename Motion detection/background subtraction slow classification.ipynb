{
 "cells": [
  {
   "cell_type": "code",
   "execution_count": 1,
   "id": "20b749da-f523-4a49-a600-db04598def7a",
   "metadata": {},
   "outputs": [],
   "source": [
    "import os\n",
    "import glob\n",
    "import cv2\n",
    "import numpy as np\n",
    "import matplotlib.pyplot as plt"
   ]
  },
  {
   "cell_type": "code",
   "execution_count": 59,
   "id": "bc26d4a7-b94a-4baf-b299-972f5dce45d0",
   "metadata": {},
   "outputs": [],
   "source": [
    "import torch\n",
    "from torchvision.models import resnet50, ResNet50_Weights\n",
    "from torchvision.models import mobilenet_v3_small, MobileNet_V3_Small_Weights"
   ]
  },
  {
   "cell_type": "code",
   "execution_count": 66,
   "id": "edb7996b-ea0e-464c-8897-1959c3232396",
   "metadata": {},
   "outputs": [],
   "source": [
    "weights = MobileNet_V3_Small_Weights.IMAGENET1K_V1\n",
    "model = mobilenet_v3_small(weights=weights)"
   ]
  },
  {
   "cell_type": "code",
   "execution_count": 2,
   "id": "dc8fc5e5-ce9a-4b11-ae80-cbc1dc4dda10",
   "metadata": {},
   "outputs": [
    {
     "data": {
      "text/plain": [
       "['video_footages\\\\4K Road traffic video for object detection and tracking - free download now!.mp4',\n",
       " 'video_footages\\\\Central Park People Watching.mp4',\n",
       " 'video_footages\\\\Creatures of the Night - trail cam videos.mp4',\n",
       " 'video_footages\\\\Dutch bike rush hour this morning was smooth as ever.mp4',\n",
       " 'video_footages\\\\Free City Street Footage - Royalty Free Stock Footage - People Walking Stock Footage No Copyright.mp4',\n",
       " 'video_footages\\\\morning bike traffic during commute to Dutch university.mp4',\n",
       " 'video_footages\\\\People Walking Free Stock Footage, Royalty-Free No Copyright Content.mp4',\n",
       " 'video_footages\\\\Raw Video_ Pittsburg Neighborhood Drive-By Shootings.mp4',\n",
       " 'video_footages\\\\Road traffic video for object recognition.mp4',\n",
       " 'video_footages\\\\Shooting captured by surveillance camera in Parma.mp4',\n",
       " 'video_footages\\\\Shopping, People, Commerce, Mall, Many, Crowd, Walking   Free Stock video footage   YouTube.mp4',\n",
       " 'video_footages\\\\snow dispute.mp4',\n",
       " 'video_footages\\\\Surveillance camera captures tanks entering Ukraine via Belarus border.mp4',\n",
       " 'video_footages\\\\Traffic Flow In The Highway - 4K Stock Videos _ NoCopyright _ AllVideoFree.mp4',\n",
       " 'video_footages\\\\Unbelievably busy bicycle crossing in Amsterdam.mp4',\n",
       " 'video_footages\\\\Utrecht Centraal Station Bike Parking.mp4',\n",
       " 'video_footages\\\\vecteezy_people-crossing-the-road-on-zebra-tallin_28257759.mp4',\n",
       " 'video_footages\\\\차흐르듯 (1).mp4',\n",
       " 'video_footages\\\\차흐르듯.  Like a car flowing. 車が流れるように. Como un auto que fluye..mp4',\n",
       " 'video_footages\\\\차흐르듯.mp4']"
      ]
     },
     "execution_count": 2,
     "metadata": {},
     "output_type": "execute_result"
    }
   ],
   "source": [
    "video_files = glob.glob('video_footages/*')\n",
    "video_files"
   ]
  },
  {
   "cell_type": "code",
   "execution_count": 3,
   "id": "a299e8f0-23bc-4ae8-b901-b0519d4341b9",
   "metadata": {},
   "outputs": [],
   "source": [
    "def get_motion_mask(fg_mask, min_thresh=0, kernel=np.array((9,9), dtype=np.uint8)):\n",
    "    \"\"\" Obtains image mask\n",
    "        Inputs: \n",
    "            fg_mask - foreground mask\n",
    "            kernel - kernel for Morphological Operations\n",
    "        Outputs: \n",
    "            mask - Thresholded mask for moving pixels\n",
    "        \"\"\"\n",
    "    _, thresh = cv2.threshold(fg_mask,min_thresh,255,cv2.THRESH_BINARY)\n",
    "    #mask = cv2.adaptiveThreshold(fg_mask, 255, cv2.ADAPTIVE_THRESH_GAUSSIAN_C,cv2.THRESH_BINARY_INV, 11, 3)\n",
    "    motion_mask = cv2.medianBlur(thresh, 5) #use thresh variable if cv2.threshold\n",
    "    #motion_mask = cv2.GaussianBlur(thresh, (15, 15))\n",
    "    # morphological operations\n",
    "    motion_mask = cv2.morphologyEx(motion_mask, cv2.MORPH_OPEN, kernel, iterations=1)\n",
    "    motion_mask = cv2.morphologyEx(motion_mask, cv2.MORPH_CLOSE, kernel, iterations=1)\n",
    "\n",
    "    return motion_mask"
   ]
  },
  {
   "cell_type": "code",
   "execution_count": null,
   "id": "60008adf-6d76-43f9-8adc-b47ee67a278a",
   "metadata": {},
   "outputs": [],
   "source": [
    "sub_type = 'MOG2' # 'KNN'\n",
    "\n",
    "\n",
    "if sub_type == 'MOG2':\n",
    "    backSub = cv2.createBackgroundSubtractorMOG2(varThreshold=16, detectShadows=False)\n",
    "else:\n",
    "    backSub = cv2.createBackgroundSubtractorKNN(dist2Threshold=1000, detectShadows=False)\n",
    "\n",
    "thresh = 500\n",
    "\n",
    "for video in video_files:\n",
    "\n",
    "    cap = cv2.VideoCapture(video)\n",
    "    \n",
    "    while(cap.isOpened()):\n",
    "        \n",
    "        ret, frame = cap.read()\n",
    "        if ret == True:\n",
    "          \n",
    "            height, width, layers = frame.shape\n",
    "            new_h = height / 2\n",
    "            new_w = width / 2\n",
    "            frame = cv2.resize(frame, (int(new_w), int(new_h)))\n",
    "            fgMask = backSub.apply(frame)\n",
    "            motion_mask = get_motion_mask(fgMask, min_thresh = 30)\n",
    "    \n",
    "            contours, _ = cv2.findContours(motion_mask, cv2.RETR_EXTERNAL, cv2.CHAIN_APPROX_TC89_L1)\n",
    "            \n",
    "            for cnt in contours:\n",
    "                x,y,w,h = cv2.boundingRect(cnt)\n",
    "                area = w*h\n",
    "                if area > thresh:\n",
    "                    frame = cv2.rectangle(frame, (x, y), (x+w, y+h), (0, 255, 0), thickness = 2)\n",
    "                    cropped_frame = frame[y:y+h, x:x+w]\n",
    "                    cropped_frame = cv2.resize(cropped_frame, (224, 224))\n",
    "                    tensor_img = torch.tensor(img, dtype=torch.float)\n",
    "                    tensor_img = tensor_img.permute(2, 0, 1).unsqueeze(0)\n",
    "                    prediction = model(tensor_img).squeeze(0).softmax(0)\n",
    "                    class_id = prediction.argmax().item()\n",
    "                    category_name = weights.meta[\"categories\"][class_id]\n",
    "                    \n",
    "                    frame = cv2.putText(frame, category_name,\n",
    "                                        (x, y-3), \n",
    "                                        cv2.FONT_HERSHEY_COMPLEX_SMALL, 0.5,\n",
    "                                        (255,\n",
    "                                        255,\n",
    "                                        255),\n",
    "                                        thickness=1)\n",
    "                    \n",
    "            cv2.imshow('normal video',frame)\n",
    "            cv2.imshow('fg_mask',motion_mask)\n",
    "    \n",
    "            k = cv2.waitKey(1) & 0xFF\n",
    "            if k  == ord('q'):\n",
    "                break\n",
    "    \n",
    "        else:\n",
    "            break\n",
    "\n",
    "    \n",
    "    cap.release()\n",
    "    \n",
    "    cv2.destroyAllWindows()"
   ]
  },
  {
   "cell_type": "code",
   "execution_count": 54,
   "id": "7cefdb81-f201-44aa-b6a9-c10856b8b3a5",
   "metadata": {},
   "outputs": [
    {
     "data": {
      "text/plain": [
       "torch.Size([1, 3, 224, 224])"
      ]
     },
     "execution_count": 54,
     "metadata": {},
     "output_type": "execute_result"
    }
   ],
   "source": [
    "img = cv2.imread(image_files[2], cv2.COLOR_BGR2RGB)\n",
    "img = cv2.resize(img, (224, 224))\n",
    "tensor_img = torch.tensor(img, dtype=torch.float)\n",
    "tensor_img = tensor_img.permute(2, 0, 1).unsqueeze(0)\n",
    "tensor_img.shape\n",
    "prediction = model(tensor_img).squeeze(0).softmax(0)\n",
    "class_id = prediction.argmax().item()\n",
    "score = prediction[class_id].item()\n",
    "category_name = weights.meta[\"categories\"][class_id]\n",
    "category_name"
   ]
  },
  {
   "cell_type": "code",
   "execution_count": null,
   "id": "e3920818-2dac-43ff-8f86-ef7fde7647ea",
   "metadata": {},
   "outputs": [],
   "source": []
  }
 ],
 "metadata": {
  "kernelspec": {
   "display_name": "Python 3 (ipykernel)",
   "language": "python",
   "name": "python3"
  },
  "language_info": {
   "codemirror_mode": {
    "name": "ipython",
    "version": 3
   },
   "file_extension": ".py",
   "mimetype": "text/x-python",
   "name": "python",
   "nbconvert_exporter": "python",
   "pygments_lexer": "ipython3",
   "version": "3.12.2"
  }
 },
 "nbformat": 4,
 "nbformat_minor": 5
}
