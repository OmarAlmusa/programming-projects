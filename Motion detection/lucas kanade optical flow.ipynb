{
 "cells": [
  {
   "cell_type": "code",
   "execution_count": 19,
   "id": "0e1ee81e-f1ef-4d2d-b14a-2f8827ca3b46",
   "metadata": {},
   "outputs": [],
   "source": [
    "import os\n",
    "import glob\n",
    "import cv2\n",
    "import numpy as np\n",
    "import matplotlib.pyplot as plt"
   ]
  },
  {
   "cell_type": "code",
   "execution_count": 20,
   "id": "a2eddcea-6c98-40f6-9494-f25583519279",
   "metadata": {},
   "outputs": [
    {
     "data": {
      "text/plain": [
       "['video_footages\\\\Raw Video_ Pittsburg Neighborhood Drive-By Shootings.mp4',\n",
       " 'video_footages\\\\Road traffic video for object recognition.mp4',\n",
       " 'video_footages\\\\Shooting captured by surveillance camera in Parma.mp4',\n",
       " 'video_footages\\\\Shopping, People, Commerce, Mall, Many, Crowd, Walking   Free Stock video footage   YouTube.mp4',\n",
       " 'video_footages\\\\Traffic Flow In The Highway - 4K Stock Videos _ NoCopyright _ AllVideoFree.mp4',\n",
       " 'video_footages\\\\vecteezy_busy-street-in-evening-hong-kong_28840705 (1) (1).mp4',\n",
       " 'video_footages\\\\vecteezy_people-crossing-the-road-on-zebra-tallin_28257759.mp4']"
      ]
     },
     "execution_count": 20,
     "metadata": {},
     "output_type": "execute_result"
    }
   ],
   "source": [
    "video_files = glob.glob('video_footages/*')\n",
    "video_files"
   ]
  },
  {
   "cell_type": "code",
   "execution_count": 21,
   "id": "f996aab7-4bfd-4507-9068-336c411803f8",
   "metadata": {},
   "outputs": [],
   "source": [
    "cap = cv2.VideoCapture(video_files[1])\n",
    "\n",
    "\n",
    "# params for ShiTomasi corner detection\n",
    "feature_params = dict( maxCorners = 100,\n",
    "                       qualityLevel = 0.3,\n",
    "                       minDistance = 7,\n",
    "                       blockSize = 7 )\n",
    "\n",
    "# Parameters for lucas kanade optical flow\n",
    "lk_params = dict( winSize  = (15, 15),\n",
    "                  maxLevel = 2,\n",
    "                  criteria = (cv2.TERM_CRITERIA_EPS | cv2.TERM_CRITERIA_COUNT, 10, 0.03))\n",
    "#create random color\n",
    "color = np.random.randint(0, 255, (100, 3))\n",
    "\n",
    "ret, old_frame = cap.read()\n",
    "height, width, layers = old_frame.shape\n",
    "new_h = height / 2\n",
    "new_w = width / 2\n",
    "old_frame = cv2.resize(old_frame, (int(new_w), int(new_h)))\n",
    "old_gray = cv2.cvtColor(old_frame, cv2.COLOR_BGR2GRAY)\n",
    "p0 = cv2.goodFeaturesToTrack(old_gray, mask = None, **feature_params)\n",
    "\n",
    "mask = np.zeros_like(old_frame)\n",
    "\n",
    "while(cap.isOpened()):\n",
    "    \n",
    "    ret, frame = cap.read()\n",
    "    if ret == True:\n",
    "      \n",
    "        height, width, layers = frame.shape\n",
    "        new_h = height / 2\n",
    "        new_w = width / 2\n",
    "        frame = cv2.resize(frame, (int(new_w), int(new_h)))\n",
    "        frame_gray = cv2.cvtColor(frame, cv2.COLOR_BGR2GRAY)\n",
    "        \n",
    "        # calculate optical flow\n",
    "        p1, st, err = cv2.calcOpticalFlowPyrLK(old_gray, frame_gray, p0, None, **lk_params)\n",
    "\n",
    "        if p1 is not None:\n",
    "            good_new = p1[st==1]\n",
    "            good_old = p0[st==1]\n",
    "\n",
    "        # draw the tracks\n",
    "        for i, (new, old) in enumerate(zip(good_new, good_old)):\n",
    "            a, b = new.ravel()\n",
    "            c, d = old.ravel()\n",
    "            mask = cv2.line(mask, (int(a), int(b)), (int(c), int(d)), color[i].tolist(), 2)\n",
    "            frame = cv2.circle(frame, (int(a), int(b)), 5, color[i].tolist(), -1)\n",
    "        img = cv2.add(frame, mask)\n",
    "\n",
    "        cv2.imshow('normal video',img)\n",
    "\n",
    "    \n",
    "        if cv2.waitKey(30) & 0xFF == ord('q'):\n",
    "            break\n",
    "\n",
    "        old_gray = frame_gray.copy()\n",
    "        p0 = good_new.reshape(-1, 1, 2)\n",
    "\n",
    "    else:\n",
    "        break\n",
    "\n",
    "cap.release()\n",
    "\n",
    "cv2.destroyAllWindows()"
   ]
  },
  {
   "cell_type": "code",
   "execution_count": null,
   "id": "c5d37342-1424-4d95-aa3c-45ddbe2dbacc",
   "metadata": {},
   "outputs": [],
   "source": []
  }
 ],
 "metadata": {
  "kernelspec": {
   "display_name": "Python 3 (ipykernel)",
   "language": "python",
   "name": "python3"
  },
  "language_info": {
   "codemirror_mode": {
    "name": "ipython",
    "version": 3
   },
   "file_extension": ".py",
   "mimetype": "text/x-python",
   "name": "python",
   "nbconvert_exporter": "python",
   "pygments_lexer": "ipython3",
   "version": "3.12.2"
  }
 },
 "nbformat": 4,
 "nbformat_minor": 5
}
