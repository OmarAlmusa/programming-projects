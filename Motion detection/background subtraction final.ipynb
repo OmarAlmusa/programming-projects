{
 "cells": [
  {
   "cell_type": "code",
   "execution_count": 1,
   "id": "20b749da-f523-4a49-a600-db04598def7a",
   "metadata": {},
   "outputs": [],
   "source": [
    "import os\n",
    "import glob\n",
    "import cv2\n",
    "import numpy as np\n",
    "import matplotlib.pyplot as plt"
   ]
  },
  {
   "cell_type": "code",
   "execution_count": 2,
   "id": "dc8fc5e5-ce9a-4b11-ae80-cbc1dc4dda10",
   "metadata": {},
   "outputs": [
    {
     "data": {
      "text/plain": [
       "['video_footages\\\\Raw Video_ Pittsburg Neighborhood Drive-By Shootings.mp4',\n",
       " 'video_footages\\\\Shooting captured by surveillance camera in Parma.mp4',\n",
       " 'video_footages\\\\Shopping, People, Commerce, Mall, Many, Crowd, Walking   Free Stock video footage   YouTube.mp4',\n",
       " 'video_footages\\\\snow dispute.mp4',\n",
       " 'video_footages\\\\Surveillance camera captures tanks entering Ukraine via Belarus border.mp4',\n",
       " 'video_footages\\\\trail cam video creatures of the night.mp4',\n",
       " 'video_footages\\\\Unbelievably busy bicycle crossing in Amsterdam.mp4',\n",
       " 'video_footages\\\\vecteezy_people-crossing-the-road-on-zebra-tallin_28257759.mp4',\n",
       " 'video_footages\\\\차흐르듯 (1).mp4',\n",
       " 'video_footages\\\\차흐르듯.mp4']"
      ]
     },
     "execution_count": 2,
     "metadata": {},
     "output_type": "execute_result"
    }
   ],
   "source": [
    "video_files = glob.glob('video_footages/*')\n",
    "video_files"
   ]
  },
  {
   "cell_type": "code",
   "execution_count": 4,
   "id": "60008adf-6d76-43f9-8adc-b47ee67a278a",
   "metadata": {},
   "outputs": [],
   "source": [
    "video_num = 1\n",
    "sub_type = 'MOG2'\n",
    "\n",
    "backSubMOG = cv2.createBackgroundSubtractorMOG2(varThreshold=16, detectShadows=False)\n",
    "\n",
    "#backSubKNN = cv2.createBackgroundSubtractorKNN(dist2Threshold=1000, detectShadows=False)\n",
    "\n",
    "area_thresh = 500\n",
    "new_h =  300 #int(height / 1.5)\n",
    "new_w =  600 #int(width / 1.5)\n",
    "count = 0\n",
    "\n",
    "cap = cv2.VideoCapture(video_files[video_num])\n",
    "\n",
    "while(cap.isOpened()):\n",
    "    \n",
    "    ret, frame = cap.read()\n",
    "    if ret == True:\n",
    "        count += 1\n",
    "        frame = cv2.resize(frame, (new_w, new_h))\n",
    "        #blur = cv2.medianBlur(frame, 11)\n",
    "        blur = cv2.GaussianBlur(frame, (11, 11), 0)\n",
    "        fgMaskMOG = backSubMOG.apply(blur)\n",
    "        #fgMaskKNN = backSubKNN.apply(blur)\n",
    "\n",
    "        contours, _ = cv2.findContours(fgMaskMOG, cv2.RETR_EXTERNAL, cv2.CHAIN_APPROX_TC89_L1)\n",
    "        bbox_frame = frame.copy()\n",
    "        for cnt in contours:\n",
    "            x,y,w,h = cv2.boundingRect(cnt)\n",
    "            area = w*h\n",
    "            if area > area_thresh:\n",
    "                cv2.rectangle(bbox_frame, (x, y), (x+w, y+h), (0, 255, 0), thickness = 2)\n",
    "\n",
    "        cv2.imshow('Original Video', frame)\n",
    "        cv2.imshow('Fg_mask_MOG', fgMaskMOG)\n",
    "        #cv2.imshow('Fg_mask_KNN', fgMaskKNN)\n",
    "        cv2.imshow('Bounding Boxes', bbox_frame)\n",
    "\n",
    "        pressedKey = cv2.waitKey(30) & 0xFF\n",
    "        if pressedKey == ord('q'):\n",
    "            break\n",
    "        elif pressedKey == ord('s'):\n",
    "            cv2.imwrite(f'saved images for essay/MOG vs KNN/{video_num}_{count}_Original_Frame.jpg',frame)\n",
    "            cv2.imwrite(f'saved images for essay/MOG vs KNN/{video_num}_{count}_Fg_mask_MOG.jpg', fgMaskMOG)\n",
    "            cv2.imwrite(f'saved images for essay/MOG vs KNN/{video_num}_{count}_Bounding_Boxes.jpg', bbox_frame)\n",
    "\n",
    "    else:\n",
    "        break\n",
    "\n",
    "cap.release()\n",
    "\n",
    "cv2.destroyAllWindows()"
   ]
  },
  {
   "cell_type": "code",
   "execution_count": null,
   "id": "9d2c05ab-81cf-49c9-8f1e-1346e6256e5f",
   "metadata": {},
   "outputs": [],
   "source": []
  }
 ],
 "metadata": {
  "kernelspec": {
   "display_name": "Python 3 (ipykernel)",
   "language": "python",
   "name": "python3"
  },
  "language_info": {
   "codemirror_mode": {
    "name": "ipython",
    "version": 3
   },
   "file_extension": ".py",
   "mimetype": "text/x-python",
   "name": "python",
   "nbconvert_exporter": "python",
   "pygments_lexer": "ipython3",
   "version": "3.12.2"
  }
 },
 "nbformat": 4,
 "nbformat_minor": 5
}
