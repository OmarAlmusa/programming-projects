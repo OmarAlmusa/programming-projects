{
 "cells": [
  {
   "cell_type": "code",
   "execution_count": 1,
   "id": "0c4e8f70-6972-41dd-822c-74c3e4f8e90d",
   "metadata": {},
   "outputs": [],
   "source": [
    "import os\n",
    "import glob\n",
    "import cv2\n",
    "import numpy as np\n",
    "import matplotlib.pyplot as plt"
   ]
  },
  {
   "cell_type": "code",
   "execution_count": 2,
   "id": "2402d91b-d0e3-4324-a39e-4226448c4c8b",
   "metadata": {},
   "outputs": [
    {
     "data": {
      "text/plain": [
       "['video_footages\\\\4K Road traffic video for object detection and tracking - free download now!.mp4',\n",
       " 'video_footages\\\\Dutch bike rush hour this morning was smooth as ever.mp4',\n",
       " 'video_footages\\\\Free City Street Footage - Royalty Free Stock Footage - People Walking Stock Footage No Copyright.mp4',\n",
       " 'video_footages\\\\morning bike traffic during commute to Dutch university.mp4',\n",
       " 'video_footages\\\\Raw Video_ Pittsburg Neighborhood Drive-By Shootings.mp4',\n",
       " 'video_footages\\\\Road traffic video for object recognition.mp4',\n",
       " 'video_footages\\\\Shooting captured by surveillance camera in Parma.mp4',\n",
       " 'video_footages\\\\Shopping, People, Commerce, Mall, Many, Crowd, Walking   Free Stock video footage   YouTube.mp4',\n",
       " 'video_footages\\\\Traffic Flow In The Highway - 4K Stock Videos _ NoCopyright _ AllVideoFree.mp4',\n",
       " 'video_footages\\\\Unbelievably busy bicycle crossing in Amsterdam.mp4',\n",
       " 'video_footages\\\\Utrecht Centraal Station Bike Parking.mp4',\n",
       " 'video_footages\\\\vecteezy_busy-street-in-evening-hong-kong_28840705 (1) (1).mp4',\n",
       " 'video_footages\\\\vecteezy_people-crossing-the-road-on-zebra-tallin_28257759.mp4',\n",
       " 'video_footages\\\\차흐르듯 (1).mp4',\n",
       " 'video_footages\\\\차흐르듯.  Like a car flowing. 車が流れるように. Como un auto que fluye..mp4',\n",
       " 'video_footages\\\\차흐르듯.mp4']"
      ]
     },
     "execution_count": 2,
     "metadata": {},
     "output_type": "execute_result"
    }
   ],
   "source": [
    "video_files = glob.glob('video_footages/*')\n",
    "video_files"
   ]
  },
  {
   "cell_type": "code",
   "execution_count": 3,
   "id": "5d74b375-b829-4f89-9ec7-87bcc2cb8e5b",
   "metadata": {},
   "outputs": [],
   "source": [
    "def iou(box1, box2):\n",
    "    \"\"\"\n",
    "    the boxes should be in format of (x, y, w, h, area)\n",
    "    \"\"\"\n",
    "    xx = max(box1[0],box2[0])\n",
    "    yy = max(box1[1],box2[1])\n",
    "    xf = min(box1[0]+box1[2],box2[0]+box2[2])\n",
    "    yf = min(box1[1]+box1[3],box2[1]+box2[3])\n",
    "    area1 = box1[2]*box1[3]\n",
    "    area2 = box2[2]*box2[3]\n",
    "\n",
    "    w = max(0, xf-xx)\n",
    "    h = max(0, yf-yy)\n",
    "\n",
    "    intersection = w*h\n",
    "    union = abs(area1) + abs(area2) - intersection + 1e-6\n",
    "    result = intersection/union\n",
    "    return result"
   ]
  },
  {
   "cell_type": "code",
   "execution_count": 4,
   "id": "f81e842c-1fdc-42c7-9a8e-54ec832b4462",
   "metadata": {},
   "outputs": [],
   "source": [
    "def nms(bboxes, threshold):\n",
    "    assert type(bboxes) == list\n",
    "    bboxes = [box for box in bboxes if box[-1] > threshold]\n",
    "    bboxes = sorted(bboxes, key=lambda x: x[1], reverse=True)\n",
    "    bboxes_after_nms = []\n",
    "    while bboxes:\n",
    "        chosen_box = bboxes.pop(0)\n",
    "\n",
    "        bboxes = [box for box in bboxes if iou(chosen_box[:4],box[:4])< threshold]\n",
    "\n",
    "        bboxes_after_nms.append(chosen_box)\n",
    "\n",
    "    return bboxes_after_nms"
   ]
  },
  {
   "cell_type": "code",
   "execution_count": 5,
   "id": "57cc4325-e24b-45ad-9291-f31b69081230",
   "metadata": {},
   "outputs": [],
   "source": [
    "def get_mask(frame1, frame2, kernel=np.array((9,9), dtype=np.uint8)):\n",
    "\n",
    "    frame_diff = cv2.subtract(frame2, frame1)\n",
    "\n",
    "    # blur the frame difference\n",
    "    frame_diff = cv2.medianBlur(frame_diff, 3)\n",
    "    \n",
    "    mask = cv2.adaptiveThreshold(frame_diff, 255, cv2.ADAPTIVE_THRESH_GAUSSIAN_C,\\\n",
    "            cv2.THRESH_BINARY_INV, 11, 3)\n",
    "\n",
    "    mask = cv2.medianBlur(mask, 3)\n",
    "\n",
    "    # morphological operations\n",
    "    mask = cv2.morphologyEx(mask, cv2.MORPH_CLOSE, kernel, iterations=1)\n",
    "\n",
    "    return mask"
   ]
  },
  {
   "cell_type": "code",
   "execution_count": 8,
   "id": "8ad35388-66f2-44cf-9c8b-7b67327b7ac3",
   "metadata": {},
   "outputs": [],
   "source": [
    "cap = cv2.VideoCapture(video_files[-7])\n",
    "\n",
    "thresh = 1000\n",
    "\n",
    "ret, old_frame = cap.read()\n",
    "height, width, layers = old_frame.shape\n",
    "new_h = height / 2\n",
    "new_w = width / 2\n",
    "motion_thresh = np.c_[np.linspace(0.3, 1, int(new_h))].repeat(int(new_w), axis=-1)\n",
    "old_frame = cv2.resize(old_frame, (int(new_w), int(new_h)))\n",
    "old_gray = cv2.cvtColor(old_frame, cv2.COLOR_BGR2GRAY)\n",
    "\n",
    "while(cap.isOpened()):\n",
    "    \n",
    "    ret, frame = cap.read()\n",
    "    if ret == True:\n",
    "      \n",
    "        frame = cv2.resize(frame, (int(new_w), int(new_h)))\n",
    "        gray = cv2.cvtColor(frame, cv2.COLOR_BGR2GRAY)\n",
    "        \n",
    "        delta_frame = get_mask(old_gray, gray)\n",
    "\n",
    "        contours, _ = cv2.findContours(delta_frame, cv2.RETR_EXTERNAL, cv2.CHAIN_APPROX_TC89_L1)\n",
    "\n",
    "        predictions = []\n",
    "        for cnt in contours:\n",
    "            x,y,w,h = cv2.boundingRect(cnt)\n",
    "            area = w*h\n",
    "            predictions.append([x,y,w,h,area])\n",
    "        predictions = nms(predictions, thresh)\n",
    "        for box in predictions:\n",
    "            #if box[-1] > thresh:\n",
    "            frame = cv2.rectangle(frame, (box[0], box[1]), (box[0]+box[2], box[1]+box[3]), (0, 255, 0), thickness = 2)\n",
    "\n",
    "            \n",
    "        cv2.imshow('normal video',frame)\n",
    "        cv2.imshow('difference video', delta_frame)\n",
    "\n",
    "\n",
    "        if cv2.waitKey(25) & 0xFF == ord('q'):\n",
    "            break\n",
    "\n",
    "        old_gray = gray.copy()\n",
    "\n",
    "    else:\n",
    "        break\n",
    "\n",
    "        \n",
    " \n",
    "cap.release()\n",
    " \n",
    "cv2.destroyAllWindows()"
   ]
  },
  {
   "cell_type": "code",
   "execution_count": null,
   "id": "c8bc0bd6-b3f3-4026-8a5d-eaaef60e00d0",
   "metadata": {},
   "outputs": [],
   "source": []
  }
 ],
 "metadata": {
  "kernelspec": {
   "display_name": "Python 3 (ipykernel)",
   "language": "python",
   "name": "python3"
  },
  "language_info": {
   "codemirror_mode": {
    "name": "ipython",
    "version": 3
   },
   "file_extension": ".py",
   "mimetype": "text/x-python",
   "name": "python",
   "nbconvert_exporter": "python",
   "pygments_lexer": "ipython3",
   "version": "3.12.2"
  }
 },
 "nbformat": 4,
 "nbformat_minor": 5
}
