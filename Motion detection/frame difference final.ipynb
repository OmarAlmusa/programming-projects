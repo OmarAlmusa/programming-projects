{
 "cells": [
  {
   "cell_type": "code",
   "execution_count": 1,
   "id": "0c4e8f70-6972-41dd-822c-74c3e4f8e90d",
   "metadata": {},
   "outputs": [],
   "source": [
    "import os\n",
    "import glob\n",
    "import cv2\n",
    "import numpy as np\n",
    "import matplotlib.pyplot as plt"
   ]
  },
  {
   "cell_type": "code",
   "execution_count": 2,
   "id": "2402d91b-d0e3-4324-a39e-4226448c4c8b",
   "metadata": {},
   "outputs": [
    {
     "data": {
      "text/plain": [
       "['video_footages\\\\Raw Video_ Pittsburg Neighborhood Drive-By Shootings.mp4',\n",
       " 'video_footages\\\\Shooting captured by surveillance camera in Parma.mp4',\n",
       " 'video_footages\\\\Shopping, People, Commerce, Mall, Many, Crowd, Walking   Free Stock video footage   YouTube.mp4',\n",
       " 'video_footages\\\\snow dispute.mp4',\n",
       " 'video_footages\\\\Surveillance camera captures tanks entering Ukraine via Belarus border.mp4',\n",
       " 'video_footages\\\\trail cam video creatures of the night.mp4',\n",
       " 'video_footages\\\\Unbelievably busy bicycle crossing in Amsterdam.mp4',\n",
       " 'video_footages\\\\vecteezy_people-crossing-the-road-on-zebra-tallin_28257759.mp4',\n",
       " 'video_footages\\\\차흐르듯 (1).mp4',\n",
       " 'video_footages\\\\차흐르듯.mp4']"
      ]
     },
     "execution_count": 2,
     "metadata": {},
     "output_type": "execute_result"
    }
   ],
   "source": [
    "video_files = glob.glob('video_footages/*')\n",
    "video_files"
   ]
  },
  {
   "cell_type": "code",
   "execution_count": 3,
   "id": "4e6ac11a-6ce8-4ca8-aa42-8a9dc31d5416",
   "metadata": {},
   "outputs": [
    {
     "data": {
      "text/plain": [
       "['background subtraction',\n",
       " 'Background_Subtraction_Tutorial_Scheme.png',\n",
       " 'dense optical flow',\n",
       " 'dense optical flow nvidia.png',\n",
       " 'diagram.kra',\n",
       " 'final chapter diagram.jpg',\n",
       " 'frame difference',\n",
       " 'mog and knn comparison.png',\n",
       " 'mog and yolo',\n",
       " 'MOG vs KNN',\n",
       " 'sparse optical flow']"
      ]
     },
     "execution_count": 3,
     "metadata": {},
     "output_type": "execute_result"
    }
   ],
   "source": [
    "os.listdir('saved images for essay')"
   ]
  },
  {
   "cell_type": "code",
   "execution_count": 4,
   "id": "8ad35388-66f2-44cf-9c8b-7b67327b7ac3",
   "metadata": {},
   "outputs": [],
   "source": [
    "video_num = 5\n",
    "cap = cv2.VideoCapture(video_files[video_num])\n",
    "\n",
    "ret, old_frame = cap.read()\n",
    "height, width, layers = old_frame.shape\n",
    "new_h = 300 #int(height / 3)\n",
    "new_w = 630 #int(width / 3)\n",
    "old_frame = cv2.resize(old_frame, (new_w, new_h))\n",
    "old_gray = cv2.cvtColor(old_frame, cv2.COLOR_BGR2GRAY)\n",
    "\n",
    "count = 0\n",
    "\n",
    "while(cap.isOpened()):\n",
    "    \n",
    "    ret, frame = cap.read()\n",
    "    if ret == True:\n",
    "        count += 1\n",
    "\n",
    "        frame = cv2.resize(frame, (int(new_w), int(new_h)))\n",
    "        gray = cv2.cvtColor(frame, cv2.COLOR_BGR2GRAY)\n",
    "        \n",
    "        delta_frame = cv2.absdiff(gray, old_gray)\n",
    "        Mn = cv2.threshold(delta_frame, 35, 255, cv2.THRESH_BINARY)[1]\n",
    "\n",
    "        contours, hierarchy = cv2.findContours(Mn, cv2.RETR_EXTERNAL, cv2.CHAIN_APPROX_SIMPLE)\n",
    "        bbox_frame = frame.copy()\n",
    "        for contour in contours:\n",
    "                if cv2.contourArea(contour) < 25:\n",
    "                    continue\n",
    "\n",
    "                # get the xmin, ymin, width, and height coordinates from the contours\n",
    "                (x, y, w, h) = cv2.boundingRect(contour)\n",
    "                # draw the bounding boxes\n",
    "                cv2.rectangle(bbox_frame, (x, y), (x+w, y+h), (0, 255, 0), 2)\n",
    "\n",
    "        \n",
    "        cv2.imshow('Original video',frame)\n",
    "        cv2.imshow('Difference video', delta_frame)\n",
    "        cv2.imshow('Motion depicted', Mn)\n",
    "        cv2.imshow('Bounding boxes', bbox_frame)\n",
    "\n",
    "        pressedKey = cv2.waitKey(30) & 0xFF\n",
    "        if pressedKey == ord('q'):\n",
    "            break\n",
    "        elif pressedKey == ord('s'):\n",
    "            cv2.imwrite(f'saved images for essay/frame difference/{video_num}_{count}_Original_Frame.jpg',frame)\n",
    "            cv2.imwrite(f'saved images for essay/frame difference/{video_num}_{count}_Difference_Frame.jpg', delta_frame)\n",
    "            cv2.imwrite(f'saved images for essay/frame difference/{video_num}_{count}_Motion Depicted.jpg', Mn)\n",
    "            cv2.imwrite(f'saved images for essay/frame difference/{video_num}_{count}_Bounding Boxes.jpg', bbox_frame)\n",
    "\n",
    "        old_gray = gray.copy()\n",
    "\n",
    "    else:\n",
    "        break\n",
    "\n",
    "        \n",
    " \n",
    "cap.release()\n",
    " \n",
    "cv2.destroyAllWindows()"
   ]
  },
  {
   "cell_type": "code",
   "execution_count": null,
   "id": "c8bc0bd6-b3f3-4026-8a5d-eaaef60e00d0",
   "metadata": {},
   "outputs": [],
   "source": []
  },
  {
   "cell_type": "code",
   "execution_count": null,
   "id": "4b5565d0-896f-4032-a42f-fcfe21f5d48c",
   "metadata": {},
   "outputs": [],
   "source": []
  }
 ],
 "metadata": {
  "kernelspec": {
   "display_name": "Python 3 (ipykernel)",
   "language": "python",
   "name": "python3"
  },
  "language_info": {
   "codemirror_mode": {
    "name": "ipython",
    "version": 3
   },
   "file_extension": ".py",
   "mimetype": "text/x-python",
   "name": "python",
   "nbconvert_exporter": "python",
   "pygments_lexer": "ipython3",
   "version": "3.12.2"
  }
 },
 "nbformat": 4,
 "nbformat_minor": 5
}
