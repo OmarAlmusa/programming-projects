{
 "cells": [
  {
   "cell_type": "code",
   "execution_count": 1,
   "id": "52acf4fe-f441-4b27-9b2d-d7d2071ad07c",
   "metadata": {},
   "outputs": [],
   "source": [
    "import numpy as np\n",
    "\n",
    "from collections import deque\n",
    "\n",
    "import matplotlib.pyplot as plt\n",
    "%matplotlib inline\n",
    "\n",
    "# PyTorch\n",
    "import torch\n",
    "import torch.nn as nn\n",
    "import torch.nn.functional as F\n",
    "import torch.optim as optim\n",
    "from torch.distributions import Categorical\n",
    "\n",
    "from PIL import Image, ImageOps\n",
    "\n",
    "from tqdm import tqdm\n",
    "\n",
    "# Gym\n",
    "import gymnasium as gym\n",
    "\n",
    "import cv2"
   ]
  },
  {
   "cell_type": "code",
   "execution_count": 2,
   "id": "cb98beec-51c1-48d9-9831-86683417e214",
   "metadata": {},
   "outputs": [],
   "source": [
    "env_id = \"ALE/Assault-v5\"\n",
    "\n",
    "env = gym.make(env_id, render_mode=\"rgb_array\")"
   ]
  },
  {
   "cell_type": "code",
   "execution_count": 3,
   "id": "c1bdefe2-b5c4-43c2-8b50-5b6ecb1fcfec",
   "metadata": {},
   "outputs": [
    {
     "name": "stderr",
     "output_type": "stream",
     "text": [
      "C:\\Users\\An_asus\\anaconda3\\envs\\reinforcement-learning\\Lib\\site-packages\\gymnasium\\utils\\passive_env_checker.py:335: UserWarning: \u001b[33mWARN: No render fps was declared in the environment (env.metadata['render_fps'] is None or not defined), rendering may occur at inconsistent fps.\u001b[0m\n",
      "  logger.warn(\n"
     ]
    },
    {
     "name": "stdout",
     "output_type": "stream",
     "text": [
      "189.0\n"
     ]
    }
   ],
   "source": [
    "state, info = env.reset()\n",
    "\n",
    "total_reward = 0\n",
    "\n",
    "for _ in range(500):\n",
    "    \n",
    "    action = env.action_space.sample()\n",
    "    n_state, reward, terminated, truncated, info = env.step(action)\n",
    "\n",
    "    frame = env.render()\n",
    "    frame = cv2.cvtColor(frame, cv2.COLOR_RGB2BGR)\n",
    "    frame = cv2.resize(frame, (320, 420))\n",
    "    frame = cv2.putText(frame, f'Action taken: {action}  Reward: {reward}', (10, 10), cv2.FONT_HERSHEY_SIMPLEX, 0.5, (0, 0, 255), 1, cv2.LINE_AA) \n",
    "    cv2.imshow(\"gameplay\", frame)\n",
    "    pressedKey = cv2.waitKey(60) & 0xFF\n",
    "    if pressedKey == ord('q'):\n",
    "        break\n",
    "        \n",
    "    total_reward += reward\n",
    "    if terminated or truncated:\n",
    "            break\n",
    "        \n",
    "    state = n_state\n",
    "    \n",
    "cv2.destroyAllWindows()\n",
    "\n",
    "print(total_reward)"
   ]
  },
  {
   "cell_type": "code",
   "execution_count": 4,
   "id": "bf40f58a-7069-4840-b7a9-01f886d73b9e",
   "metadata": {},
   "outputs": [],
   "source": [
    "def process_image(img, size=(84, 84)):\n",
    "    img = Image.fromarray(img)\n",
    "    img = ImageOps.grayscale(img).resize((size[0], size[1]))\n",
    "    img = np.array(img)\n",
    "    return torch.tensor(img, dtype=torch.float) / 255.0"
   ]
  },
  {
   "cell_type": "code",
   "execution_count": 5,
   "id": "ac85d3d8-40cb-4150-b712-e99a2f6ee552",
   "metadata": {},
   "outputs": [],
   "source": [
    "class Policy(torch.nn.Module):\n",
    "    def __init__(self, in_dim=1, out_dim=env.action_space.n):\n",
    "        super(Policy, self).__init__()\n",
    "        self.conv_net = torch.nn.Sequential(\n",
    "            torch.nn.Conv2d(in_dim, 4, 3),\n",
    "            torch.nn.MaxPool2d(2),\n",
    "            torch.nn.ReLU(),\n",
    "            torch.nn.Conv2d(4, 8, 3),\n",
    "            torch.nn.MaxPool2d(2),\n",
    "            torch.nn.ReLU(),\n",
    "            torch.nn.Conv2d(8, 16, 3),\n",
    "            torch.nn.MaxPool2d(2),\n",
    "            torch.nn.ReLU()\n",
    "        )\n",
    "\n",
    "        self.fc = torch.nn.Sequential(\n",
    "            torch.nn.Linear(1024, 256),\n",
    "            torch.nn.ReLU(),\n",
    "            torch.nn.Linear(256, out_dim)\n",
    "        )\n",
    "\n",
    "    def forward(self, x):\n",
    "        conv_out = self.conv_net(x)\n",
    "        flattened = torch.flatten(conv_out, start_dim=1)\n",
    "        fc_out = self.fc(flattened)\n",
    "        return torch.nn.functional.softmax(fc_out, dim=1)\n",
    "        #return fc_out\n",
    "\n",
    "    def act(self, state):\n",
    "        #state = torch.from_numpy(state).float().unsqueeze(0).to(device)\n",
    "        probs = self.forward(state)\n",
    "        m = Categorical(probs)\n",
    "        action = m.sample()\n",
    "        return action.item(), m.log_prob(action)"
   ]
  },
  {
   "cell_type": "code",
   "execution_count": 6,
   "id": "dcfcd93c-ff49-4122-88e4-1c65879ff7de",
   "metadata": {},
   "outputs": [],
   "source": [
    "def reinforce(policy, optimizer, n_training_episodes, max_t, gamma, print_every):\n",
    "    scores_deque = deque(maxlen=100)\n",
    "    scores = []\n",
    "    \n",
    "    for i_episode in tqdm(range(1, n_training_episodes+1)):\n",
    "        saved_log_probs = []\n",
    "        rewards = []\n",
    "        state, info = env.reset()\n",
    "        step = 0\n",
    "        while True:\n",
    "            step+=1\n",
    "            processed_state = process_image(state).unsqueeze(0).unsqueeze(0).to(device)\n",
    "            action, log_prob = policy.act(processed_state)\n",
    "            saved_log_probs.append(log_prob)\n",
    "            state, reward, terminated, truncated, info = env.step(action)\n",
    "            rewards.append(reward)\n",
    "            if terminated or truncated:\n",
    "                break\n",
    "        scores_deque.append(sum(rewards))\n",
    "        scores.append(sum(rewards))\n",
    "        \n",
    "        returns = deque(maxlen=step)\n",
    "        n_steps = len(rewards)\n",
    "        \n",
    "        for t in range(n_steps)[::-1]:\n",
    "            disc_return_t = returns[0] if len(returns)>0 else 0\n",
    "            returns.appendleft(gamma*disc_return_t+rewards[t])\n",
    "            \n",
    "        eps = np.finfo(np.float32).eps.item()\n",
    "        \n",
    "        returns = torch.tensor(returns)\n",
    "        returns = (returns - returns.mean()) / (returns.std() + eps)\n",
    "        \n",
    "        policy_loss = []\n",
    "        for log_prob, disc_return in zip(saved_log_probs, returns):\n",
    "            policy_loss.append(-log_prob * disc_return)\n",
    "        policy_loss = torch.cat(policy_loss).sum()\n",
    "        \n",
    "        optimizer.zero_grad()\n",
    "        policy_loss.backward()\n",
    "        optimizer.step()\n",
    "        \n",
    "        if i_episode % print_every == 0:\n",
    "            print('Episode {}\\tAverage Score: {:.2f}'.format(i_episode, np.mean(scores_deque)))\n",
    "    \n",
    "    return scores"
   ]
  },
  {
   "cell_type": "code",
   "execution_count": 7,
   "id": "10085856-48e4-478e-9076-56ece3810918",
   "metadata": {},
   "outputs": [
    {
     "data": {
      "text/plain": [
       "'cuda'"
      ]
     },
     "execution_count": 7,
     "metadata": {},
     "output_type": "execute_result"
    }
   ],
   "source": [
    "device = \"cuda\" if torch.cuda.is_available() else \"cpu\"\n",
    "device"
   ]
  },
  {
   "cell_type": "code",
   "execution_count": 13,
   "id": "d0a47edd-c3a1-4b2d-9e9c-e49f2291b126",
   "metadata": {},
   "outputs": [],
   "source": [
    "hyperparameters = {\n",
    "    \"n_training_episodes\": 300,\n",
    "    \"n_evaluation_episodes\": 10,\n",
    "    \"max_t\": 1000,\n",
    "    \"gamma\": 1.0,\n",
    "    \"lr\": 1e-2,\n",
    "    \"env_id\": env_id,\n",
    "}"
   ]
  },
  {
   "cell_type": "code",
   "execution_count": 14,
   "id": "5977f351-892c-490a-a792-28bd0d2de23d",
   "metadata": {},
   "outputs": [],
   "source": [
    "policy = Policy().to(device)\n",
    "\n",
    "optimizer = optim.Adam(policy.parameters(), lr=hyperparameters[\"lr\"])"
   ]
  },
  {
   "cell_type": "code",
   "execution_count": 15,
   "id": "b470d654-7464-48f6-b184-b53a450d5772",
   "metadata": {},
   "outputs": [
    {
     "name": "stderr",
     "output_type": "stream",
     "text": [
      " 33%|██████████████████████████▋                                                     | 100/300 [06:26<14:25,  4.33s/it]"
     ]
    },
    {
     "name": "stdout",
     "output_type": "stream",
     "text": [
      "Episode 100\tAverage Score: 225.95\n"
     ]
    },
    {
     "name": "stderr",
     "output_type": "stream",
     "text": [
      " 67%|█████████████████████████████████████████████████████▎                          | 200/300 [13:43<07:09,  4.30s/it]"
     ]
    },
    {
     "name": "stdout",
     "output_type": "stream",
     "text": [
      "Episode 200\tAverage Score: 285.00\n"
     ]
    },
    {
     "name": "stderr",
     "output_type": "stream",
     "text": [
      "100%|████████████████████████████████████████████████████████████████████████████████| 300/300 [20:50<00:00,  4.17s/it]"
     ]
    },
    {
     "name": "stdout",
     "output_type": "stream",
     "text": [
      "Episode 300\tAverage Score: 285.00\n"
     ]
    },
    {
     "name": "stderr",
     "output_type": "stream",
     "text": [
      "\n"
     ]
    }
   ],
   "source": [
    "scores = reinforce(\n",
    "    policy,\n",
    "    optimizer,\n",
    "    hyperparameters[\"n_training_episodes\"],\n",
    "    hyperparameters[\"max_t\"],\n",
    "    hyperparameters[\"gamma\"],\n",
    "    100\n",
    ")"
   ]
  },
  {
   "cell_type": "code",
   "execution_count": 16,
   "id": "ac63bb27-34ac-49fd-b6fd-d7593b24f094",
   "metadata": {},
   "outputs": [],
   "source": [
    "torch.save(policy.state_dict(), \"policy assault v5 VERSION_2.pt\")"
   ]
  },
  {
   "cell_type": "code",
   "execution_count": 17,
   "id": "18409639-66f6-46dc-a256-4ede0293c3dc",
   "metadata": {},
   "outputs": [],
   "source": [
    "def evaluate_agent(env, max_steps, n_eval_episodes, policy):\n",
    "    episode_rewards = []\n",
    "    for episode in tqdm(range(n_eval_episodes)):\n",
    "        state, info = env.reset()\n",
    "        step = 0\n",
    "        terminated = False\n",
    "        truncated = False\n",
    "        total_rewards_ep = 0\n",
    "        \n",
    "        while True:\n",
    "            processed_state = process_image(state).unsqueeze(0).unsqueeze(0).to(device)\n",
    "            action, _ = policy.act(processed_state)\n",
    "            new_state, reward, terminated, truncated, info = env.step(action)\n",
    "            total_rewards_ep+= reward\n",
    "            \n",
    "            if terminated or truncated:\n",
    "                break\n",
    "            state = new_state\n",
    "            \n",
    "        episode_rewards.append(total_rewards_ep)\n",
    "    mean_reward = np.mean(episode_rewards)\n",
    "    std_reward = np.std(episode_rewards)\n",
    "    \n",
    "    return mean_reward, std_reward"
   ]
  },
  {
   "cell_type": "code",
   "execution_count": 18,
   "id": "9307d46f-4f71-48d8-8dd9-c86121f582ea",
   "metadata": {},
   "outputs": [
    {
     "name": "stderr",
     "output_type": "stream",
     "text": [
      "100%|██████████████████████████████████████████████████████████████████████████████████| 10/10 [00:35<00:00,  3.51s/it]\n"
     ]
    },
    {
     "data": {
      "text/plain": [
       "(285.0, 0.0)"
      ]
     },
     "execution_count": 18,
     "metadata": {},
     "output_type": "execute_result"
    }
   ],
   "source": [
    "evaluate_agent(\n",
    "    env,\n",
    "    hyperparameters[\"max_t\"],\n",
    "    hyperparameters[\"n_evaluation_episodes\"],\n",
    "    policy\n",
    ")"
   ]
  },
  {
   "cell_type": "code",
   "execution_count": 13,
   "id": "fd4b7b4a-07d9-49c9-b04f-9c60ce8fb986",
   "metadata": {},
   "outputs": [],
   "source": [
    "policy = Policy()"
   ]
  },
  {
   "cell_type": "code",
   "execution_count": 14,
   "id": "ac57267b-f8dc-4045-80e6-bad87420bccc",
   "metadata": {},
   "outputs": [
    {
     "data": {
      "text/plain": [
       "<All keys matched successfully>"
      ]
     },
     "execution_count": 14,
     "metadata": {},
     "output_type": "execute_result"
    }
   ],
   "source": [
    "policy.load_state_dict(torch.load(\"policy assault v5.pt\"))"
   ]
  },
  {
   "cell_type": "code",
   "execution_count": 15,
   "id": "04dd5180-15a8-44ec-a5a2-82a2db105127",
   "metadata": {},
   "outputs": [
    {
     "data": {
      "text/plain": [
       "Policy(\n",
       "  (conv_net): Sequential(\n",
       "    (0): Conv2d(1, 4, kernel_size=(3, 3), stride=(1, 1))\n",
       "    (1): MaxPool2d(kernel_size=2, stride=2, padding=0, dilation=1, ceil_mode=False)\n",
       "    (2): ReLU()\n",
       "    (3): Conv2d(4, 8, kernel_size=(3, 3), stride=(1, 1))\n",
       "    (4): MaxPool2d(kernel_size=2, stride=2, padding=0, dilation=1, ceil_mode=False)\n",
       "    (5): ReLU()\n",
       "    (6): Conv2d(8, 16, kernel_size=(3, 3), stride=(1, 1))\n",
       "    (7): MaxPool2d(kernel_size=2, stride=2, padding=0, dilation=1, ceil_mode=False)\n",
       "    (8): ReLU()\n",
       "  )\n",
       "  (fc): Sequential(\n",
       "    (0): Linear(in_features=1024, out_features=256, bias=True)\n",
       "    (1): ReLU()\n",
       "    (2): Linear(in_features=256, out_features=7, bias=True)\n",
       "  )\n",
       ")"
      ]
     },
     "execution_count": 15,
     "metadata": {},
     "output_type": "execute_result"
    }
   ],
   "source": [
    "policy.to('cpu')"
   ]
  },
  {
   "cell_type": "code",
   "execution_count": 16,
   "id": "e656a279-ddca-4dd9-a00c-945e38cb4f85",
   "metadata": {},
   "outputs": [
    {
     "name": "stdout",
     "output_type": "stream",
     "text": [
      "357.0\n"
     ]
    }
   ],
   "source": [
    "state, info = env.reset()\n",
    "terminated = False\n",
    "truncated = False\n",
    "step = 0\n",
    "\n",
    "episode_reward = 0\n",
    "\n",
    "while True:\n",
    "    \n",
    "    processed_state = process_image(state).unsqueeze(0).unsqueeze(0)#.to(DEVICE)\n",
    "    with torch.no_grad():\n",
    "        action, _ = policy.act(processed_state)\n",
    "    n_state, reward, terminated, truncated, info = env.step(action)\n",
    "\n",
    "    frame = env.render()\n",
    "    frame = cv2.cvtColor(frame, cv2.COLOR_RGB2BGR)\n",
    "    frame = cv2.resize(frame, (320, 420))\n",
    "    frame = cv2.putText(frame, f'Action taken: {action}  Reward: {reward}', (10, 10), cv2.FONT_HERSHEY_SIMPLEX, 0.5, (0, 0, 255), 1, cv2.LINE_AA)\n",
    "    cv2.imshow(\"gameplay\", frame)\n",
    "    pressedKey = cv2.waitKey(60) & 0xFF\n",
    "    if pressedKey == ord('q'):\n",
    "        break\n",
    "\n",
    "    episode_reward += reward\n",
    "\n",
    "    if terminated or truncated:\n",
    "        break\n",
    "\n",
    "    state = n_state\n",
    "\n",
    "cv2.destroyAllWindows()\n",
    "print(episode_reward)"
   ]
  },
  {
   "cell_type": "code",
   "execution_count": null,
   "id": "a59e88e3-8ec5-4064-b180-038fad479de3",
   "metadata": {},
   "outputs": [],
   "source": []
  }
 ],
 "metadata": {
  "kernelspec": {
   "display_name": "Python 3 (ipykernel)",
   "language": "python",
   "name": "python3"
  },
  "language_info": {
   "codemirror_mode": {
    "name": "ipython",
    "version": 3
   },
   "file_extension": ".py",
   "mimetype": "text/x-python",
   "name": "python",
   "nbconvert_exporter": "python",
   "pygments_lexer": "ipython3",
   "version": "3.11.9"
  }
 },
 "nbformat": 4,
 "nbformat_minor": 5
}
