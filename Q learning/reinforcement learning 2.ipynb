{
 "cells": [
  {
   "cell_type": "code",
   "execution_count": 4,
   "id": "444df1af",
   "metadata": {},
   "outputs": [],
   "source": [
    "import numpy as np\n",
    "from scipy import stats\n",
    "import random\n",
    "import matplotlib.pyplot as plt"
   ]
  },
  {
   "cell_type": "code",
   "execution_count": 14,
   "id": "1f371fe2",
   "metadata": {},
   "outputs": [],
   "source": [
    "def get_reward(prob, n=10):\n",
    "    reward = 0\n",
    "    for i in range(n):\n",
    "        if random.random() < prob:\n",
    "            reward += 1\n",
    "    return reward"
   ]
  },
  {
   "cell_type": "code",
   "execution_count": 50,
   "id": "9506a1bb",
   "metadata": {},
   "outputs": [],
   "source": [
    "def update_record(record, action, reward):\n",
    "    k = record[action, 0]\n",
    "    mean_reward = (k*(record[action, 1]) + reward) / (k+1)\n",
    "    record[action] = [k+1, mean_reward]\n",
    "    return record"
   ]
  },
  {
   "cell_type": "code",
   "execution_count": 63,
   "id": "617ebfa3",
   "metadata": {},
   "outputs": [],
   "source": [
    "def get_best_arm(record):\n",
    "    return np.argmax(record[:, 1], axis=0)"
   ]
  },
  {
   "cell_type": "code",
   "execution_count": 78,
   "id": "2e71c9e7",
   "metadata": {},
   "outputs": [
    {
     "data": {
      "text/plain": [
       "<matplotlib.collections.PathCollection at 0x2284eaff1f0>"
      ]
     },
     "execution_count": 78,
     "metadata": {},
     "output_type": "execute_result"
    },
    {
     "data": {
      "image/png": "[encoded data removed]",
      "text/plain": [
       "<Figure size 432x288 with 1 Axes>"
      ]
     },
     "metadata": {
      "needs_background": "light"
     },
     "output_type": "display_data"
    }
   ],
   "source": [
    "n = 10\n",
    "probs = np.random.rand(n)\n",
    "eps = 0.2\n",
    "record = np.zeros((n, 2))\n",
    "rewards = [0]\n",
    "\n",
    "\n",
    "fig, ax = plt.subplots(1,1)\n",
    "ax.set_xlabel(\"Plays\")\n",
    "ax.set_ylabel(\"Avg Reward\")\n",
    "\n",
    "for t in range(500):\n",
    "    if random.random() > eps:\n",
    "        choice = get_best_arm(record)\n",
    "    else:\n",
    "        choice = np.random.randint(10)\n",
    "        \n",
    "    r = get_reward(probs[choice])\n",
    "    record = update_record(record, choice, r)\n",
    "    mean_reward = ((t+1) * rewards[-1] + r) / (t+2)\n",
    "    rewards.append(mean_reward)\n",
    "\n",
    "ax.scatter(np.arange(len(rewards)), rewards)\n",
    "    "
   ]
  },
  {
   "cell_type": "code",
   "execution_count": 95,
   "id": "734cd840",
   "metadata": {},
   "outputs": [],
   "source": [
    "def softmax(vals, tau=1.12):\n",
    "    return np.exp(vals/tau) / np.sum(np.exp(vals/tau))"
   ]
  },
  {
   "cell_type": "code",
   "execution_count": 120,
   "id": "bae2301a",
   "metadata": {},
   "outputs": [
    {
     "data": {
      "text/plain": [
       "<matplotlib.collections.PathCollection at 0x2284fef8370>"
      ]
     },
     "execution_count": 120,
     "metadata": {},
     "output_type": "execute_result"
    },
    {
     "data": {
      "image/png": "[encoded data removed]",
      "text/plain": [
       "<Figure size 648x360 with 1 Axes>"
      ]
     },
     "metadata": {
      "needs_background": "light"
     },
     "output_type": "display_data"
    }
   ],
   "source": [
    "n = 10\n",
    "record = np.zeros((n, 2))\n",
    "rewards = [0]\n",
    "ran_probs = np.random.rand(n)\n",
    "\n",
    "fig, ax = plt.subplots(1,1)\n",
    "fig.set_size_inches(9,5)\n",
    "ax.set_xlabel(\"Plays\")\n",
    "ax.set_ylabel(\"Avg Reward\")\n",
    "\n",
    "for t in range(500):\n",
    "    probs = softmax(record[:, 1])\n",
    "    choice = np.random.choice(np.arange(n), p = probs)\n",
    "    r = get_reward(ran_probs[choice])\n",
    "    record = update_record(record, choice, r)\n",
    "    mean_reward = ((t+1) * rewards[-1] + r) / (t+2)\n",
    "    rewards.append(mean_reward)\n",
    "\n",
    "ax.scatter(np.arange(len(rewards)), rewards)\n",
    "    "
   ]
  },
  {
   "cell_type": "code",
   "execution_count": 121,
   "id": "b140d1c6",
   "metadata": {},
   "outputs": [
    {
     "data": {
      "text/plain": [
       "array([[377.        ,   8.25464191],\n",
       "       [  0.        ,   0.        ],\n",
       "       [ 45.        ,   5.        ],\n",
       "       [ 20.        ,   6.65      ],\n",
       "       [  0.        ,   0.        ],\n",
       "       [  0.        ,   0.        ],\n",
       "       [ 44.        ,   5.13636364],\n",
       "       [  0.        ,   0.        ],\n",
       "       [ 14.        ,   6.78571429],\n",
       "       [  0.        ,   0.        ]])"
      ]
     },
     "execution_count": 121,
     "metadata": {},
     "output_type": "execute_result"
    }
   ],
   "source": [
    "record"
   ]
  },
  {
   "cell_type": "code",
   "execution_count": null,
   "id": "d675384e",
   "metadata": {},
   "outputs": [],
   "source": []
  }
 ],
 "metadata": {
  "kernelspec": {
   "display_name": "Python 3 (ipykernel)",
   "language": "python",
   "name": "python3"
  },
  "language_info": {
   "codemirror_mode": {
    "name": "ipython",
    "version": 3
   },
   "file_extension": ".py",
   "mimetype": "text/x-python",
   "name": "python",
   "nbconvert_exporter": "python",
   "pygments_lexer": "ipython3",
   "version": "3.9.6"
  }
 },
 "nbformat": 4,
 "nbformat_minor": 5
}
