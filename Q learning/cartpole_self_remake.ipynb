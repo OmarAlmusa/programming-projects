{
 "cells": [
  {
   "cell_type": "code",
   "execution_count": 1,
   "id": "75c1c3f4",
   "metadata": {},
   "outputs": [],
   "source": [
    "import gym\n",
    "from collections import namedtuple\n",
    "import torch\n",
    "import torch.nn as nn\n",
    "import torch.optim as optim\n",
    "\n",
    "import numpy as np"
   ]
  },
  {
   "cell_type": "code",
   "execution_count": 2,
   "id": "b04d55a1",
   "metadata": {},
   "outputs": [],
   "source": [
    "batch_size = 16\n",
    "n_neurons = 64\n",
    "percentile = 70"
   ]
  },
  {
   "cell_type": "code",
   "execution_count": 53,
   "id": "ca216662",
   "metadata": {},
   "outputs": [],
   "source": [
    "class model(nn.Module):\n",
    "    def __init__(self, obs_size, n_neurons, n_actions):\n",
    "        super(model, self).__init__()\n",
    "        \n",
    "        self.pipe = nn.Sequential(\n",
    "            nn.Linear(obs_size, n_neurons),\n",
    "            nn.ReLU(),\n",
    "            nn.Linear(n_neurons, n_actions)\n",
    "        )\n",
    "    \n",
    "    def forward(self, x):\n",
    "        return self.pipe(x)"
   ]
  },
  {
   "cell_type": "code",
   "execution_count": 54,
   "id": "18df2033",
   "metadata": {},
   "outputs": [],
   "source": [
    "Episode_Step = namedtuple('Episode_Step', ['observations', 'actions'])\n",
    "Episode = namedtuple('Episode', ['rewards', 'episode_step'])"
   ]
  },
  {
   "cell_type": "code",
   "execution_count": 108,
   "id": "bb72d4bd",
   "metadata": {},
   "outputs": [],
   "source": [
    "def iterate_batchs(env, model, batch_size):\n",
    "    batch = []\n",
    "    episode_reward = 0.0\n",
    "    steps = []\n",
    "    obs = env.reset()\n",
    "    sm = nn.Softmax(dim=1)\n",
    "    \n",
    "    while True:\n",
    "        obs_v = torch.FloatTensor(torch.tensor(obs).unsqueeze(0))\n",
    "        #obs_v = torch.tensor(float(e.observation_space.sample())).unsqueeze(0)\n",
    "        actions_prob_v = sm(model(obs_v))\n",
    "        #actions_prob_v = model(obs_v)\n",
    "        actions_prob = actions_prob_v.data.numpy()\n",
    "        \n",
    "        action = np.random.choice(len(actions_prob), p=actions_prob)\n",
    "        next_obs, reward, is_done, _ = env.step(action)\n",
    "        episode_reward += reward\n",
    "        steps.append(Episode_Step(observations = obs, actions = action))\n",
    "        \n",
    "        if is_done:\n",
    "            batch.append(Episode(rewards=episode_reward, episode_step=steps))\n",
    "            episode_reward = 0.0\n",
    "            next_obs = env.reset()\n",
    "            steps = []\n",
    "            \n",
    "            if len(batch) == batch_size:\n",
    "                yield batch\n",
    "                batch = []\n",
    "        \n",
    "        obs = next_obs"
   ]
  },
  {
   "cell_type": "code",
   "execution_count": 109,
   "id": "234596ce",
   "metadata": {},
   "outputs": [],
   "source": [
    "def filter_batch(batch, percentile):\n",
    "    rewards = list(map(lambda s: s.rewards, batch))\n",
    "    reward_bound = np.percentile(rewards, percentile)\n",
    "    reward_mean = float(np.mean(rewards))\n",
    "    \n",
    "    train_obs = []\n",
    "    train_act = []\n",
    "    for example in batch:\n",
    "        if example.rewards < reward_bound:\n",
    "            continue\n",
    "        train_obs.extend(map(lambda step: step.observations, example.episode_step))\n",
    "        train_act.extend(map(lambda step: step.actions, example.episode_step))\n",
    "    \n",
    "    train_obs_v = torch.FloatTensor(train_obs)\n",
    "    train_act_v = torch.LongTensor(train_act)\n",
    "    \n",
    "    return train_obs_v, train_act_v, reward_bound, reward_mean"
   ]
  },
  {
   "cell_type": "code",
   "execution_count": null,
   "id": "96dbf8f4",
   "metadata": {
    "scrolled": true
   },
   "outputs": [],
   "source": [
    "if __name__ == \"__main__\":\n",
    "    env = gym.make('CartPole-v0')\n",
    "    obs_size = env.observation_space.shape[0]\n",
    "    n_actions = env.action_space.n\n",
    "    \n",
    "    net = model(obs_size, n_neurons, n_actions)\n",
    "    objective = nn.CrossEntropyLoss()\n",
    "    optimizer = optim.Adam(net.parameters(), lr=0.01)\n",
    "    #writer = SummaryWriter('cartpole')\n",
    "\n",
    "    for iter_no, batch in enumerate(iterate_batchs(env, net, batch_size)):\n",
    "        env.render()\n",
    "        train_obs, train_act, reward_b, reward_m = filter_batch(batch, percentile)\n",
    "        \n",
    "        act_preds = net(train_obs)\n",
    "        \n",
    "        loss = objective(act_preds, train_act)\n",
    "        \n",
    "        optimizer.zero_grad()\n",
    "        \n",
    "        loss.backward()\n",
    "        \n",
    "        optimizer.step()\n",
    "        \n",
    "        print(\"%d: loss=%.3f, reward_mean=%.1f, reward_bound=%.1f\" % (\n",
    "                iter_no, loss.item(), reward_m, reward_b))\n",
    "        #writer.add_scalar(\"loss\", loss_v.item(), iter_no)\n",
    "        #writer.add_scalar(\"reward_bound\", reward_b, iter_no)\n",
    "        #writer.add_scalar(\"reward_mean\", reward_m, iter_no)\n",
    "        if reward_m > 300:\n",
    "            print(\"Solved!\")\n",
    "            break\n",
    "            \n",
    "    #writer.close()\n",
    "    env.close()   "
   ]
  },
  {
   "cell_type": "code",
   "execution_count": 48,
   "id": "79f29de8",
   "metadata": {},
   "outputs": [],
   "source": [
    "#debugging:\n",
    "id_, batch = next(enumerate(iterate_batchs(env, net, batch_size)))\n",
    "train_obs, train_act, reward_b, reward_m = filter_batch(batch, percentile)"
   ]
  },
  {
   "cell_type": "code",
   "execution_count": 112,
   "id": "8d28fbd1",
   "metadata": {},
   "outputs": [
    {
     "name": "stderr",
     "output_type": "stream",
     "text": [
      "c:\\users\\an_asus\\appdata\\local\\programs\\python\\python39\\lib\\site-packages\\gym\\envs\\registration.py:505: UserWarning: \u001b[33mWARN: The environment CartPole-v0 is out of date. You should consider upgrading to version `v1` with the environment ID `CartPole-v1`.\u001b[0m\n",
      "  logger.warn(\n"
     ]
    }
   ],
   "source": [
    "env = gym.make('CartPole-v0')\n",
    "obs = env.reset()\n",
    "sm = nn.Softmax(dim = 1)\n",
    "\n",
    "for t in range(1000):\n",
    "    with torch.no_grad():\n",
    "        env.render()\n",
    "        obs = torch.FloatTensor(torch.tensor(obs).unsqueeze(0))\n",
    "        action_v = sm(net(obs))\n",
    "        act_probs = action_v.data.numpy()[0]\n",
    "        action = np.random.choice(len(act_probs), p=act_probs)\n",
    "        obs, reward, is_done, _ = env.step(action)\n",
    "env.close()"
   ]
  },
  {
   "cell_type": "code",
   "execution_count": null,
   "id": "933a1ca6",
   "metadata": {},
   "outputs": [],
   "source": []
  }
 ],
 "metadata": {
  "kernelspec": {
   "display_name": "Python 3 (ipykernel)",
   "language": "python",
   "name": "python3"
  },
  "language_info": {
   "codemirror_mode": {
    "name": "ipython",
    "version": 3
   },
   "file_extension": ".py",
   "mimetype": "text/x-python",
   "name": "python",
   "nbconvert_exporter": "python",
   "pygments_lexer": "ipython3",
   "version": "3.9.6"
  }
 },
 "nbformat": 4,
 "nbformat_minor": 5
}
